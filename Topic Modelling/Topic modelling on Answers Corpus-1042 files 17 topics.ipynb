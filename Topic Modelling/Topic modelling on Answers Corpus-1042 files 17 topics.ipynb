{
 "cells": [
  {
   "cell_type": "code",
   "execution_count": 1,
   "id": "bb6e3065",
   "metadata": {},
   "outputs": [
    {
     "name": "stdout",
     "output_type": "stream",
     "text": [
      "\n"
     ]
    }
   ],
   "source": [
    "import json\n",
    "import os\n",
    "import glob\n",
    "import pprint\n",
    "\n",
    " \n",
    "count = 0\n",
    "answers_dict = {'narr_answers': []}\n",
    "path = r'C:\\\\Users\\\\maganti\\\\Documents\\\\INFO 5502 Chen Sir Project UNT\\\\Web Scraping Interviews\\\\Narrators Json Files-With Q&A'\n",
    "for filename in glob.glob(os.path.join(path, '*.json')): #only process .JSON files in folder.     \n",
    "    #print(filename)\n",
    "    narrators_answers_corpus = \"\"\n",
    "    with open(filename, mode = 'rb') as currentFile:\n",
    "        data = json.loads(currentFile.read())\n",
    "        try:\n",
    "            if data['transcript'] != {}:\n",
    "                for segment in data[\"transcript\"].keys():\n",
    "                    for question in data[\"transcript\"][segment]['Segment Q&A'].keys():\n",
    "                        narrators_answers_corpus = narrators_answers_corpus + \" \" + data[\"transcript\"][segment]['Segment Q&A'][question]\n",
    "                        count = count + 1                \n",
    "            else:\n",
    "                pass\n",
    "        except Exception as e:\n",
    "            print(e)\n",
    "            \n",
    "    answers_dict['narr_answers'].append(narrators_answers_corpus) \n",
    "\n",
    "print()\n"
   ]
  },
  {
   "cell_type": "code",
   "execution_count": 2,
   "id": "65a0ef21",
   "metadata": {},
   "outputs": [
    {
     "name": "stdout",
     "output_type": "stream",
     "text": [
      "(1042,)\n"
     ]
    }
   ],
   "source": [
    "import pandas as pd\n",
    "df = pd.DataFrame(answers_dict)\n",
    "df['narr_answers'] = df['narr_answers'].str.lower()\n",
    "print(df['narr_answers'].shape)"
   ]
  },
  {
   "cell_type": "code",
   "execution_count": 3,
   "id": "246aed9d",
   "metadata": {},
   "outputs": [
    {
     "name": "stderr",
     "output_type": "stream",
     "text": [
      "C:\\Users\\maganti\\AppData\\Local\\Temp/ipykernel_42948/1017421635.py:1: FutureWarning: The default value of regex will change from True to False in a future version.\n",
      "  df['narr_answers'] = df['narr_answers'].str.replace('[^a-zA-Z0-9 ]', '')\n"
     ]
    }
   ],
   "source": [
    "df['narr_answers'] = df['narr_answers'].str.replace('[^a-zA-Z0-9 ]', '')"
   ]
  },
  {
   "cell_type": "code",
   "execution_count": 5,
   "id": "35af3bf4",
   "metadata": {},
   "outputs": [],
   "source": [
    "from nltk.tokenize import RegexpTokenizer\n",
    "#from stop_words import get_stop_words\n",
    "from nltk.stem.wordnet import WordNetLemmatizer\n",
    "from gensim import corpora, models\n",
    "import pandas as pd\n",
    "import gensim\n",
    "import re\n",
    "import pyLDAvis#.gensim\n",
    "import pyLDAvis.gensim_models\n",
    "#from nltk.corpus import stopwords\n",
    "#stop_words = stopwords.words('english')\n",
    "#stop_words.extend(['from', 'subject', 're', 'edu', 'use'])"
   ]
  },
  {
   "cell_type": "code",
   "execution_count": 6,
   "id": "f43531ea",
   "metadata": {},
   "outputs": [],
   "source": [
    "from stop_words import get_stop_words\n",
    "from nltk.corpus import stopwords\n",
    "STOPWORDS = set(stopwords.words('english'))\n",
    "stop_words = list(get_stop_words('en'))"
   ]
  },
  {
   "cell_type": "code",
   "execution_count": 7,
   "id": "11850cad",
   "metadata": {},
   "outputs": [
    {
     "name": "stdout",
     "output_type": "stream",
     "text": [
      "{'been', 'y', 'further', 'don', \"mustn't\", 'these', 'and', 'll', \"wouldn't\", \"she's\", 'which', 'being', 'all', \"they'll\", 'on', 'both', 'into', \"why's\", 'most', \"doesn't\", 'itself', 'couldn', 'an', \"you're\", 'would', 'how', \"how's\", \"shouldn't\", \"we'd\", 'does', 'by', 'its', 'myself', \"that's\", 'i', 'yourself', 'we', 'didn', 'wasn', 'could', 'themselves', 'shouldn', 'now', \"let's\", \"they've\", 'ought', \"what's\", \"she'll\", 're', 'between', 'at', 'won', 'than', 'she', \"there's\", \"shan't\", \"couldn't\", 'with', 'other', \"wasn't\", 'about', 'who', 'doesn', 'his', 'having', 'up', 'no', 'very', 'this', 'few', 'some', 'what', 'below', \"haven't\", 'too', 'her', 'had', 'each', 'own', 'until', \"we're\", 'ours', \"when's\", 'can', 'above', 'did', \"isn't\", \"i'll\", \"won't\", \"we've\", 'him', 'doing', 'me', 'such', 'why', 'nor', 'ma', 'haven', 'against', 'needn', \"i'd\", 'of', 'a', 'but', \"can't\", \"you'd\", 'from', 'if', \"i'm\", 'cannot', 'weren', 'down', 've', 'have', 'where', 'yourselves', \"she'd\", 'or', 'mustn', \"that'll\", 'that', 'not', 'under', 'those', 'again', 'any', 'do', 'my', 'whom', 'more', 'hasn', 'has', 'isn', 'herself', \"he'd\", 'so', 'because', 's', 'are', \"you'll\", 'their', 'be', 'theirs', 'was', 'will', 'your', 'over', 'after', \"mightn't\", 'is', 'there', 'our', 'hadn', \"hadn't\", 'off', 'once', 'before', 'here', 'the', 'ourselves', \"should've\", 'out', 'mightn', 'am', 'just', 'himself', \"aren't\", 'wouldn', 't', 'ain', 'same', 'then', \"who's\", 'as', 'you', \"it's\", 'to', 'through', 'm', 'yours', 'he', 'shan', \"he's\", 'only', 'for', \"here's\", 'during', \"they're\", 'were', \"where's\", 'd', 'them', \"i've\", 'while', 'in', 'aren', 'it', \"he'll\", \"needn't\", 'when', \"weren't\", \"don't\", 'they', \"we'll\", 'o', \"they'd\", \"you've\", \"didn't\", 'should', \"hasn't\", 'hers'}\n",
      "<class 'list'>\n",
      "<class 'list'>\n",
      "211\n"
     ]
    }
   ],
   "source": [
    "print((set(list(STOPWORDS)) | set(list(stop_words))))\n",
    "stopwords = list(set(list(STOPWORDS)) | set(list(stop_words)))\n",
    "print(type(list(STOPWORDS)))\n",
    "print(type((stop_words)))\n",
    "print(len(stopwords))"
   ]
  },
  {
   "cell_type": "code",
   "execution_count": 8,
   "id": "1fd4e13b",
   "metadata": {},
   "outputs": [],
   "source": [
    "'''\n",
    "import re\n",
    "import nltk\n",
    "nltk.download('stopwords')\n",
    "from nltk.corpus import stopwords\n",
    "'''\n",
    "#stop_words = stopwords.words('english')\n",
    "stopwords = [re.sub('[^a-zA-Z0-9]+', '', word) for word in stopwords]"
   ]
  },
  {
   "cell_type": "code",
   "execution_count": 9,
   "id": "8f65ffca",
   "metadata": {},
   "outputs": [
    {
     "data": {
      "text/plain": [
       "211"
      ]
     },
     "execution_count": 9,
     "metadata": {},
     "output_type": "execute_result"
    }
   ],
   "source": [
    "len(stopwords)\n"
   ]
  },
  {
   "cell_type": "code",
   "execution_count": 10,
   "id": "35b350ec",
   "metadata": {},
   "outputs": [],
   "source": [
    "df['clean_narr_answers'] = df['narr_answers'].apply(lambda x: ' '.join([word for word in x.split() if word not in (stopwords)]))"
   ]
  },
  {
   "cell_type": "code",
   "execution_count": 12,
   "id": "400cdc15",
   "metadata": {
    "scrolled": true
   },
   "outputs": [],
   "source": [
    "texts = []\n",
    "lemmatizer = WordNetLemmatizer()\n",
    "# loop through document list\n",
    "for i in df['clean_narr_answers']:\n",
    "    # clean and tokenize document string\n",
    "    #raw = str(i[1]).lower()\n",
    "    #tokens = tokenizer.tokenize(raw)\n",
    "    tokens = i.split()\n",
    "    # remove stop words from tokens\n",
    "    #stop_words = stopwords.words('english')\n",
    "    #stopped_tokens = [raw for raw in tokens if not raw in stop_words]\n",
    "    \n",
    "    # remove stop words from tokens\n",
    "    #stopped_tokens_new = [raw for raw in stopped_tokens if not raw in remove_words]\n",
    "    \n",
    "    # lemmatize tokens\n",
    "    \n",
    "    lemma_tokens = [lemmatizer.lemmatize(token) for token in tokens]\n",
    "    \n",
    "    # remove word containing only single char\n",
    "    new_lemma_tokens = [raw for raw in lemma_tokens if not len(raw) == 1]\n",
    "    \n",
    "    lemmatized_string = \" \".join(token for token in new_lemma_tokens)\n",
    "    \n",
    "    \n",
    "    import nltk\n",
    "    #word_data = \"The best performance can bring in sky high success.\"\n",
    "    nltk_tokens = nltk.word_tokenize(lemmatized_string)\n",
    "    #print(list(nltk.bigrams(nltk_tokens)))\n",
    "    texts.append([ele[0]+ \" \" + ele[1] for ele in list(nltk.bigrams(nltk_tokens))])\n",
    "\n",
    "# sample data\n",
    "#print(texts[8])"
   ]
  },
  {
   "cell_type": "code",
   "execution_count": 13,
   "id": "8280bbd0",
   "metadata": {},
   "outputs": [],
   "source": [
    "# turn our tokenized documents into a id <-> term dictionary\n",
    "dictionary = corpora.Dictionary(texts)\n",
    "# convert tokenized documents into a document-term matrix\n",
    "corpus = [dictionary.doc2bow(text) for text in texts]"
   ]
  },
  {
   "cell_type": "code",
   "execution_count": null,
   "id": "09b854a7",
   "metadata": {},
   "outputs": [],
   "source": []
  },
  {
   "cell_type": "code",
   "execution_count": 14,
   "id": "e39666ae",
   "metadata": {},
   "outputs": [
    {
     "name": "stdout",
     "output_type": "stream",
     "text": [
      "[([(0.0017599323, 'jpn yeah'),\n",
      "   (0.0010459757, 'eng yeah'),\n",
      "   (0.00095675734, 'yeah jpn'),\n",
      "   (0.00091849465, 'jpn yes'),\n",
      "   (0.00063799665, 'yes jpn')],\n",
      "  1.0420000412636637e-09),\n",
      " ([(0.00298937, 'high school'),\n",
      "   (0.002573523, 'gon na'),\n",
      "   (0.0017688781, 'came back'),\n",
      "   (0.0016095599, 'thing like'),\n",
      "   (0.001585687, 'japanese american')],\n",
      "  -0.34094743048219117),\n",
      " ([(0.001233587, 'japanese american'),\n",
      "   (0.00079804176, 'high school'),\n",
      "   (0.00059451954, 'gon na'),\n",
      "   (0.00046987343, 'united state'),\n",
      "   (0.00046930774, 'thing like')],\n",
      "  -0.3594742795738793),\n",
      " ([(0.00076763757, 'high school'),\n",
      "   (0.000609936, 'japanese american'),\n",
      "   (0.0003955036, 'san francisco'),\n",
      "   (0.00031313, 'kind thing'),\n",
      "   (0.00030143952, 'los angeles')],\n",
      "  -0.7157598876365499),\n",
      " ([(2.7201146e-05, 'kamaboko white'),\n",
      "   (2.7138492e-05, 'white fish'),\n",
      "   (2.3001889e-05, 'frying pan'),\n",
      "   (1.38397545e-05, 'think surprised'),\n",
      "   (1.3839685e-05, 'get wholesale')],\n",
      "  -0.9574983475144091),\n",
      " ([(0.0001438113, 'city treasurer'),\n",
      "   (0.00013007222, 'merit saving'),\n",
      "   (0.00011771703, 'saving loan'),\n",
      "   (9.190862e-05, 'data entry'),\n",
      "   (6.550927e-05, 'taul watanabe')],\n",
      "  -4.523544879032337),\n",
      " ([(0.0005575978, 'supreme court'),\n",
      "   (0.00028408127, 'japanese american'),\n",
      "   (0.00020839441, 'law school'),\n",
      "   (0.00014749596, 'shall say'),\n",
      "   (0.00014172382, 'frank chin')],\n",
      "  -4.799708456323497),\n",
      " ([(0.00024565315, 'hood river'),\n",
      "   (0.0001865359, 'camp savage'),\n",
      "   (0.00018525297, 'japanese ancestry'),\n",
      "   (0.0001810311, 'united state'),\n",
      "   (0.00015776958, 'schofield barrack')],\n",
      "  -6.496587615641792),\n",
      " ([(6.512458e-05, 'book publishing'),\n",
      "   (6.438811e-05, 'van camp'),\n",
      "   (6.225979e-05, 'public policy'),\n",
      "   (5.188172e-05, 'matter public'),\n",
      "   (5.186794e-05, 'malcolm wallop')],\n",
      "  -8.939290458855938),\n",
      " ([(0.0002877761, 'supreme court'),\n",
      "   (0.00010153001, 'hunger strike'),\n",
      "   (9.701495e-05, 'japanese american'),\n",
      "   (8.888229e-05, 'kai group'),\n",
      "   (8.397919e-05, 'mr best')],\n",
      "  -9.046259257397633),\n",
      " ([(0.00037294804, 'united state'),\n",
      "   (0.00030930646, 'high school'),\n",
      "   (0.00030409335, 'san francisco'),\n",
      "   (0.00022954539, 'san mateo'),\n",
      "   (0.00022778651, 'mr sunderland')],\n",
      "  -9.585440973337553),\n",
      " ([(0.00032587597, 'japanese canadian'),\n",
      "   (0.00023733143, 'camera voice'),\n",
      "   (0.0002109142, 'official language'),\n",
      "   (0.00017375522, 'french canadian'),\n",
      "   (0.00016136366, 'canadian community')],\n",
      "  -9.642154014261246),\n",
      " ([(0.00013014313, 'table tennis'),\n",
      "   (0.00011050772, 'mr aebi'),\n",
      "   (9.912518e-05, 'larger society'),\n",
      "   (8.993462e-05, 'kan hall'),\n",
      "   (8.013527e-05, 'american society')],\n",
      "  -14.811152611426824),\n",
      " ([(0.00016604918, 'fort lupton'),\n",
      "   (0.00015504626, 'mp officer'),\n",
      "   (0.00014152666, 'judge advocate'),\n",
      "   (0.00013095145, 'advocate general'),\n",
      "   (0.00010510976, 'blaney estate')],\n",
      "  -16.129360859626622),\n",
      " ([(8.8018125e-05, 'bob bratt'),\n",
      "   (8.757136e-05, 'mr allen'),\n",
      "   (7.850718e-05, 'brother gene'),\n",
      "   (7.5377364e-05, 'kansa state'),\n",
      "   (6.437351e-05, 'nonjapanese spouse')],\n",
      "  -17.926781875741874),\n",
      " ([(0.00023207608, 'hung wai'),\n",
      "   (0.00017658884, 'big five'),\n",
      "   (0.00015519913, 'jimmie omura'),\n",
      "   (0.00010035544, 'test case'),\n",
      "   (7.795965e-05, 'mr burn')],\n",
      "  -18.03570258876736),\n",
      " ([(0.000105419946, 'play committee'),\n",
      "   (9.948811e-05, 'redress program'),\n",
      "   (9.0375914e-05, 'fair play'),\n",
      "   (8.84047e-05, 'fujima kansuma'),\n",
      "   (6.5095875e-05, 'verification unit')],\n",
      "  -18.791346597244576)]\n"
     ]
    }
   ],
   "source": [
    "ldamodel = gensim.models.ldamodel.LdaModel(corpus, num_topics=17, id2word = dictionary, passes=20)\n",
    "import pprint\n",
    "pprint.pprint(ldamodel.top_topics(corpus,topn=5))"
   ]
  },
  {
   "cell_type": "code",
   "execution_count": 15,
   "id": "cc045407",
   "metadata": {},
   "outputs": [
    {
     "name": "stdout",
     "output_type": "stream",
     "text": [
      "\n",
      "Perplexity:  -19.21752171036114\n",
      "\n",
      "Coherence Score:  0.465868517246921\n"
     ]
    }
   ],
   "source": [
    "from gensim.models import CoherenceModel\n",
    "\n",
    "# Compute Perplexity\n",
    "print('\\nPerplexity: ', ldamodel.log_perplexity(corpus))  # a measure of how good the model is. lower the better.\n",
    "\n",
    "# Compute Coherence Score\n",
    "coherence_model_lda = CoherenceModel(model=ldamodel, texts=texts, dictionary=dictionary, coherence='c_v')\n",
    "coherence_lda = coherence_model_lda.get_coherence()\n",
    "print('\\nCoherence Score: ', coherence_lda)"
   ]
  },
  {
   "cell_type": "code",
   "execution_count": 55,
   "id": "b26a1a81",
   "metadata": {},
   "outputs": [
    {
     "name": "stderr",
     "output_type": "stream",
     "text": [
      "C:\\Users\\maganti\\anaconda3\\lib\\site-packages\\pyLDAvis\\_prepare.py:246: FutureWarning: In a future version of pandas all arguments of DataFrame.drop except for the argument 'labels' will be keyword-only\n",
      "  default_term_info = default_term_info.sort_values(\n"
     ]
    },
    {
     "data": {
      "text/html": [
       "\n",
       "<link rel=\"stylesheet\" type=\"text/css\" href=\"https://cdn.jsdelivr.net/gh/bmabey/pyLDAvis@3.3.1/pyLDAvis/js/ldavis.v1.0.0.css\">\n",
       "\n",
       "\n",
       "<div id=\"ldavis_el4294825383542720646880766443\"></div>\n",
       "<script type=\"text/javascript\">\n",
       "\n",
       "var ldavis_el4294825383542720646880766443_data = {\"mdsDat\": {\"x\": [0.42057089212335486, 0.12724931905644654, 0.04035886170982237, 0.012144442294121748, -0.02623548236487592, -0.04469834349858847, -0.04677785422893127, -0.04844215479582664, -0.04859180226158843, -0.0480398298473339, -0.04861028886928142, -0.047914997073936566, -0.048346860404769924, -0.048407674723913614, -0.048108156231701206, -0.048319939572592695, -0.047830131310404936], \"y\": [-0.03417733911363566, 0.13575562656274273, -0.06434573156037665, -0.032685491217250597, -0.005836424379347939, 0.0004407590140166894, -0.00015580096958008074, -0.00102551713510688, 0.00016811358462644546, 0.0005840527975147245, -0.0011171904908630279, 0.00026487507647083046, 0.00034572788798072985, 0.0006403219671879007, 0.0004704815886212616, 0.00033489211489822374, 0.0003386442721009614], \"topics\": [1, 2, 3, 4, 5, 6, 7, 8, 9, 10, 11, 12, 13, 14, 15, 16, 17], \"cluster\": [1, 1, 1, 1, 1, 1, 1, 1, 1, 1, 1, 1, 1, 1, 1, 1, 1], \"Freq\": [86.079782885871, 5.554585160710223, 2.7883366486662498, 2.1509166170040293, 1.0904217879654572, 0.5703320852003527, 0.43781241670984306, 0.28026934639310996, 0.22643676550101072, 0.1692939009041652, 0.16113280708264655, 0.14150295628371554, 0.11668083290847643, 0.09190880520787512, 0.08825059534326515, 0.04122539819019477, 0.011110990058378074]}, \"tinfo\": {\"Term\": [\"japanese american\", \"high school\", \"yeah right\", \"united state\", \"san francisco\", \"kind thing\", \"los angeles\", \"thing like\", \"hood river\", \"came back\", \"little bit\", \"supreme court\", \"gon na\", \"law school\", \"type thing\", \"go back\", \"one thing\", \"two year\", \"civil right\", \"asian american\", \"boy scout\", \"japanese language\", \"said oh\", \"even though\", \"world war\", \"first time\", \"war ii\", \"american citizen\", \"year later\", \"come back\", \"pool hall\", \"japanese association\", \"yeah laugh\", \"see remember\", \"went go\", \"yeah used\", \"west la\", \"everything yeah\", \"prince rupert\", \"black belt\", \"thing day\", \"happened happened\", \"used put\", \"going yeah\", \"wholesale market\", \"yeah come\", \"give em\", \"want call\", \"know yeah\", \"pretty big\", \"house built\", \"em know\", \"em got\", \"wide open\", \"funny part\", \"block manager\", \"farm went\", \"brother took\", \"got picked\", \"much yeah\", \"oh yeah\", \"yeah yeah\", \"gon na\", \"tule lake\", \"know know\", \"used go\", \"mess hall\", \"something like\", \"anything like\", \"back japan\", \"pretty good\", \"yeah oh\", \"high school\", \"went back\", \"yeah think\", \"came back\", \"yes uhhuh\", \"yeah know\", \"japanese school\", \"know got\", \"yeah uhhuh\", \"laugh yeah\", \"like say\", \"remember much\", \"took care\", \"assembly center\", \"uhhuh yeah\", \"went school\", \"know remember\", \"thing like\", \"go back\", \"come back\", \"little bit\", \"one time\", \"got married\", \"think think\", \"really know\", \"year old\", \"take care\", \"know think\", \"oh yes\", \"one thing\", \"lot people\", \"united state\", \"japanese american\", \"san francisco\", \"said oh\", \"los angeles\", \"passed away\", \"kind thing\", \"mr terao\", \"main family\", \"mr tsujimoto\", \"department state\", \"investment banking\", \"side kent\", \"bamboo rake\", \"roman catholic\", \"mr obuchi\", \"became catholic\", \"terao said\", \"rattle rattle\", \"lorne bell\", \"said meeting\", \"irrigation canal\", \"international school\", \"sister toshiko\", \"anti war\", \"world daily\", \"mr miki\", \"majority community\", \"foreign trade\", \"working redress\", \"fish harbor\", \"college idaho\", \"foster parent\", \"came show\", \"chevy chase\", \"first washington\", \"uncle ben\", \"said min\", \"national board\", \"highly educated\", \"dr taylor\", \"ross hopkins\", \"woman organization\", \"awful time\", \"jim wright\", \"law caucus\", \"involved asian\", \"bunker hill\", \"note mr\", \"member congress\", \"physical exam\", \"ed note\", \"model city\", \"fort bliss\", \"black panther\", \"law school\", \"asian american\", \"japanese american\", \"national president\", \"death valley\", \"boy scout\", \"white house\", \"foreign service\", \"civil right\", \"point time\", \"high school\", \"kind thing\", \"united state\", \"japanese baptist\", \"gon na\", \"thing like\", \"african american\", \"two year\", \"came back\", \"los angeles\", \"go back\", \"said oh\", \"even though\", \"first time\", \"people like\", \"one thing\", \"year old\", \"new york\", \"year later\", \"american community\", \"long time\", \"war ii\", \"grocery store\", \"felt like\", \"little bit\", \"something like\", \"went back\", \"oh yes\", \"come back\", \"san francisco\", \"edward weston\", \"miss stuart\", \"bill lann\", \"lann lee\", \"hello maggie\", \"seem recall\", \"unique case\", \"piece shit\", \"de de\", \"evacuation case\", \"west chicago\", \"thirtyfive hundred\", \"andy russell\", \"mr numata\", \"mr sakano\", \"class team\", \"michio ito\", \"eastern nigeria\", \"elderly mother\", \"ed chen\", \"maybe itll\", \"work trying\", \"thing denied\", \"joining military\", \"de greene\", \"filed suit\", \"mr furtado\", \"take portrait\", \"color lab\", \"russellville school\", \"oral historian\", \"mr collins\", \"chapel service\", \"happy childhood\", \"vanport flood\", \"silver lake\", \"office redress\", \"pacific height\", \"get reparation\", \"oral history\", \"lone pine\", \"railroad worker\", \"ethnic study\", \"redress reparation\", \"piece metal\", \"civil liberty\", \"community service\", \"lowell high\", \"high school\", \"japanese american\", \"type thing\", \"latin american\", \"san francisco\", \"camp director\", \"kind thing\", \"los angeles\", \"peace treaty\", \"little bit\", \"united state\", \"thing like\", \"came back\", \"tea ceremony\", \"lot people\", \"little tokyo\", \"war ii\", \"world war\", \"american citizen\", \"one thing\", \"really kind\", \"civil right\", \"come back\", \"gon na\", \"tule lake\", \"mr sunderland\", \"tree rubber\", \"colonel weckerling\", \"claver center\", \"peter claver\", \"morro bay\", \"tap tap\", \"dixie mission\", \"university louisville\", \"dr marten\", \"american council\", \"aki oshida\", \"chinese communist\", \"oahu sugar\", \"asian activist\", \"marten shoe\", \"fourth army\", \"vernon todd\", \"assigned tank\", \"rubber company\", \"natural rubber\", \"san benancio\", \"meeting st\", \"korean language\", \"coop store\", \"ordnance depot\", \"buy plant\", \"preliminary design\", \"mr hamano\", \"friend eddie\", \"bob madrid\", \"st peter\", \"blue box\", \"war vet\", \"los feliz\", \"john aiso\", \"san mateo\", \"knight columbus\", \"military order\", \"buchanan street\", \"court martial\", \"presidio san\", \"fishing right\", \"korean war\", \"united state\", \"san francisco\", \"marine corp\", \"high school\", \"japanese language\", \"camp savage\", \"japanese american\", \"los angeles\", \"gon na\", \"language school\", \"pearl harbor\", \"come back\", \"came back\", \"go back\", \"little bit\", \"mr cairn\", \"7th avenue\", \"brother shu\", \"kash hayashi\", \"captain wada\", \"mr furuya\", \"henry stone\", \"defense section\", \"ice creamery\", \"cadet school\", \"kansai gakuin\", \"unit designation\", \"housing code\", \"pentagon building\", \"man army\", \"uncle renichi\", \"asked discharge\", \"commercial school\", \"word perhaps\", \"holocaust center\", \"keith oka\", \"lee mullis\", \"mr takizaki\", \"legal section\", \"two lieutenant\", \"stoop squint\", \"la housiere\", \"mr kitamoto\", \"feed machine\", \"dr taira\", \"la verne\", \"deputy mayor\", \"japanese law\", \"schofield barrack\", \"special mission\", \"back redlands\", \"mayor office\", \"rock spring\", \"war criminal\", \"boarding school\", \"camp mccoy\", \"select commission\", \"hood river\", \"camp savage\", \"jo ann\", \"japanese ancestry\", \"marine corp\", \"war crime\", \"army officer\", \"air base\", \"100th battalion\", \"united state\", \"american legion\", \"oh yeah\", \"japanese american\", \"japanese army\", \"general macarthur\", \"war department\", \"japanese officer\", \"standard poor\", \"pearl harbor\", \"high school\", \"gon na\", \"back atatashima\", \"captain byrne\", \"mr hyland\", \"language men\", \"waldorf astoria\", \"heath street\", \"fresno chapter\", \"kure navy\", \"food card\", \"oral language\", \"st clair\", \"freds brother\", \"coffin yeah\", \"mr lajeunesse\", \"loyalty league\", \"fred korematsus\", \"julio cesar\", \"solicitor general\", \"sexing business\", \"neighbor need\", \"forth essence\", \"jyotaro sakato\", \"little submarine\", \"kanyaku imin\", \"reverend tsuji\", \"jimmy shimizu\", \"red dirt\", \"low eighth\", \"said cookie\", \"call cookie\", \"hawaii hochi\", \"government lawyer\", \"cultural centre\", \"george nishi\", \"supreme court\", \"air shelter\", \"federal court\", \"freds case\", \"3rd platoon\", \"mr stone\", \"frank chin\", \"redress process\", \"fred korematsu\", \"law school\", \"shall say\", \"japanese american\", \"justice department\", \"civil liberty\", \"gordon min\", \"coram nobis\", \"civil right\", \"mr besig\", \"mike lowry\", \"press conference\", \"san bernardino\", \"puyallup fair\", \"blaney estate\", \"defense counsel\", \"uncle ro\", \"vanport city\", \"taylor hotel\", \"uncle mizuhata\", \"uncle nobi\", \"mummy bag\", \"pomona hotel\", \"aclu news\", \"asian counselor\", \"asian faculty\", \"faculty association\", \"kanto gakuin\", \"jewish market\", \"dee flat\", \"mr cowdrick\", \"vvv boy\", \"custer michigan\", \"hajime mashite\", \"varsity victory\", \"special courtmartial\", \"charge dropped\", \"aerospace engineering\", \"incendiary attack\", \"move camera\", \"general eichelberger\", \"informed people\", \"loring park\", \"anderson dam\", \"nuclear plant\", \"fort custer\", \"injured people\", \"advocate general\", \"mp officer\", \"river city\", \"stripe back\", \"judge advocate\", \"negotiating committee\", \"miss peet\", \"aunt alice\", \"sergeant stripe\", \"positive thinking\", \"fort lupton\", \"hugh anderson\", \"title ii\", \"west sacramento\", \"joe kurihara\", \"cal state\", \"asian american\", \"american study\", \"ta go\", \"euclid hall\", \"united state\", \"air corp\", \"asian student\", \"official language\", \"french canadian\", \"canadian community\", \"multiculturalism program\", \"miss breed\", \"mr duveneck\", \"deputy minister\", \"ukrainian community\", \"history canada\", \"strongly opposed\", \"undersecretary state\", \"imai group\", \"quite honestly\", \"fort simcoe\", \"black box\", \"basic research\", \"system engineering\", \"assistant undersecretary\", \"member parliament\", \"breed child\", \"johnson place\", \"compensation bill\", \"infant center\", \"minister office\", \"saudi arabia\", \"grandfather kashichi\", \"pa foster\", \"innovation look\", \"asymmetric threat\", \"breakout team\", \"robert matsui\", \"arm fire\", \"small arm\", \"individual compensation\", \"get captured\", \"japanese canadian\", \"camera voice\", \"new caledonia\", \"camp wolters\", \"prime minister\", \"fair play\", \"play committee\", \"railroad property\", \"government canada\", \"ethnic community\", \"phone call\", \"secretary state\", \"kai group\", \"takeshi tsutomu\", \"mr kai\", \"doj officer\", \"takeshi hated\", \"cancelled application\", \"born state\", \"george kurose\", \"redress recipient\", \"intention renounce\", \"gay community\", \"kikoku hoshidan\", \"sokuji kikoku\", \"kanagawa prefecture\", \"willing swear\", \"devote life\", \"seventhday adventist\", \"allegiance state\", \"lever brother\", \"major culture\", \"dy committee\", \"tenth copy\", \"gone supreme\", \"pastor started\", \"entering seminary\", \"solo pastor\", \"reverend wake\", \"issei christian\", \"sansei pastor\", \"coming centenary\", \"senior pastor\", \"occupation army\", \"hunger strike\", \"supreme court\", \"stone wall\", \"mr best\", \"american immigrant\", \"pastor church\", \"case appeal\", \"korematsu hirabayashi\", \"military necessity\", \"gay lesbian\", \"japanese american\", \"american church\", \"coram nobis\", \"japan soon\", \"mr allen\", \"helper utah\", \"homeless shelter\", \"federal claim\", \"toilet tissue\", \"back lakewood\", \"silme gene\", \"berto hill\", \"marcos regime\", \"brother rusty\", \"sixth august\", \"form 26\", \"spouse eligible\", \"need respected\", \"made eligible\", \"saipan tinian\", \"alaskan scout\", \"nisei interpreter\", \"manhattan kansa\", \"tokumatsu seno\", \"grandfather tokumatsu\", \"distributed among\", \"park palo\", \"supply ammunition\", \"vi mother\", \"flunk first\", \"name shigeto\", \"eating shrimp\", \"head shell\", \"florin florin\", \"edward mitsukado\", \"private life\", \"nonjapanese spouse\", \"kansa state\", \"brother gene\", \"milwaukee hotel\", \"uncle picked\", \"arrow head\", \"bob bratt\", \"stanford university\", \"gang four\", \"kind uniform\", \"aboard ship\", \"liberty act\", \"moved florin\", \"civil liberty\", \"angeles high\", \"go nursing\", \"state university\", \"dede greene\", \"jpn yeah\", \"eng yeah\", \"yeah jpn\", \"jpn yes\", \"yes jpn\", \"yeah eng\", \"jpn jpn\", \"jpn oh\", \"jpn see\", \"uhhuh eng\", \"see jpn\", \"eng uhhuh\", \"uhhuh jpn\", \"eng oh\", \"huh jpn\", \"right jpn\", \"eng huh\", \"thing jpn\", \"jpn know\", \"jpn child\", \"time jpn\", \"much jpn\", \"jpn right\", \"jpn huh\", \"eng eng\", \"eng know\", \"right eng\", \"know jpn\", \"nothing jpn\", \"jpn husband\", \"cultural centre\", \"yeah right\", \"south park\", \"mr burn\", \"wai ching\", \"percent disability\", \"san anita\", \"legal education\", \"charles bhrandt\", \"jack hall\", \"eddie nakamura\", \"frank atherton\", \"university rotc\", \"hawaii territorial\", \"hung wai\", \"making geta\", \"think jimmie\", \"master narrative\", \"ran face\", \"jimmie think\", \"american evacuation\", \"wai said\", \"masaji marumoto\", \"chun hoon\", \"james dole\", \"english standard\", \"five law\", \"county attorney\", \"louis height\", \"like hung\", \"yale law\", \"fifth rib\", \"allied occupation\", \"jimmie omura\", \"democratic party\", \"big five\", \"chopping away\", \"indiana university\", \"test case\", \"rocky shimpo\", \"law practice\", \"ben kuroki\", \"territorial guard\", \"japanese intelligence\", \"staff faculty\", \"got summer\", \"city county\", \"law school\", \"mountain sentinel\", \"pom pom\", \"fujima kansuma\", \"verification unit\", \"pom girl\", \"slum clearance\", \"uyeda sister\", \"go senator\", \"start verification\", \"employment litigation\", \"lot messaging\", \"created database\", \"york branch\", \"okamoto sam\", \"litigation support\", \"going resist\", \"got fulbright\", \"sister part\", \"comply selective\", \"relation specialist\", \"louis wirth\", \"house cleaner\", \"mr hanami\", \"cleaner know\", \"something pas\", \"235 cosponsors\", \"ron brown\", \"senator stevens\", \"foursquare dancing\", \"mineta said\", \"southern democrat\", \"larry king\", \"willie may\", \"redress program\", \"taught second\", \"intergroup relation\", \"nikkei member\", \"mineta matsui\", \"strong jacl\", \"play committee\", \"fair play\", \"right division\", \"steering committee\", \"paul nakadate\", \"minoru tamesa\", \"mr okamoto\", \"dollar payment\", \"race relation\", \"want right\", \"verification process\", \"war record\", \"human service\", \"hundred seven\", \"record created\", \"presidential apology\", \"pick phone\", \"table tennis\", \"anglo conformity\", \"francis aebi\", \"ii era\", \"shimi shibata\", \"jefferson city\", \"11th washington\", \"prewar world\", \"frank edward\", \"downtown ymca\", \"tennis tournament\", \"press type\", \"newspaper portland\", \"held mechanic\", \"family richmond\", \"greenhouse taken\", \"move livingston\", \"ray hasek\", \"trip colombia\", \"closed nursery\", \"industry california\", \"soul saying\", \"king celebration\", \"compromise compromise\", \"fire police\", \"every mayor\", \"mr aebi\", \"away authority\", \"literary skill\", \"established around\", \"printing press\", \"lived montavilla\", \"larger society\", \"within context\", \"writing style\", \"kan hall\", \"science degree\", \"black american\", \"preworld war\", \"american society\", \"solano county\", \"immigration act\", \"nippon kan\", \"mr koda\", \"martin luther\", \"luther king\", \"fair number\", \"got selected\", \"ga kita\", \"city treasurer\", \"saving loan\", \"entry technician\", \"mr naku\", \"gardena saving\", \"silkworm business\", \"electric pot\", \"data entry\", \"scout campfire\", \"jim yoshinaga\", \"historic district\", \"bank loan\", \"reuben lovret\", \"god love\", \"endo family\", \"dollar keep\", \"started coder\", \"contractor aspen\", \"technician started\", \"challenge making\", \"lot constituent\", \"east entrance\", \"shoshone national\", \"miss virgil\", \"shade make\", \"bliss triumph\", \"denying right\", \"music fit\", \"campfire girl\", \"virgil paine\", \"merit saving\", \"holly park\", \"bid highest\", \"glad part\", \"race restriction\", \"taul watanabe\", \"structural engineer\", \"east third\", \"master plan\", \"raw fish\", \"minoru yamasaki\", \"denied right\", \"caucasian personnel\", \"sure everybody\", \"right american\", \"girl scout\", \"lion club\", \"city planning\", \"van camp\", \"malcolm wallop\", \"matter public\", \"japan expo\", \"hearing new\", \"york book\", \"got skiff\", \"hundred ton\", \"going rock\", \"camp seafood\", \"book publishing\", \"pencil sketch\", \"must justice\", \"individual valued\", \"force made\", \"mariko hoshiyama\", \"laugh mp\", \"pirate dance\", \"making american\", \"klatches go\", \"school trona\", \"coffee klatches\", \"bring interpreter\", \"someone particularly\", \"mental game\", \"play mental\", \"max thirtyfive\", \"barney barney\", \"see spark\", \"talked barney\", \"public policy\", \"different agenda\", \"resister conscience\", \"raise issue\", \"net one\", \"issue resister\", \"paul say\", \"going em\", \"kamaboko white\", \"occasion kamaboko\", \"throwing water\", \"automatically used\", \"slowly economics\", \"meat start\", \"use almost\", \"cold stuff\", \"temperature color\", \"cornstarch secret\", \"hotter cook\", \"dark visual\", \"little flour\", \"fact machine\", \"modern system\", \"actually satsumaage\", \"factory ship\", \"fish satsumaage\", \"fresh kamaboko\", \"udons get\", \"think pollack\", \"basically surimi\", \"use perch\", \"say recipe\", \"color finishing\", \"frozen surimi\", \"get blemish\", \"never measured\", \"scoop put\", \"surimi slice\", \"basic used\", \"used gift\", \"uniform lot\", \"made uniform\", \"used test\", \"use wooden\", \"white fish\", \"carrot one\", \"get hotter\", \"ship ocean\", \"issue actually\", \"miso rice\", \"warmer think\", \"put higher\", \"surprised still\", \"economics work\", \"process use\", \"get cooler\", \"meat used\", \"work cut\", \"temperature get\", \"frying pan\", \"really tasty\", \"pan two\", \"think surprised\", \"get wholesale\", \"mixed go\", \"naturally put\", \"black look\", \"actually use\"], \"Freq\": [4684.0, 8498.0, 646.0, 3277.0, 2439.0, 2022.0, 2252.0, 4562.0, 514.0, 5005.0, 3444.0, 236.0, 7247.0, 378.0, 562.0, 3914.0, 2754.0, 1789.0, 496.0, 402.0, 596.0, 861.0, 2072.0, 1117.0, 1045.0, 1735.0, 721.0, 868.0, 1100.0, 3116.0, 148.98580809053593, 166.82172450580273, 212.37245515209398, 146.9045708897028, 124.30541243756663, 445.97412506995016, 166.70651251429723, 111.16701181525889, 72.04578807172503, 78.5412424511598, 80.14923259497621, 112.58317303789532, 133.89767303538994, 96.42375853201418, 73.6314890142521, 110.942380108333, 179.34560083720524, 137.1825472179171, 599.4866170330737, 175.96876421579202, 133.87096420677526, 169.76244095093926, 112.62498603088474, 104.52650918885934, 76.80199088418539, 242.73222778669356, 68.68831434545397, 106.10693574109709, 102.8655438533478, 133.8091497604294, 3738.9251539081124, 2741.5553873638537, 7113.68540524138, 2492.1393355525406, 2061.7925300153956, 2249.574259177456, 2052.7499825637406, 3287.3596321056098, 1652.545699083864, 2127.7424201411754, 1422.0979033822834, 755.9079578668308, 8263.161950746357, 3230.0962253488083, 1662.713396165053, 4889.500622903681, 823.8772606910629, 1119.953877437094, 2087.8381430183504, 1163.7965000564031, 589.8016900739234, 1038.1906713575536, 1027.8310246827664, 713.9454919750945, 1031.2224827788805, 891.3865602562021, 590.1038135855575, 1679.4929763974014, 997.6477957963443, 4449.116124704146, 3817.474209898366, 3050.2161261461933, 3363.4492233115, 2189.0465830535763, 2040.3551553278248, 1604.2632163970347, 1600.7395817785894, 2623.5504729576974, 1773.5103056729565, 1569.8402023128658, 2136.1309230848865, 2673.7976635132864, 2097.3563006952163, 3136.5506447810744, 4383.1272976113505, 2342.0468206004225, 2004.885991824061, 2149.2335342790916, 1802.2469136071209, 1909.1216477226117, 13.632362459359637, 13.544770152240693, 12.674888332583105, 11.826648598971705, 10.89295403219903, 9.997282362822691, 9.996685375560682, 9.79208032059216, 9.09147488797617, 8.93496624155117, 8.182914782732434, 8.17549462040519, 8.143344260749263, 8.080524978306062, 9.628985347309134, 8.053155707939782, 7.881769749606021, 8.025502868624047, 7.281232360086548, 7.2741574121325545, 7.247136600635511, 7.234181977049935, 7.202156206039991, 8.378655874658532, 7.142510689573402, 7.154024756939784, 7.1381241309960375, 7.156607375747167, 7.145147815913402, 7.113096088935545, 14.509104441336737, 16.091737139896193, 8.879570365931201, 9.996853440452922, 10.55141697070499, 11.620983891613117, 10.586022116026326, 9.96438641798845, 16.464826924884957, 9.704653482768665, 18.174809984414697, 14.578484743569245, 14.404475934677835, 9.100047495278767, 32.02050454405454, 13.012713041766332, 10.960257856998467, 10.866539292552766, 67.95504965199686, 65.98706816480315, 220.03251919078963, 13.583409503874972, 15.92755006926321, 60.64352862405297, 24.854656194831005, 15.615484062637238, 47.84811375446401, 21.711879048312262, 142.34515478101878, 78.02774059059995, 83.81040838770254, 24.32112867877435, 106.04329379315004, 83.709507158036, 35.74280837296606, 58.88301837958461, 81.79315209102204, 63.31251851026453, 74.85568770787168, 60.531019885535564, 48.291701246103955, 54.32387338037086, 44.04586554437923, 57.69492028670397, 54.646454149598554, 45.06325123629347, 42.031941993978805, 33.73406822935794, 43.02796332870352, 37.1078560859027, 38.55039534104478, 37.012527602547166, 48.263663609563906, 46.61919730644276, 44.16178489708046, 41.33823760433179, 42.49187136301702, 39.76649992330398, 12.365134620753903, 9.700314713021838, 7.184829561429246, 7.183556570322309, 6.483711793595127, 9.774378820996883, 5.866182113773061, 5.84904820071654, 5.227669253773013, 5.214009355597629, 5.2150911374466915, 5.113682802636478, 4.577641492127564, 4.544590304137451, 4.539204522417364, 4.538008731641119, 4.547158110917385, 4.520999251185122, 4.509718882189925, 4.445349116163075, 4.376696197611886, 4.432904553151452, 4.31402516460005, 4.492167370720125, 3.923661855326189, 3.902150976685247, 3.9016877747010956, 3.8917201370674537, 3.8903917701958854, 3.8768660768147836, 4.583646505192146, 7.810515765641715, 4.808721300536243, 4.4088203301541125, 5.074099880338202, 5.245684618706549, 7.675189774994804, 6.273978365232455, 10.731067469237166, 19.873861589868966, 23.169423183384552, 12.467072934205616, 12.68671536703938, 11.45474792950043, 6.211800502265629, 13.273978608352703, 10.501504956779385, 7.936304746659941, 68.7332485898017, 54.61286119125267, 24.510762316427492, 8.118428470257008, 35.41286662970295, 9.619307787121187, 28.037244757333283, 26.990494268455752, 7.372623111844979, 24.466167235950493, 23.79965671509263, 23.25595009579957, 22.002907293721517, 9.918301084753331, 17.776780080320798, 13.776686314471883, 13.65187194691117, 14.204942933743181, 13.81597313929928, 15.884161529301565, 11.26464358100061, 11.026719328083496, 12.24970807399716, 12.341901555832926, 11.507383571001899, 15.733198592528819, 7.857849400213446, 7.314095449941708, 11.10396032514361, 11.100712847785543, 6.127899818244835, 5.632053445977934, 5.62921152637721, 5.618922320027925, 5.598887163755239, 6.711673826073427, 4.519189390977427, 4.503886244423647, 4.49236126790669, 4.473359354197946, 4.475277587109698, 9.152616411655657, 3.951608545549279, 3.951172080973995, 3.951966109792588, 3.9515969869019196, 3.939927024743087, 3.9430463518804326, 3.934599242135294, 3.9179052887742634, 3.904995787323621, 3.8414772509603266, 3.819289422254449, 3.8085961657974745, 3.79631058002929, 6.202583756682235, 13.232679220607746, 7.327132599063187, 8.664974166264408, 12.081725402159384, 12.08664737573489, 15.854683996673764, 4.345612178483591, 8.246318953812096, 5.9582766682476365, 8.28863114139528, 7.319273723958658, 5.053857239325014, 15.621360135979891, 25.759494964279963, 21.00370659500691, 6.82785481618024, 21.363775546944076, 13.157636461552324, 9.568673441201557, 15.432896893336979, 12.421858200151247, 11.806453702549087, 9.101849827353998, 9.227431013063205, 9.577289156433176, 9.336780842580694, 9.070247480374, 7.6285037244107015, 3.8736357673247634, 2.8021483582789752, 2.469340390065618, 2.4639965667129204, 2.459714883982745, 2.4251460155472704, 2.3988518569412234, 2.1257194277766858, 2.1111401528609237, 2.1123225454320735, 2.112218726217951, 2.1093484752576894, 2.096898067466368, 2.40333633744917, 1.9998961452236508, 1.764979632470457, 1.7596601397556708, 1.759776952294751, 1.7595349197710295, 1.7595182322654466, 1.752951252969183, 1.7518180312160103, 1.7507706673159895, 1.733502920603835, 1.7226374436862744, 1.7193336997374733, 1.7161123742322764, 1.6991537922227917, 1.6691384472572934, 1.666117117048014, 4.8323800957126695, 2.4666112822823476, 2.1242435389241385, 5.524376048598583, 2.7937737781871275, 2.4596058419615314, 3.3622488147482934, 2.456036244393253, 3.1519821680663047, 4.121422295834089, 4.38121465660432, 2.053283679306181, 8.601660610567436, 6.531642038257903, 2.4597846912580077, 6.486719782770847, 3.4909354694424946, 3.335199514668235, 3.5068836293582106, 3.3573923684670484, 3.688775402043379, 6.338888864992416, 3.6512139925303937, 4.58030755336485, 4.537397479848693, 2.88944617756138, 2.6890621009795637, 2.6371588631951415, 2.536443270339762, 2.5134522187548223, 2.5229630778527743, 2.512724337786114, 2.509513967437254, 1.6984540907357055, 1.6910207288825923, 1.4826072945835032, 1.4824427246986172, 1.2742394334833054, 1.2704677848826473, 1.0672742141712128, 1.0617442662741412, 1.061750129492712, 1.0595552202952228, 1.0580068642001355, 1.0562684865213663, 1.054401251289006, 1.0484236333285544, 1.032601871270119, 1.0253873140736722, 0.9933351635989047, 0.8565350809240143, 0.8550686100064676, 0.8551274420746272, 0.8516260345480976, 0.8494717014882177, 0.8494291265260954, 0.8470705136010088, 0.8456305604219984, 0.8443117360084627, 0.8417365171336739, 0.835815465906934, 0.835756167446388, 0.8356439001362533, 2.122690735057746, 1.8607250609220505, 1.270462054919044, 1.4745293784525004, 10.212081851078375, 2.2421328924086423, 1.2472495725971016, 1.7051227023302271, 1.6070816925277873, 1.0075169567720834, 2.595590094693218, 1.3138345480219704, 2.1757111543189844, 3.8166234847455316, 2.7013033925055328, 5.202784564977862, 2.3460565760071765, 2.085336436052881, 1.36886205360398, 1.8811966218170941, 2.328075417200096, 1.3453316249295373, 1.396313909462572, 1.483248384232237, 1.5113285372626815, 1.3349673200658434, 1.4777349646640865, 1.3435443230651731, 1.3400652537694466, 1.1728547042116029, 1.1727699037515706, 1.0053945610198884, 1.0054222822800438, 1.003836953535074, 0.95590996350075, 0.8428799008691265, 0.8418487415960805, 0.8418982511529629, 0.8418460308455487, 0.8358312334391592, 0.8324267865024118, 0.7980086938776779, 0.7845528862615218, 0.842535175235461, 0.6834221489784418, 0.6750640867491464, 0.6753627296237715, 0.6749795420202964, 0.6742952053766103, 0.6744379545225392, 0.6731923390800629, 0.6728020421497214, 0.67410739639637, 0.6700792211061283, 0.6703244673099007, 0.6702740882669985, 0.6733566207915367, 0.857195527866225, 0.6733911445011397, 1.8410425374938513, 2.179790812798061, 0.9642351387000087, 1.177362733492208, 1.989719123057238, 0.8326403731858223, 1.071920266184014, 0.8380562481633952, 0.8425966530116725, 0.8070919074473456, 2.3344805590882705, 1.1810700172949693, 1.3613594778525775, 1.4628972368853177, 1.0000755570141497, 1.4631394654611396, 1.3843972771362512, 1.215749927504085, 0.9627202894688655, 0.9204213290009045, 0.9627637637698471, 0.9033494313215753, 0.8581028109545918, 1.8982213330259914, 1.5637917284159832, 1.4522680018441723, 1.3407628725572551, 0.7766472389304458, 0.7717807092773945, 0.6719675751332127, 0.671885066052345, 0.5605268815094494, 0.5605357217681138, 0.5605019323349966, 0.5604866747033758, 0.550899577890332, 0.5113910540260989, 0.44909211413316114, 0.44899582079711675, 0.4490416591753766, 0.44898609651258586, 0.44892486953591026, 0.4416588644894505, 0.44224101189335036, 0.43909790703777246, 0.43926469325124073, 0.44902453526692665, 0.43020709519049544, 0.3605680557868108, 0.3378303866348037, 0.3374784133731657, 0.33744986261184956, 0.3374103433814499, 0.43884114663611984, 0.4498774892612458, 0.449895791870851, 0.5604903417736365, 0.8946765445950848, 2.932873812995753, 2.135975702417293, 0.670516397560904, 0.669635514897545, 1.2472694756237563, 1.148248756072892, 1.050311262883705, 0.5276226202180979, 0.5444040177573237, 0.6385539512342983, 0.6578067904208004, 0.534331656227002, 0.6462902792977959, 0.5536836485814088, 0.46229157424661943, 0.4622350180427632, 0.46176870711592594, 0.4616791906548176, 0.4617157485003412, 0.4570628500339747, 0.3704991888580617, 0.3702394482754309, 0.3705146373253452, 0.369847020172434, 0.36986302414967115, 0.36975089049759136, 0.369747663249289, 0.369710020836713, 0.36967721929659053, 0.36963886265693124, 0.36496961632621344, 0.364448415725381, 0.37026976324718924, 0.27910412535066437, 0.27877290915399267, 0.2784607390128759, 0.278467034792351, 0.27844671899975904, 0.27844423243139493, 0.2784168008208248, 0.27840717198162757, 0.27840471186611837, 0.5513928313438263, 0.5542843400113283, 0.7382556928104995, 2.0925080141615657, 0.46182113667441194, 0.6106383382444383, 0.3657932524175456, 0.3705538669092174, 0.37076646850434963, 0.4556408503639575, 0.5607540734605082, 0.4962414328018823, 0.7054253190761891, 0.4462648475542206, 0.46372203883021657, 0.3846161781411068, 0.4760678428044147, 0.3464303157768576, 0.3395899818634005, 0.2805119939212074, 0.2768171203190016, 0.2717188497720107, 0.26989067605749495, 0.2721654606768464, 0.26983122550484523, 0.26752505431628054, 0.2649210370455785, 0.2110718498058946, 0.21104275740305106, 0.2107501127498382, 0.21108674211000147, 0.20938909855100402, 0.2093383500087222, 0.20820999592345132, 0.20762168069069312, 0.20735199747847372, 0.2072771206347173, 0.20730611415107938, 0.20730921918659703, 0.20759223229651633, 0.2073533225573252, 0.20284398033927753, 0.20255732820684075, 0.20191203458346918, 0.20195125296201355, 0.20194292672027517, 0.20628210508103803, 0.26771493613796715, 0.349956409932519, 0.4097771144596114, 0.4267918784497973, 0.26956098852832966, 0.2718070762907634, 0.31055077994686514, 0.47849661345268524, 0.32692222804330856, 0.24581804767195098, 0.2446418127523604, 0.2929302373712964, 0.2687261492973084, 0.2404568973026647, 0.239911755907709, 0.2231719952224447, 0.21436423565128926, 0.21415568406190427, 0.21111915709862186, 9.106371591371826, 5.41216487554808, 4.950524568141886, 4.752542931882559, 3.3011694301435073, 2.905432947958288, 2.641548390025131, 2.5097336617972115, 1.91604972755299, 1.718062218237219, 1.7180674889288992, 1.6520910787539298, 1.586166923722189, 1.1903810476263674, 1.1243632248739115, 0.9923607094309889, 0.7284724620136558, 0.6625351302527147, 0.596512262695365, 0.5306360709579131, 0.530620898895434, 0.5306127669711275, 0.5306066680278977, 0.46463793800366215, 0.46463861566402104, 0.46461512343824685, 0.3986807282055275, 0.39865294413081376, 0.3986302048609939, 0.39863690616898717, 0.7235195930418546, 1.6975867857895108, 0.6476005500815221, 0.3542426504867499, 0.353200059534018, 0.3473994054909623, 0.32307772736953794, 0.2945770233528475, 0.26410591004817896, 0.2360035627268894, 0.23599149531931857, 0.23590775081691584, 0.23423669589017157, 0.23600073597799268, 1.0545358347891645, 0.20419146288858261, 0.2364933176366181, 0.17785603199609681, 0.17785546995245655, 0.17784659296907906, 0.177823532649132, 0.1773342901909577, 0.17732093338915325, 0.177339332053025, 0.17731698255297593, 0.17732891771498438, 0.177310320682769, 0.17732275176563653, 0.17732802505743805, 0.1773412661443754, 0.17735348232820397, 0.16978554818104785, 0.16968360338311703, 0.7052128845314068, 0.23602058934305103, 0.8024060994044729, 0.21022005868916518, 0.23372617842714288, 0.4560073960843459, 0.34073455975887984, 0.316004275910967, 0.32228316296912557, 0.2283041268986015, 0.22997030527023152, 0.21194351592001856, 0.20723109407942505, 0.20258401807736257, 0.22859177752756119, 0.190051238372343, 0.24182334839372321, 0.3312381132162826, 0.24390372647137806, 0.19321076229139106, 0.19232964607408498, 0.186273701502919, 0.18318155485197846, 0.14679197714142495, 0.1467760698592728, 0.1467716125488497, 0.1467691044598043, 0.14630760244453023, 0.146305135248241, 0.14681566767816906, 0.14467588605671045, 0.14452291988677793, 0.14458198265761357, 0.14383866139769905, 0.14364318039226306, 0.14362477865198425, 0.13728164425420014, 0.13719371119750484, 0.13737801484958626, 0.1371714246453894, 0.134086706845154, 0.13405666430028398, 0.13396370143457914, 0.1339311508006637, 0.13370179696219597, 0.13374934160670895, 0.1765748257478893, 0.24095743065079556, 0.3727658793711631, 0.19320595057708112, 0.19234229556666185, 0.18319742124137442, 0.17682770655207647, 0.14636564289646148, 0.3949915012799218, 0.3386239447419396, 0.1840064980532186, 0.173577904695162, 0.18183969995084692, 0.14636002695794675, 0.1580729936328714, 0.14677364355573974, 0.14977337257772444, 0.14903397702240273, 0.14747480438403768, 0.1468586187030717, 0.14684181178028372, 0.14684032601014269, 0.14682756747021605, 0.14682599991456266, 0.14682430968064075, 0.3840995698752824, 0.19273553529837764, 0.18883291698218935, 0.15429022353556548, 0.1506260631288404, 0.1504278260005402, 0.11584477219182564, 0.11585240619487072, 0.11581879940228124, 0.11506056359209701, 0.11505766460359888, 0.11505361675669594, 0.1150729433466835, 0.11225528758141361, 0.11224178044241119, 0.11222697412708182, 0.1121825981290715, 0.11216900509411358, 0.1121442348479462, 0.11229981389734606, 0.11102180018644081, 0.07853431242458588, 0.07852672136951853, 0.0785236774315955, 0.07852856276406457, 0.07852260910064895, 0.32614833884381317, 0.07821452715075558, 0.0773292673278781, 0.0773328427470258, 0.15354874817369824, 0.11507152606341774, 0.2925543447517009, 0.11586554827606227, 0.11586882305936572, 0.2654296689700584, 0.11553541790809141, 0.20777278190409965, 0.1984245962230717, 0.23650824306524995, 0.14228188306067183, 0.14396754823938693, 0.1951874568221218, 0.130844922481766, 0.14441537754038203, 0.14441901738149637, 0.1170261314788042, 0.11535238436391476, 0.11507666908375332, 0.407545485243174, 0.3335971810422772, 0.14949785953006106, 0.1493544525198741, 0.1486267160687542, 0.1480571809527399, 0.1480392421894239, 0.26045898726887656, 0.11235958836453958, 0.11157143745765434, 0.11156434442940066, 0.11156998379924771, 0.11158530391550492, 0.11101239754914331, 0.11101801629972216, 0.11160456231198437, 0.07546303172506688, 0.07545625829546998, 0.07545516031943944, 0.07545968109398775, 0.07546080484410352, 0.0753094800349357, 0.0753085367034165, 0.07530738202439846, 0.07531374822344881, 0.07530538195538507, 0.07529676310128612, 0.07529300523966044, 0.07530275815350924, 0.07531645965721438, 0.3686104510485091, 0.18563694157888228, 0.11159194331985865, 0.11250902651066899, 0.11159040718437929, 0.18564611715322205, 0.11158576784903895, 0.1394887306548604, 0.1537560580077415, 0.11099244840717984, 0.11159674760934443, 0.138223295237795, 0.13688831102916088, 0.15985205185824217, 0.14688487246040627, 0.12679548854442046, 0.11260065853845776, 0.1115939743177743, 0.08523853111772617, 0.06866403302571918, 0.0686822762012643, 0.06765497543854547, 0.05106211858593182, 0.05104004665522345, 0.04999423301848259, 0.04999076546663663, 0.04998956145557901, 0.04998359437677742, 0.08621349111174796, 0.035661384385759415, 0.03521089401646085, 0.03520051544114413, 0.03517945487972417, 0.03516343912463565, 0.035153407304503524, 0.035151714464956504, 0.03514863701269322, 0.03514304799336373, 0.035145602904828, 0.035156335459395664, 0.035160320735996405, 0.0332863882938216, 0.03330802196450499, 0.03326463903807667, 0.03322275149338193, 0.033297580780613276, 0.03319897227499385, 0.03313256624912164, 0.08242101039364702, 0.0356687577494763, 0.06423580075688304, 0.05102418260552819, 0.04800105532116068, 0.035213473008146284, 0.03520861361951771, 0.03516836834590556, 0.00970522032027899, 0.004936344848553207, 0.004936159232982859, 0.004936400014019919, 0.004936121266161652, 0.004935906120841475, 0.004936092385417315, 0.004935727644331526, 0.0049359090413661835, 0.004935626399474972, 0.004935688054996591, 0.004935831809712787, 0.004936042736497274, 0.004935572532019241, 0.004935799683940996, 0.004935551763843538, 0.0049356361345573325, 0.004935690002013063, 0.004935829862696315, 0.0049355851876263105, 0.0049354599295666005, 0.0049355478698105935, 0.004935613419365157, 0.004935501790420752, 0.004935335969517871, 0.004935028665418012, 0.004935505359950951, 0.004936856264879901, 0.0049370198142635645, 0.004935445326943059, 0.0049370662181561515, 0.00493556701547257, 0.004936551556802005, 0.004936969516338033, 0.00493664566259816, 0.004937278767454365, 0.009682865975156359, 0.004936831927173999, 0.004936781953751213, 0.004936519755532959, 0.004936337060487319, 0.004937471197582366, 0.00493640553056659, 0.0049371771980950665, 0.00493660996729617, 0.004936701152567617, 0.004936059610640033, 0.004936570702463981, 0.004937031820865143, 0.004936304285710037, 0.004937429661230959, 0.008206948310571267, 0.004936115749614981, 0.004937023383793764, 0.004937948865623542, 0.004937924203414894, 0.004937657462158205, 0.004937391369907006, 0.004936656371188757, 0.004936471080121154], \"Total\": [4684.0, 8498.0, 646.0, 3277.0, 2439.0, 2022.0, 2252.0, 4562.0, 514.0, 5005.0, 3444.0, 236.0, 7247.0, 378.0, 562.0, 3914.0, 2754.0, 1789.0, 496.0, 402.0, 596.0, 861.0, 2072.0, 1117.0, 1045.0, 1735.0, 721.0, 868.0, 1100.0, 3116.0, 149.28184204275053, 167.2087350487988, 212.91312278082293, 147.28946211206585, 124.63657099599568, 447.16989407307415, 167.15423636101957, 111.47850986265635, 72.25145027063742, 78.77234435022385, 80.38759492983434, 112.92258985502443, 134.30522701282501, 96.71828712711113, 73.85935229507587, 111.28932305311929, 179.9174883804201, 137.62038581164254, 601.4002472716576, 176.53141982818536, 134.3024613548289, 170.3127086598573, 112.99034621504181, 104.86569926869456, 77.05501654604271, 243.53903463236742, 68.91698486404697, 106.46092855981388, 103.2094188215074, 134.25794531913522, 3768.011546954509, 2757.983064654985, 7247.144416022228, 2519.6155277279217, 2085.557828660806, 2277.744909558847, 2077.8805968464526, 3346.5333374292395, 1671.0583820843103, 2157.1514746593625, 1436.2204973032224, 758.8023584300958, 8498.80717098151, 3291.6984998927583, 1683.165323658806, 5005.037345218558, 828.3418175498456, 1130.5306604347295, 2121.1089782564677, 1175.3869471894288, 591.8871294535427, 1047.8294141647623, 1037.691011450316, 718.2078597513957, 1041.4274617866283, 898.8896771573628, 592.7423010904623, 1704.9224704366256, 1007.4563294129209, 4562.94202573377, 3914.531525910426, 3116.4617684566974, 3444.938678718757, 2228.5266878521397, 2076.241426502436, 1628.3270977824911, 1625.3520930973364, 2692.3465567330622, 1806.5427252763302, 1595.161232403306, 2185.383513592393, 2754.681828211419, 2147.6277038095486, 3277.6934481896074, 4684.192326087338, 2439.9729287916393, 2072.5790476900615, 2252.766449229035, 1846.5575783463946, 2022.129172576922, 13.877273445294847, 13.796208829775432, 12.920089840655349, 12.071314239914438, 11.137502031488227, 10.241950730406998, 10.241361688032704, 10.051467284726343, 9.335765297059188, 9.180838768443321, 8.427017228515524, 8.419756604253053, 8.388216971097641, 8.325472228064424, 9.921610593975688, 8.298051392329215, 8.136224682552367, 8.29284043683766, 7.5251863182258765, 7.518253233447788, 7.491465657988714, 7.478668124072541, 7.447692960141973, 8.664766054572036, 7.387351470554576, 7.399405919221791, 7.38392306691373, 7.404099594569306, 7.392812189397392, 7.360200882917662, 15.092958396244672, 16.853506729591178, 9.209356931194188, 10.399679841277084, 11.281314247769798, 12.635532032868072, 11.512514231309213, 10.807949805421588, 19.51712819588209, 10.698642981876011, 23.259391193335492, 19.322919741580296, 19.554062801364843, 10.00400515209273, 69.92820770424082, 18.468268094769275, 14.00038480716825, 13.816097704503152, 378.9557472821653, 402.4484883293649, 4684.192326087338, 21.23704774204751, 30.789648216849205, 596.3201003834051, 93.35481944670408, 32.02391433845978, 496.3825799552779, 74.82470474427619, 8498.80717098151, 2022.129172576922, 3277.6934481896074, 114.38401872041158, 7247.144416022228, 4562.94202573377, 389.62621000416686, 1789.2311373277087, 5005.037345218558, 2252.766449229035, 3914.531525910426, 2072.5790476900615, 1117.403929783244, 1735.0160981373022, 879.7351934525783, 2754.681828211419, 2692.3465567330622, 1419.3228196795947, 1100.4765349558224, 461.319281358515, 1400.9946346259119, 721.1477318037863, 994.2696188035103, 825.4500775895062, 3444.938678718757, 3346.5333374292395, 3291.6984998927583, 2185.383513592393, 3116.4617684566974, 2439.9729287916393, 12.630860612702765, 9.98322845177613, 7.444238211020861, 7.443123707239758, 6.743629159993356, 10.185751936210751, 6.12739076775388, 6.110707242126943, 5.486933288141354, 5.473637883595226, 5.474786219209954, 5.373948877991597, 4.836615298371404, 4.803645952334529, 4.798311086422799, 4.797190332919201, 4.807160358658484, 4.780448330722339, 4.770020084448743, 4.7081542407403525, 4.638817661699539, 4.700456299929275, 4.574464896108311, 4.784381878650468, 4.182650611356637, 4.161107587221972, 4.160914642272207, 4.150909113503813, 4.150332122179737, 4.136345282153106, 4.899494659546844, 8.871961279659956, 5.239908474390206, 4.776731081451837, 5.659480566991212, 6.042115878850643, 11.508177348148251, 8.36631739877494, 21.42687855353409, 92.87747492025417, 139.7077887787434, 39.50518989852603, 45.849645784145665, 38.396760642609976, 10.068561759629162, 65.70799921664512, 37.611767413446465, 19.053176835620263, 8498.80717098151, 4684.192326087338, 562.875129952088, 23.880735934473037, 2439.9729287916393, 44.00556093402217, 2022.129172576922, 2252.766449229035, 21.31505765248048, 3444.938678718757, 3277.6934481896074, 4562.94202573377, 5005.037345218558, 90.54405490819683, 2147.6277038095486, 682.9986794166039, 721.1477318037863, 1045.593245564728, 868.6661827101017, 2754.681828211419, 222.06934930990602, 496.3825799552779, 3116.4617684566974, 7247.144416022228, 2519.6155277279217, 16.001839195447616, 8.124153589145662, 7.581013497159559, 11.562738059620314, 11.578940782447297, 6.396334029246475, 5.896846183176874, 5.894532647136881, 5.885684131695531, 5.869285136469479, 7.06121338774894, 4.783707964390584, 4.768601236259085, 4.75700312558575, 4.738625827977838, 4.741543673476734, 9.732232227640525, 4.215958198387007, 4.215527172625214, 4.216838594719166, 4.216502401791931, 4.204227713862648, 4.207579452171879, 4.199615012895229, 4.182501566425193, 4.169663099037616, 4.10871843043832, 4.085353906006892, 4.0750542775462195, 4.066319385224576, 8.202119574180918, 27.061460334845776, 11.127315853142289, 16.959425003979863, 35.56302154465122, 38.56079775041563, 70.97778411081755, 5.209911907238158, 22.679791655524244, 11.500534536080552, 29.275586631119303, 21.896353003939577, 8.288322705873558, 206.27181248295724, 3277.6934481896074, 2439.9729287916393, 28.572261378599656, 8498.80717098151, 861.4466817851526, 204.57077170354202, 4684.192326087338, 2252.766449229035, 7247.144416022228, 727.0846767919393, 1793.748036555068, 3116.4617684566974, 5005.037345218558, 3914.531525910426, 3444.938678718757, 4.151283952739162, 3.083025414525425, 2.7464150603995097, 2.740917984944923, 2.7368107166342313, 2.702266093806163, 2.6757114067120225, 2.4021903289106614, 2.387873928093871, 2.3892334240228315, 2.389172600946151, 2.386025344345354, 2.3777617506035416, 2.727133101053232, 2.2771659170203398, 2.041579311968799, 2.0361580226070735, 2.0364674986880997, 2.0362663874663918, 2.0362792517437103, 2.029418177853588, 2.028433301596577, 2.0272964124808524, 2.0099976998480504, 1.9999574208031123, 1.9961443071937253, 1.993085662512782, 1.9772619146147588, 1.9460740059532378, 1.9431859391530133, 6.796185394356501, 3.2724268319671515, 2.8235001230433836, 14.635260804675564, 4.797129596070905, 3.8391892252945907, 8.936953833901132, 4.6602123150014965, 9.321360446138078, 21.753459737334605, 34.69897591901021, 3.3149190057321163, 514.4806384273737, 204.57077170354202, 6.6562554794913975, 287.78196091602314, 28.572261378599656, 30.191775499232417, 50.55509637369516, 42.03010280375286, 83.19220240033648, 3277.6934481896074, 149.77259333469885, 3768.011546954509, 4684.192326087338, 234.07256183962795, 62.46097727430535, 105.97728481772904, 21.26759404730105, 25.284200362118483, 1793.748036555068, 8498.80717098151, 7247.144416022228, 1.9834660414849954, 1.9768148298255177, 1.7692789775945204, 1.7788652636519369, 1.559787760084206, 1.5554624979429224, 1.3520261909131617, 1.3465130238680594, 1.346529005058248, 1.3445304887897689, 1.3428718439000005, 1.3410564536544083, 1.3391878103278734, 1.3335378805219016, 1.317450925224472, 1.3107349967212973, 1.2787764411911953, 1.1411102472855925, 1.139664633771782, 1.1398221686517929, 1.1362833940232002, 1.1341121865592052, 1.134070631716977, 1.131804963390265, 1.1302824026607692, 1.1289250892198377, 1.1267560679221496, 1.1205808646611042, 1.1205172704672084, 1.1204801993565312, 4.124921999009941, 3.7401948576320128, 2.2767402440280007, 3.0024780111995857, 236.08002723821357, 9.763361184015514, 2.6725688353109645, 5.561693956379149, 5.84116983216425, 1.787994960849301, 38.40054813796494, 4.945585062896569, 33.13408774296159, 378.9557472821653, 93.11994002930537, 4684.192326087338, 110.72196754820898, 65.70799921664512, 6.84517130216389, 75.34025190050222, 496.3825799552779, 9.202696690951896, 18.0525329188544, 36.37900519317403, 52.62270667643983, 25.180941500566416, 1.7670720843348673, 1.6312709987926692, 1.6288001340535152, 1.4607950149827142, 1.4608525132079169, 1.293076248089941, 1.2933010475501119, 1.2917746006639659, 1.2448065554371368, 1.1300843262606288, 1.1292097870781137, 1.1293089486479968, 1.1292574331336744, 1.1232156479257405, 1.1199394043924227, 1.088858737290749, 1.0719332872342375, 1.186170166369569, 0.970904496863239, 0.9623504054126671, 0.9629096086043465, 0.9623701142007034, 0.9615050282640998, 0.962158626330309, 0.9604847717018847, 0.9603289684217224, 0.9622286011560854, 0.9572516965862697, 0.957733568042128, 0.9577031681650843, 0.9621352230563749, 1.2494855762893946, 0.9627578948909443, 3.2772954194525497, 4.221280250237778, 1.7679376472895374, 2.49842024943311, 6.890778233035848, 1.4848586909096342, 2.638497485085852, 1.6495572163667496, 1.8675209621395747, 1.7537541054206705, 119.93319992656926, 9.190757072840942, 20.733594032138004, 51.216313246813904, 5.081793713710259, 82.58391121595452, 402.4484883293649, 111.9615321777002, 68.1062895895271, 16.38580017740125, 3277.6934481896074, 58.180054213825834, 23.230972558710203, 2.1914409085085422, 1.8565824652441245, 1.745058439072927, 1.6333853341347597, 1.067902133032427, 1.0627144856433466, 0.9632274988301468, 0.9631439635212882, 0.851325502772562, 0.8513423187243473, 0.8513315174398326, 0.8514066259922655, 0.8419828272110439, 0.8024872598723748, 0.7396235210641879, 0.7395492378298908, 0.7396722800462671, 0.7396325611040381, 0.7395738752560167, 0.7322782210893461, 0.7332677134726522, 0.7299277721517993, 0.7325015564074665, 0.7499687543524813, 0.7208089235262228, 0.6520415296945933, 0.6281875838055047, 0.6279104758930122, 0.6278926764056607, 0.6278703647630258, 0.8301557856152796, 0.870321780745269, 0.8704235463444843, 1.4383263507477622, 3.2603542100247473, 29.505913968372397, 29.82701090905612, 2.27175111331125, 2.7247647520485017, 32.50519002835054, 101.95710818539038, 86.34613294560468, 2.4278405793759967, 3.997156692121948, 26.304676680853696, 119.90661106611424, 10.184145043508655, 0.9386723532369652, 0.8455777410228549, 0.7539873752550619, 0.7539613372530011, 0.7534804545672243, 0.7534482702999312, 0.7539228868684171, 0.748917097193627, 0.6621669043025538, 0.6618335108456225, 0.6625154972747198, 0.6614360892979432, 0.6615045890842697, 0.6613609193856901, 0.6613671348525397, 0.6613311443818726, 0.6613165796186415, 0.6613108376891014, 0.6566952027447661, 0.656177432789937, 0.7183286094837136, 0.5706621937424765, 0.570272727380462, 0.5699780168639452, 0.5700007250397269, 0.5699971969094412, 0.5699968313946505, 0.5699413935649428, 0.5699769829449645, 0.569974938080476, 2.0014391200372046, 2.18266382870594, 6.8289091476308785, 236.08002723821357, 2.5289174465151345, 7.771678332002707, 1.5230698606279782, 1.8022763305098657, 1.8311080279209933, 4.740233456404789, 29.398702985111434, 13.007056496527069, 4684.192326087338, 30.712801707313098, 75.34025190050222, 12.548336669315546, 0.8166551956069931, 0.6397190024028515, 0.6331068535827403, 0.5735548828938801, 0.5701841043955551, 0.5648237344630394, 0.5630745684819718, 0.5685886852162696, 0.5639240387577864, 0.5606969952825882, 0.5585786868339967, 0.5040087260449297, 0.5039702827995205, 0.5035999916699514, 0.5049707743202011, 0.5022422458946825, 0.5022343979499493, 0.5013868706271328, 0.5006842423805208, 0.5002879516136013, 0.5001963861260083, 0.5002887655830179, 0.5003039594744784, 0.5018534895053385, 0.502069962874554, 0.49574857633363834, 0.49612352270510895, 0.4948418508494587, 0.4956915312026815, 0.4957179898672146, 0.5080762400759905, 0.7550189534183305, 1.26245932492675, 2.4171095233179276, 3.1076067330531667, 1.0490650337705258, 1.1555241547393211, 2.583727402635301, 20.323511245993107, 4.021289252456778, 1.4299830292969475, 1.642342237254862, 28.20310849876474, 21.197379778824853, 5.926476161774246, 65.70799921664512, 6.453729660936533, 13.88879880569154, 100.3292185035832, 3.07065177740127, 9.428426396309629, 5.722558207236769, 5.25818297885055, 5.059942554576415, 3.6044665955730433, 3.2075331441917068, 2.942910860343116, 2.8095163041117392, 2.213972296863632, 2.015976909517427, 2.016180782974343, 1.9499708511534977, 1.8833326225719345, 1.4863881823274878, 1.4203963473543015, 1.2885391029731665, 1.0237722335924735, 0.957449141602693, 0.8914576122148384, 0.824631883588224, 0.8246657665557804, 0.8247716724924161, 0.8249875959511801, 0.7586167415420447, 0.7587778217854342, 0.7587909085803342, 0.6923920489438982, 0.6925255109657344, 0.6925955330190189, 0.6926286396241738, 2.2767402440280007, 646.4168268031157, 80.26878868759856, 0.6494318099546961, 0.6480258607953217, 0.6412871768110666, 0.6184235079933929, 0.5885311924246307, 0.5592322710579513, 0.5296654252720784, 0.5297165191446389, 0.5297785070187243, 0.528887236963887, 0.5361239459289715, 2.420871752321333, 0.4983188322457912, 0.5985613880310023, 0.47138971662195905, 0.47144259397636706, 0.4714289138653723, 0.47142790817241303, 0.470883382206663, 0.4708796025026498, 0.47093266152477525, 0.47089040943054816, 0.47092288375571134, 0.4708872648077569, 0.4709230283093939, 0.47119457737834014, 0.471527955400155, 0.4715751766586245, 0.46325895164644965, 0.46319788847098076, 6.491711635016403, 0.9304408472381455, 12.727572946250062, 0.7947928517223792, 1.6963541122943242, 43.38757593654007, 15.692699323776058, 12.733153170109922, 25.359760631584646, 3.571818794228651, 4.679520851000415, 4.332756465845502, 5.0376343784306865, 12.13736606868475, 378.9557472821653, 26.60827044533511, 0.5361400090497683, 0.8078395709323932, 0.6062493081321455, 0.48742781370700955, 0.48668144877616454, 0.4809367820866016, 0.4789914049871506, 0.4409514443401428, 0.44090852624313526, 0.4409211529852388, 0.4409357932610124, 0.4404477800496574, 0.4405116228640725, 0.44254001840738383, 0.4389267192722697, 0.43896028092740874, 0.4395888806928656, 0.4383564745155139, 0.43780214234236614, 0.4378415579303314, 0.4316432513315808, 0.43144547454922044, 0.4321303866971946, 0.4321200822583647, 0.4282192139756677, 0.4283582967741425, 0.4282176542079413, 0.42847723088164147, 0.42834793939531524, 0.43027431311191455, 0.6635747914259019, 1.2100519192782218, 10.323288390486946, 1.548124112810825, 1.545037547211545, 1.3429202669818394, 1.387779316308815, 0.5870339856271202, 86.34613294560468, 101.95710818539038, 17.779218513871974, 7.619125852374473, 22.211742461335255, 0.6537494833960746, 18.72878060241544, 0.8567469579960254, 43.32670297552393, 17.821943467197904, 1.8423098291930804, 3.649202335686149, 6.566995038610066, 1.6732720758949784, 1.0037718480088027, 2.0713351894700507, 2.1103823093963805, 0.6798528925459506, 0.4879146300124065, 0.4927089075267236, 0.4493810184429934, 0.4496328070969116, 0.4520487918363335, 0.41061376653808657, 0.41068601195038384, 0.4107064607960589, 0.409860352530264, 0.4098588629914355, 0.40986676851405146, 0.4153959984979869, 0.40714099754924754, 0.4070994509429453, 0.4073279369957478, 0.40780621782063836, 0.4077990769856809, 0.4082672097404835, 0.4089031175274036, 0.4231348546582186, 0.37316119301975376, 0.3731338779239951, 0.3731676522118102, 0.37319775817470485, 0.3731805711035783, 1.554986379510307, 0.3730940416581247, 0.37194505880426865, 0.3719625821015713, 1.3417573275208805, 0.8824748453660324, 6.776457775629681, 0.9918459844748793, 1.1250232987804365, 15.787539119827043, 1.3271206898654886, 12.95796630418765, 13.19465357764961, 83.04940577134694, 3.8347739188471017, 4.358355543703698, 38.60169343768892, 2.6465089985938683, 75.09091835625256, 75.15359216008203, 12.337560522485584, 3.498955567136542, 2.974380125553456, 0.7037237773230253, 0.6314272237379356, 0.4445084991245448, 0.44425318024116817, 0.4436843277623327, 0.4429488402857553, 0.4429055732583604, 0.8814604771901334, 0.407182600589279, 0.40638384450285286, 0.4064355556531899, 0.406817652787109, 0.40756784716114575, 0.40589618920132614, 0.4060178022068473, 0.41717610997353044, 0.37019130792203114, 0.37019582088323216, 0.37019099405537703, 0.37021505044010267, 0.370223914762336, 0.36998808820462953, 0.36999322953972597, 0.36999510431037663, 0.37002912173761965, 0.36999444568896495, 0.3699788398151905, 0.36998403739505076, 0.3701131331878822, 0.37021749579523566, 1.8215403071612164, 1.5398665017786402, 0.7362800891365117, 0.7967155886027087, 0.9161680430581267, 4.022598402754499, 1.2354007102885178, 3.7898440262690563, 12.345849576950334, 2.645185008800925, 2.937034301704985, 13.376307811145972, 13.737297978131199, 52.7131737572619, 45.38038761173077, 138.87371088198176, 42.61095622723334, 5.221230299801982, 0.38177019264957285, 0.3648463321019085, 0.36495378269907913, 0.3638496529668618, 0.34712099845948224, 0.34710514360192685, 0.3459702942633482, 0.34598209792519646, 0.34598977811128856, 0.34595581235764755, 0.6370633893762608, 0.3322887638882388, 0.33104581268158456, 0.3310687749704399, 0.33102301147746965, 0.3310025493380366, 0.3309968603998938, 0.3309899680745227, 0.33096538509649887, 0.33095833837631383, 0.3309958452224291, 0.33114069007538993, 0.33127032873213946, 0.32914798578650956, 0.3294526184285795, 0.32916242799804024, 0.3290969077963586, 0.3298994806718654, 0.32910639428033667, 0.32899372701606316, 3.3269805315322607, 0.41612047393781826, 4.793294250717472, 6.17038312343041, 4.002446505194589, 0.5268614003122637, 1.120798145178607, 1.2885742342902982, 0.30627458156052406, 0.3013920210568521, 0.30138200925856784, 0.3013996184508229, 0.30139908728790155, 0.3013915630897408, 0.3014046019031985, 0.3013873593151811, 0.30139967345215046, 0.3013852635041865, 0.3013960671315432, 0.3014065217372961, 0.3014212211272547, 0.3013959844991368, 0.3014120767816351, 0.3013976987664695, 0.3014037554944428, 0.30140713891939364, 0.30141612683612734, 0.30140121927581914, 0.3013938473533138, 0.30140165193220414, 0.3014081426049839, 0.30140237359411876, 0.3013938771702594, 0.30137812165724515, 0.3014087237636012, 0.3014924043042074, 0.30150249535072227, 0.3014072904419553, 0.30152167753189096, 0.301416723872549, 0.30150609251333993, 0.3015485248500644, 0.3015211006613267, 0.30160256893492915, 1.3453743503572437, 0.30157984839588053, 0.3015757443975779, 0.30154195323263144, 0.30153446149669294, 0.3017546413205409, 0.30155626412473924, 0.3017333294278307, 0.30162478704612383, 0.30168361509636504, 0.3015125686141584, 0.30174495874628365, 0.3019549259666708, 0.3016442726786412, 0.3022415552286226, 34.819203112271815, 0.30162917931509403, 0.30454800220636324, 3.8169383987742513, 0.8185266418597624, 0.5972228799152078, 1.952005909272516, 0.31014939971911765, 2.2096677125866733], \"Category\": [\"Default\", \"Default\", \"Default\", \"Default\", \"Default\", \"Default\", \"Default\", \"Default\", \"Default\", \"Default\", \"Default\", \"Default\", \"Default\", \"Default\", \"Default\", \"Default\", \"Default\", \"Default\", \"Default\", \"Default\", \"Default\", \"Default\", \"Default\", \"Default\", \"Default\", \"Default\", \"Default\", \"Default\", \"Default\", \"Default\", \"Topic1\", \"Topic1\", \"Topic1\", \"Topic1\", \"Topic1\", \"Topic1\", \"Topic1\", \"Topic1\", \"Topic1\", \"Topic1\", \"Topic1\", \"Topic1\", \"Topic1\", \"Topic1\", \"Topic1\", \"Topic1\", \"Topic1\", \"Topic1\", \"Topic1\", \"Topic1\", \"Topic1\", \"Topic1\", \"Topic1\", \"Topic1\", \"Topic1\", \"Topic1\", \"Topic1\", \"Topic1\", \"Topic1\", \"Topic1\", \"Topic1\", \"Topic1\", \"Topic1\", \"Topic1\", \"Topic1\", \"Topic1\", \"Topic1\", \"Topic1\", \"Topic1\", \"Topic1\", \"Topic1\", \"Topic1\", \"Topic1\", \"Topic1\", \"Topic1\", \"Topic1\", \"Topic1\", \"Topic1\", \"Topic1\", \"Topic1\", \"Topic1\", \"Topic1\", \"Topic1\", \"Topic1\", \"Topic1\", \"Topic1\", \"Topic1\", \"Topic1\", \"Topic1\", \"Topic1\", \"Topic1\", \"Topic1\", \"Topic1\", \"Topic1\", \"Topic1\", \"Topic1\", \"Topic1\", \"Topic1\", \"Topic1\", \"Topic1\", \"Topic1\", \"Topic1\", \"Topic1\", \"Topic1\", \"Topic1\", \"Topic1\", \"Topic1\", \"Topic1\", \"Topic1\", \"Topic1\", \"Topic2\", \"Topic2\", \"Topic2\", \"Topic2\", \"Topic2\", \"Topic2\", \"Topic2\", \"Topic2\", \"Topic2\", \"Topic2\", \"Topic2\", \"Topic2\", \"Topic2\", \"Topic2\", \"Topic2\", \"Topic2\", \"Topic2\", \"Topic2\", \"Topic2\", \"Topic2\", \"Topic2\", \"Topic2\", \"Topic2\", \"Topic2\", \"Topic2\", \"Topic2\", \"Topic2\", \"Topic2\", \"Topic2\", \"Topic2\", \"Topic2\", \"Topic2\", \"Topic2\", \"Topic2\", \"Topic2\", \"Topic2\", \"Topic2\", \"Topic2\", \"Topic2\", \"Topic2\", \"Topic2\", \"Topic2\", \"Topic2\", \"Topic2\", \"Topic2\", \"Topic2\", \"Topic2\", \"Topic2\", \"Topic2\", \"Topic2\", \"Topic2\", \"Topic2\", \"Topic2\", \"Topic2\", \"Topic2\", \"Topic2\", \"Topic2\", \"Topic2\", \"Topic2\", \"Topic2\", \"Topic2\", \"Topic2\", \"Topic2\", \"Topic2\", \"Topic2\", \"Topic2\", \"Topic2\", \"Topic2\", \"Topic2\", \"Topic2\", \"Topic2\", \"Topic2\", \"Topic2\", \"Topic2\", \"Topic2\", \"Topic2\", \"Topic2\", \"Topic2\", \"Topic2\", \"Topic2\", \"Topic2\", \"Topic2\", \"Topic2\", \"Topic2\", \"Topic2\", \"Topic2\", \"Topic2\", \"Topic2\", \"Topic3\", \"Topic3\", \"Topic3\", \"Topic3\", \"Topic3\", \"Topic3\", \"Topic3\", \"Topic3\", \"Topic3\", \"Topic3\", \"Topic3\", \"Topic3\", \"Topic3\", \"Topic3\", \"Topic3\", \"Topic3\", \"Topic3\", \"Topic3\", \"Topic3\", \"Topic3\", \"Topic3\", \"Topic3\", \"Topic3\", \"Topic3\", \"Topic3\", \"Topic3\", \"Topic3\", \"Topic3\", \"Topic3\", \"Topic3\", \"Topic3\", \"Topic3\", \"Topic3\", \"Topic3\", \"Topic3\", \"Topic3\", \"Topic3\", \"Topic3\", \"Topic3\", \"Topic3\", \"Topic3\", \"Topic3\", \"Topic3\", \"Topic3\", \"Topic3\", \"Topic3\", \"Topic3\", \"Topic3\", \"Topic3\", \"Topic3\", \"Topic3\", \"Topic3\", \"Topic3\", \"Topic3\", \"Topic3\", \"Topic3\", \"Topic3\", \"Topic3\", \"Topic3\", \"Topic3\", \"Topic3\", \"Topic3\", \"Topic3\", \"Topic3\", \"Topic3\", \"Topic3\", \"Topic3\", \"Topic3\", \"Topic3\", \"Topic3\", \"Topic3\", \"Topic3\", \"Topic3\", \"Topic4\", \"Topic4\", \"Topic4\", \"Topic4\", \"Topic4\", \"Topic4\", \"Topic4\", \"Topic4\", \"Topic4\", \"Topic4\", \"Topic4\", \"Topic4\", \"Topic4\", \"Topic4\", \"Topic4\", \"Topic4\", \"Topic4\", \"Topic4\", \"Topic4\", \"Topic4\", \"Topic4\", \"Topic4\", \"Topic4\", \"Topic4\", \"Topic4\", \"Topic4\", \"Topic4\", \"Topic4\", \"Topic4\", \"Topic4\", \"Topic4\", \"Topic4\", \"Topic4\", \"Topic4\", \"Topic4\", \"Topic4\", \"Topic4\", \"Topic4\", \"Topic4\", \"Topic4\", \"Topic4\", \"Topic4\", \"Topic4\", \"Topic4\", \"Topic4\", \"Topic4\", \"Topic4\", \"Topic4\", \"Topic4\", \"Topic4\", \"Topic4\", \"Topic4\", \"Topic4\", \"Topic4\", \"Topic4\", \"Topic4\", \"Topic4\", \"Topic4\", \"Topic4\", \"Topic5\", \"Topic5\", \"Topic5\", \"Topic5\", \"Topic5\", \"Topic5\", \"Topic5\", \"Topic5\", \"Topic5\", \"Topic5\", \"Topic5\", \"Topic5\", \"Topic5\", \"Topic5\", \"Topic5\", \"Topic5\", \"Topic5\", \"Topic5\", \"Topic5\", \"Topic5\", \"Topic5\", \"Topic5\", \"Topic5\", \"Topic5\", \"Topic5\", \"Topic5\", \"Topic5\", \"Topic5\", \"Topic5\", \"Topic5\", \"Topic5\", \"Topic5\", \"Topic5\", \"Topic5\", \"Topic5\", \"Topic5\", \"Topic5\", \"Topic5\", \"Topic5\", \"Topic5\", \"Topic5\", \"Topic5\", \"Topic5\", \"Topic5\", \"Topic5\", \"Topic5\", \"Topic5\", \"Topic5\", \"Topic5\", \"Topic5\", \"Topic5\", \"Topic5\", \"Topic5\", \"Topic5\", \"Topic5\", \"Topic5\", \"Topic5\", \"Topic5\", \"Topic5\", \"Topic5\", \"Topic5\", \"Topic5\", \"Topic5\", \"Topic6\", \"Topic6\", \"Topic6\", \"Topic6\", \"Topic6\", \"Topic6\", \"Topic6\", \"Topic6\", \"Topic6\", \"Topic6\", \"Topic6\", \"Topic6\", \"Topic6\", \"Topic6\", \"Topic6\", \"Topic6\", \"Topic6\", \"Topic6\", \"Topic6\", \"Topic6\", \"Topic6\", \"Topic6\", \"Topic6\", \"Topic6\", \"Topic6\", \"Topic6\", \"Topic6\", \"Topic6\", \"Topic6\", \"Topic6\", \"Topic6\", \"Topic6\", \"Topic6\", \"Topic6\", \"Topic6\", \"Topic6\", \"Topic6\", \"Topic6\", \"Topic6\", \"Topic6\", \"Topic6\", \"Topic6\", \"Topic6\", \"Topic6\", \"Topic6\", \"Topic6\", \"Topic6\", \"Topic6\", \"Topic6\", \"Topic6\", \"Topic6\", \"Topic6\", \"Topic6\", \"Topic6\", \"Topic6\", \"Topic6\", \"Topic7\", \"Topic7\", \"Topic7\", \"Topic7\", \"Topic7\", \"Topic7\", \"Topic7\", \"Topic7\", \"Topic7\", \"Topic7\", \"Topic7\", \"Topic7\", \"Topic7\", \"Topic7\", \"Topic7\", \"Topic7\", \"Topic7\", \"Topic7\", \"Topic7\", \"Topic7\", \"Topic7\", \"Topic7\", \"Topic7\", \"Topic7\", \"Topic7\", \"Topic7\", \"Topic7\", \"Topic7\", \"Topic7\", \"Topic7\", \"Topic7\", \"Topic7\", \"Topic7\", \"Topic7\", \"Topic7\", \"Topic7\", \"Topic7\", \"Topic7\", \"Topic7\", \"Topic7\", \"Topic7\", \"Topic7\", \"Topic7\", \"Topic7\", \"Topic7\", \"Topic7\", \"Topic7\", \"Topic7\", \"Topic7\", \"Topic7\", \"Topic7\", \"Topic7\", \"Topic7\", \"Topic7\", \"Topic7\", \"Topic7\", \"Topic8\", \"Topic8\", \"Topic8\", \"Topic8\", \"Topic8\", \"Topic8\", \"Topic8\", \"Topic8\", \"Topic8\", \"Topic8\", \"Topic8\", \"Topic8\", \"Topic8\", \"Topic8\", \"Topic8\", \"Topic8\", \"Topic8\", \"Topic8\", \"Topic8\", \"Topic8\", \"Topic8\", \"Topic8\", \"Topic8\", \"Topic8\", \"Topic8\", \"Topic8\", \"Topic8\", \"Topic8\", \"Topic8\", \"Topic8\", \"Topic8\", \"Topic8\", \"Topic8\", \"Topic8\", \"Topic8\", \"Topic8\", \"Topic8\", \"Topic8\", \"Topic8\", \"Topic8\", \"Topic8\", \"Topic8\", \"Topic8\", \"Topic8\", \"Topic8\", \"Topic8\", \"Topic8\", \"Topic9\", \"Topic9\", \"Topic9\", \"Topic9\", \"Topic9\", \"Topic9\", \"Topic9\", \"Topic9\", \"Topic9\", \"Topic9\", \"Topic9\", \"Topic9\", \"Topic9\", \"Topic9\", \"Topic9\", \"Topic9\", \"Topic9\", \"Topic9\", \"Topic9\", \"Topic9\", \"Topic9\", \"Topic9\", \"Topic9\", \"Topic9\", \"Topic9\", \"Topic9\", \"Topic9\", \"Topic9\", \"Topic9\", \"Topic9\", \"Topic9\", \"Topic9\", \"Topic9\", \"Topic9\", \"Topic9\", \"Topic9\", \"Topic9\", \"Topic9\", \"Topic9\", \"Topic9\", \"Topic9\", \"Topic9\", \"Topic9\", \"Topic9\", \"Topic9\", \"Topic9\", \"Topic10\", \"Topic10\", \"Topic10\", \"Topic10\", \"Topic10\", \"Topic10\", \"Topic10\", \"Topic10\", \"Topic10\", \"Topic10\", \"Topic10\", \"Topic10\", \"Topic10\", \"Topic10\", \"Topic10\", \"Topic10\", \"Topic10\", \"Topic10\", \"Topic10\", \"Topic10\", \"Topic10\", \"Topic10\", \"Topic10\", \"Topic10\", \"Topic10\", \"Topic10\", \"Topic10\", \"Topic10\", \"Topic10\", \"Topic10\", \"Topic10\", \"Topic10\", \"Topic10\", \"Topic10\", \"Topic10\", \"Topic10\", \"Topic10\", \"Topic10\", \"Topic10\", \"Topic10\", \"Topic10\", \"Topic10\", \"Topic10\", \"Topic10\", \"Topic10\", \"Topic10\", \"Topic10\", \"Topic10\", \"Topic10\", \"Topic10\", \"Topic11\", \"Topic11\", \"Topic11\", \"Topic11\", \"Topic11\", \"Topic11\", \"Topic11\", \"Topic11\", \"Topic11\", \"Topic11\", \"Topic11\", \"Topic11\", \"Topic11\", \"Topic11\", \"Topic11\", \"Topic11\", \"Topic11\", \"Topic11\", \"Topic11\", \"Topic11\", \"Topic11\", \"Topic11\", \"Topic11\", \"Topic11\", \"Topic11\", \"Topic11\", \"Topic11\", \"Topic11\", \"Topic11\", \"Topic11\", \"Topic11\", \"Topic11\", \"Topic11\", \"Topic12\", \"Topic12\", \"Topic12\", \"Topic12\", \"Topic12\", \"Topic12\", \"Topic12\", \"Topic12\", \"Topic12\", \"Topic12\", \"Topic12\", \"Topic12\", \"Topic12\", \"Topic12\", \"Topic12\", \"Topic12\", \"Topic12\", \"Topic12\", \"Topic12\", \"Topic12\", \"Topic12\", \"Topic12\", \"Topic12\", \"Topic12\", \"Topic12\", \"Topic12\", \"Topic12\", \"Topic12\", \"Topic12\", \"Topic12\", \"Topic12\", \"Topic12\", \"Topic12\", \"Topic12\", \"Topic12\", \"Topic12\", \"Topic12\", \"Topic12\", \"Topic12\", \"Topic12\", \"Topic12\", \"Topic12\", \"Topic12\", \"Topic12\", \"Topic12\", \"Topic12\", \"Topic13\", \"Topic13\", \"Topic13\", \"Topic13\", \"Topic13\", \"Topic13\", \"Topic13\", \"Topic13\", \"Topic13\", \"Topic13\", \"Topic13\", \"Topic13\", \"Topic13\", \"Topic13\", \"Topic13\", \"Topic13\", \"Topic13\", \"Topic13\", \"Topic13\", \"Topic13\", \"Topic13\", \"Topic13\", \"Topic13\", \"Topic13\", \"Topic13\", \"Topic13\", \"Topic13\", \"Topic13\", \"Topic13\", \"Topic13\", \"Topic13\", \"Topic13\", \"Topic13\", \"Topic13\", \"Topic13\", \"Topic13\", \"Topic13\", \"Topic13\", \"Topic13\", \"Topic13\", \"Topic13\", \"Topic13\", \"Topic13\", \"Topic13\", \"Topic13\", \"Topic13\", \"Topic13\", \"Topic13\", \"Topic13\", \"Topic13\", \"Topic13\", \"Topic13\", \"Topic13\", \"Topic13\", \"Topic13\", \"Topic14\", \"Topic14\", \"Topic14\", \"Topic14\", \"Topic14\", \"Topic14\", \"Topic14\", \"Topic14\", \"Topic14\", \"Topic14\", \"Topic14\", \"Topic14\", \"Topic14\", \"Topic14\", \"Topic14\", \"Topic14\", \"Topic14\", \"Topic14\", \"Topic14\", \"Topic14\", \"Topic14\", \"Topic14\", \"Topic14\", \"Topic14\", \"Topic14\", \"Topic14\", \"Topic14\", \"Topic14\", \"Topic14\", \"Topic14\", \"Topic14\", \"Topic14\", \"Topic14\", \"Topic14\", \"Topic14\", \"Topic14\", \"Topic14\", \"Topic14\", \"Topic14\", \"Topic14\", \"Topic14\", \"Topic14\", \"Topic14\", \"Topic14\", \"Topic14\", \"Topic14\", \"Topic14\", \"Topic14\", \"Topic14\", \"Topic15\", \"Topic15\", \"Topic15\", \"Topic15\", \"Topic15\", \"Topic15\", \"Topic15\", \"Topic15\", \"Topic15\", \"Topic15\", \"Topic15\", \"Topic15\", \"Topic15\", \"Topic15\", \"Topic15\", \"Topic15\", \"Topic15\", \"Topic15\", \"Topic15\", \"Topic15\", \"Topic15\", \"Topic15\", \"Topic15\", \"Topic15\", \"Topic15\", \"Topic15\", \"Topic15\", \"Topic15\", \"Topic15\", \"Topic15\", \"Topic15\", \"Topic15\", \"Topic15\", \"Topic15\", \"Topic15\", \"Topic15\", \"Topic15\", \"Topic15\", \"Topic15\", \"Topic15\", \"Topic15\", \"Topic15\", \"Topic15\", \"Topic15\", \"Topic15\", \"Topic15\", \"Topic15\", \"Topic15\", \"Topic16\", \"Topic16\", \"Topic16\", \"Topic16\", \"Topic16\", \"Topic16\", \"Topic16\", \"Topic16\", \"Topic16\", \"Topic16\", \"Topic16\", \"Topic16\", \"Topic16\", \"Topic16\", \"Topic16\", \"Topic16\", \"Topic16\", \"Topic16\", \"Topic16\", \"Topic16\", \"Topic16\", \"Topic16\", \"Topic16\", \"Topic16\", \"Topic16\", \"Topic16\", \"Topic16\", \"Topic16\", \"Topic16\", \"Topic16\", \"Topic16\", \"Topic16\", \"Topic16\", \"Topic16\", \"Topic16\", \"Topic16\", \"Topic16\", \"Topic16\", \"Topic17\", \"Topic17\", \"Topic17\", \"Topic17\", \"Topic17\", \"Topic17\", \"Topic17\", \"Topic17\", \"Topic17\", \"Topic17\", \"Topic17\", \"Topic17\", \"Topic17\", \"Topic17\", \"Topic17\", \"Topic17\", \"Topic17\", \"Topic17\", \"Topic17\", \"Topic17\", \"Topic17\", \"Topic17\", \"Topic17\", \"Topic17\", \"Topic17\", \"Topic17\", \"Topic17\", \"Topic17\", \"Topic17\", \"Topic17\", \"Topic17\", \"Topic17\", \"Topic17\", \"Topic17\", \"Topic17\", \"Topic17\", \"Topic17\", \"Topic17\", \"Topic17\", \"Topic17\", \"Topic17\", \"Topic17\", \"Topic17\", \"Topic17\", \"Topic17\", \"Topic17\", \"Topic17\", \"Topic17\", \"Topic17\", \"Topic17\", \"Topic17\", \"Topic17\", \"Topic17\", \"Topic17\", \"Topic17\", \"Topic17\", \"Topic17\", \"Topic17\", \"Topic17\", \"Topic17\"], \"logprob\": [30.0, 29.0, 28.0, 27.0, 26.0, 25.0, 24.0, 23.0, 22.0, 21.0, 20.0, 19.0, 18.0, 17.0, 16.0, 15.0, 14.0, 13.0, 12.0, 11.0, 10.0, 9.0, 8.0, 7.0, 6.0, 5.0, 4.0, 3.0, 2.0, 1.0, -9.8284, -9.7153, -9.4739, -9.8425, -10.0095, -8.732, -9.716, -10.1212, -10.555, -10.4686, -10.4484, -10.1086, -9.9352, -10.2635, -10.5332, -10.1232, -9.6429, -9.9109, -8.4362, -9.6619, -9.9354, -9.6979, -10.1082, -10.1828, -10.491, -9.3403, -10.6027, -10.1678, -10.1988, -9.9358, -6.6057, -6.916, -5.9625, -7.0114, -7.2009, -7.1138, -7.2053, -6.7344, -7.4222, -7.1694, -7.5724, -8.2043, -5.8127, -6.752, -7.416, -6.3374, -8.1182, -7.8112, -7.1884, -7.7728, -8.4525, -7.887, -7.897, -8.2614, -7.8938, -8.0395, -8.452, -7.406, -7.9269, -6.4318, -6.5849, -6.8093, -6.7115, -7.141, -7.2114, -7.4518, -7.454, -6.96, -7.3515, -7.4735, -7.1655, -6.941, -7.1838, -6.7814, -6.4467, -7.0735, -7.2289, -7.1594, -7.3355, -7.2779, -9.4792, -9.4856, -9.552, -9.6212, -9.7035, -9.7893, -9.7894, -9.81, -9.8843, -9.9016, -9.9896, -9.9905, -9.9944, -10.0021, -9.8268, -10.0055, -10.0271, -10.009, -10.1063, -10.1073, -10.111, -10.1128, -10.1172, -9.9659, -10.1255, -10.1239, -10.1262, -10.1236, -10.1252, -10.1297, -9.4168, -9.3133, -9.9079, -9.7893, -9.7353, -9.6388, -9.7321, -9.7926, -9.2904, -9.819, -9.1916, -9.4121, -9.4241, -9.8833, -8.6252, -9.5257, -9.6973, -9.7059, -7.8728, -7.9021, -6.6978, -9.4828, -9.3236, -7.9866, -8.8786, -9.3433, -8.2236, -9.0137, -7.1333, -7.7345, -7.663, -8.9003, -7.4278, -7.6643, -8.5153, -8.0161, -7.6874, -7.9435, -7.776, -7.9884, -8.2143, -8.0966, -8.3064, -8.0364, -8.0907, -8.2835, -8.3532, -8.5731, -8.3298, -8.4778, -8.4396, -8.4803, -8.2149, -8.2496, -8.3037, -8.3698, -8.3423, -8.4086, -8.8875, -9.1303, -9.4305, -9.4306, -9.5331, -9.1227, -9.6332, -9.6361, -9.7485, -9.7511, -9.7509, -9.7705, -9.8812, -9.8885, -9.8897, -9.8899, -9.8879, -9.8937, -9.8962, -9.9106, -9.9261, -9.9134, -9.9406, -9.9001, -10.0354, -10.0409, -10.041, -10.0436, -10.0439, -10.0474, -9.8799, -9.347, -9.832, -9.9188, -9.7783, -9.745, -9.3644, -9.566, -9.0293, -8.413, -8.2596, -8.8793, -8.8619, -8.964, -9.576, -8.8166, -9.0509, -9.331, -7.1722, -7.4022, -8.2033, -9.3083, -7.8354, -9.1387, -8.0689, -8.1069, -9.4047, -8.2051, -8.2328, -8.2559, -8.3113, -9.108, -8.5245, -8.7794, -8.7885, -8.7488, -8.7766, -8.6371, -8.9808, -9.0021, -8.8969, -8.8894, -8.9594, -8.3871, -9.0814, -9.1531, -8.7356, -8.7359, -9.33, -9.4144, -9.4149, -9.4167, -9.4203, -9.239, -9.6345, -9.6379, -9.6405, -9.6447, -9.6443, -8.9288, -9.7688, -9.7689, -9.7687, -9.7688, -9.7717, -9.7709, -9.7731, -9.7773, -9.7806, -9.797, -9.8028, -9.8056, -9.8088, -9.3179, -8.5602, -9.1513, -8.9836, -8.6512, -8.6508, -8.3794, -9.6737, -9.0331, -9.3581, -9.028, -9.1524, -9.5227, -8.3942, -7.8941, -8.0982, -9.2219, -8.0812, -8.5659, -8.8844, -8.4064, -8.6234, -8.6742, -8.9344, -8.9207, -8.8835, -8.9089, -8.9379, -9.111, -9.1094, -9.4332, -9.5596, -9.5618, -9.5635, -9.5777, -9.5886, -9.7094, -9.7163, -9.7158, -9.7158, -9.7172, -9.7231, -9.5867, -9.7704, -9.8954, -9.8984, -9.8984, -9.8985, -9.8985, -9.9022, -9.9029, -9.9035, -9.9134, -9.9197, -9.9216, -9.9235, -9.9334, -9.9512, -9.953, -8.8882, -9.5607, -9.7101, -8.7544, -9.4362, -9.5635, -9.2509, -9.565, -9.3155, -9.0473, -8.9862, -9.7441, -8.3116, -8.5869, -9.5635, -8.5938, -9.2134, -9.259, -9.2088, -9.2524, -9.1583, -8.6168, -9.1685, -8.9418, -8.9512, -9.4025, -9.4744, -9.4938, -9.5328, -9.5419, -9.5381, -9.5422, -9.5435, -9.2857, -9.2901, -9.4216, -9.4218, -9.5731, -9.5761, -9.7503, -9.7555, -9.7555, -9.7576, -9.7591, -9.7607, -9.7625, -9.7682, -9.7834, -9.7904, -9.8221, -9.9703, -9.972, -9.9719, -9.9761, -9.9786, -9.9786, -9.9814, -9.9831, -9.9847, -9.9877, -9.9948, -9.9949, -9.995, -9.0628, -9.1945, -9.5761, -9.4271, -7.4919, -9.008, -9.5945, -9.2818, -9.341, -9.808, -8.8616, -9.5425, -9.0381, -8.4761, -8.8217, -8.1663, -8.9627, -9.0805, -9.5015, -9.1835, -8.9704, -9.5188, -9.4816, -9.4212, -9.4025, -9.5265, -9.1605, -9.2557, -9.2583, -9.3916, -9.3916, -9.5456, -9.5456, -9.5472, -9.5961, -9.7219, -9.7232, -9.7231, -9.7232, -9.7303, -9.7344, -9.7767, -9.7937, -9.7224, -9.9317, -9.944, -9.9435, -9.9441, -9.9451, -9.9449, -9.9467, -9.9473, -9.9454, -9.9514, -9.951, -9.9511, -9.9465, -9.7051, -9.9464, -8.9407, -8.7718, -9.5874, -9.3877, -8.863, -9.7342, -9.4816, -9.7277, -9.7223, -9.7653, -8.7032, -9.3846, -9.2425, -9.1706, -9.5509, -9.1704, -9.2258, -9.3557, -9.589, -9.6339, -9.589, -9.6527, -9.704, -8.4641, -8.6579, -8.7319, -8.8117, -9.3577, -9.364, -9.5025, -9.5026, -9.6839, -9.6838, -9.6839, -9.6839, -9.7012, -9.7756, -9.9055, -9.9057, -9.9056, -9.9057, -9.9059, -9.9222, -9.9209, -9.928, -9.9276, -9.9057, -9.9485, -10.1251, -10.1902, -10.1912, -10.1913, -10.1914, -9.9286, -9.9038, -9.9037, -9.6839, -9.2163, -8.029, -8.3461, -9.5047, -9.506, -8.884, -8.9667, -9.0559, -9.7444, -9.713, -9.5535, -9.5238, -9.7317, -9.3282, -9.4829, -9.6633, -9.6634, -9.6644, -9.6646, -9.6645, -9.6746, -9.8846, -9.8853, -9.8846, -9.8864, -9.8863, -9.8866, -9.8866, -9.8867, -9.8868, -9.8869, -9.8996, -9.9011, -9.8852, -10.1679, -10.169, -10.1702, -10.1701, -10.1702, -10.1702, -10.1703, -10.1704, -10.1704, -9.487, -9.4818, -9.1952, -8.1533, -9.6643, -9.3849, -9.8974, -9.8844, -9.8839, -9.6777, -9.4702, -9.5924, -9.2406, -9.6985, -9.6602, -9.8472, -9.3431, -9.6609, -9.6809, -9.872, -9.8853, -9.9038, -9.9106, -9.9022, -9.9108, -9.9194, -9.9292, -10.1564, -10.1566, -10.1579, -10.1563, -10.1644, -10.1647, -10.1701, -10.1729, -10.1742, -10.1746, -10.1744, -10.1744, -10.173, -10.1742, -10.1962, -10.1976, -10.2008, -10.2006, -10.2006, -10.1794, -9.9187, -9.6508, -9.493, -9.4523, -9.9118, -9.9035, -9.7703, -9.338, -9.7189, -10.004, -10.0088, -9.8287, -9.9149, -10.0261, -10.0283, -10.1007, -10.1409, -10.1419, -10.1562, -6.3425, -6.8628, -6.952, -6.9928, -7.3572, -7.4849, -7.5801, -7.6313, -7.9012, -8.0103, -8.0103, -8.0494, -8.0901, -8.3772, -8.4342, -8.5591, -8.8683, -8.9631, -9.0681, -9.1851, -9.1852, -9.1852, -9.1852, -9.318, -9.3179, -9.318, -9.471, -9.4711, -9.4712, -9.4712, -8.8751, -8.0222, -8.9859, -9.4593, -9.4623, -9.4788, -9.5514, -9.6438, -9.753, -9.8655, -9.8655, -9.8659, -9.873, -9.8655, -8.3684, -10.0102, -9.8634, -10.1483, -10.1483, -10.1484, -10.1485, -10.1513, -10.1513, -10.1512, -10.1514, -10.1513, -10.1514, -10.1513, -10.1513, -10.1512, -10.1512, -10.1948, -10.1954, -8.7708, -9.8654, -8.6417, -9.9811, -9.8752, -9.2068, -9.4982, -9.5735, -9.5539, -9.8986, -9.8914, -9.973, -9.9955, -10.0181, -9.8974, -10.082, -9.6482, -9.3336, -9.6396, -9.8726, -9.8772, -9.9092, -9.9259, -10.1474, -10.1475, -10.1475, -10.1476, -10.1507, -10.1507, -10.1472, -10.1619, -10.163, -10.1626, -10.1677, -10.1691, -10.1692, -10.2144, -10.215, -10.2137, -10.2152, -10.2379, -10.2382, -10.2389, -10.2391, -10.2408, -10.2405, -9.9627, -9.6518, -9.2155, -9.8727, -9.8771, -9.9259, -9.9612, -10.1503, -9.1576, -9.3115, -9.9215, -9.9798, -9.9333, -10.1504, -10.0734, -10.1475, -10.1273, -10.1322, -10.1428, -10.147, -10.1471, -10.1471, -10.1472, -10.1472, -10.1472, -8.9469, -9.6365, -9.6569, -9.8589, -9.883, -9.8843, -10.1455, -10.1455, -10.1458, -10.1523, -10.1523, -10.1524, -10.1522, -10.177, -10.1771, -10.1773, -10.1776, -10.1778, -10.178, -10.1766, -10.1881, -10.5342, -10.5343, -10.5344, -10.5343, -10.5344, -9.1104, -10.5383, -10.5497, -10.5497, -9.8638, -10.1522, -9.2191, -10.1453, -10.1453, -9.3164, -10.1482, -9.5613, -9.6074, -9.4318, -9.94, -9.9282, -9.6238, -10.0238, -9.9251, -9.9251, -10.1354, -10.1498, -10.1522, -8.847, -9.0472, -9.8499, -9.8508, -9.8557, -9.8596, -9.8597, -9.2947, -10.1355, -10.1425, -10.1426, -10.1425, -10.1424, -10.1475, -10.1475, -10.1422, -10.5335, -10.5336, -10.5336, -10.5336, -10.5335, -10.5356, -10.5356, -10.5356, -10.5355, -10.5356, -10.5357, -10.5358, -10.5356, -10.5355, -8.9474, -9.6334, -10.1423, -10.1341, -10.1423, -9.6333, -10.1424, -9.9192, -9.8218, -10.1477, -10.1423, -9.9283, -9.938, -9.7829, -9.8675, -10.0146, -10.1333, -10.1423, -9.6506, -9.8668, -9.8665, -9.8816, -10.163, -10.1634, -10.1841, -10.1842, -10.1842, -10.1843, -9.6392, -10.522, -10.5347, -10.535, -10.5356, -10.536, -10.5363, -10.5364, -10.5364, -10.5366, -10.5365, -10.5362, -10.5361, -10.5909, -10.5902, -10.5915, -10.5928, -10.5906, -10.5935, -10.5955, -9.6842, -10.5218, -9.9335, -10.1637, -10.2248, -10.5346, -10.5347, -10.5359, -10.5123, -11.1883, -11.1883, -11.1883, -11.1883, -11.1884, -11.1883, -11.1884, -11.1884, -11.1884, -11.1884, -11.1884, -11.1884, -11.1884, -11.1884, -11.1885, -11.1884, -11.1884, -11.1884, -11.1884, -11.1885, -11.1885, -11.1884, -11.1885, -11.1885, -11.1886, -11.1885, -11.1882, -11.1882, -11.1885, -11.1881, -11.1884, -11.1882, -11.1882, -11.1882, -11.1881, -10.5146, -11.1882, -11.1882, -11.1883, -11.1883, -11.1881, -11.1883, -11.1881, -11.1882, -11.1882, -11.1883, -11.1882, -11.1882, -11.1883, -11.1881, -10.6799, -11.1883, -11.1882, -11.188, -11.188, -11.188, -11.1881, -11.1882, -11.1883], \"loglift\": [30.0, 29.0, 28.0, 27.0, 26.0, 25.0, 24.0, 23.0, 22.0, 21.0, 20.0, 19.0, 18.0, 17.0, 16.0, 15.0, 14.0, 13.0, 12.0, 11.0, 10.0, 9.0, 8.0, 7.0, 6.0, 5.0, 4.0, 3.0, 2.0, 1.0, 0.1479, 0.1476, 0.1474, 0.1473, 0.1472, 0.1472, 0.1472, 0.1471, 0.147, 0.147, 0.1469, 0.1469, 0.1469, 0.1468, 0.1468, 0.1468, 0.1467, 0.1467, 0.1467, 0.1467, 0.1467, 0.1467, 0.1467, 0.1467, 0.1466, 0.1466, 0.1466, 0.1466, 0.1466, 0.1465, 0.1421, 0.1439, 0.1313, 0.1389, 0.1384, 0.1375, 0.1377, 0.1321, 0.1388, 0.1362, 0.14, 0.1461, 0.1218, 0.131, 0.1377, 0.1265, 0.1445, 0.1405, 0.1341, 0.14, 0.1464, 0.1407, 0.1403, 0.1439, 0.14, 0.1415, 0.1454, 0.1349, 0.1401, 0.1246, 0.1248, 0.1284, 0.126, 0.132, 0.1325, 0.135, 0.1346, 0.124, 0.1314, 0.1339, 0.1271, 0.1201, 0.1262, 0.1059, 0.0835, 0.1089, 0.1167, 0.1028, 0.1256, 0.0924, 2.8727, 2.8722, 2.8714, 2.8701, 2.8683, 2.8664, 2.8664, 2.8644, 2.864, 2.8634, 2.8612, 2.8611, 2.8609, 2.8607, 2.8606, 2.8606, 2.8588, 2.8578, 2.8576, 2.8575, 2.8574, 2.8573, 2.857, 2.857, 2.8568, 2.8568, 2.8567, 2.8565, 2.8565, 2.8564, 2.8511, 2.8443, 2.8541, 2.851, 2.8237, 2.8068, 2.8066, 2.8093, 2.7205, 2.793, 2.6439, 2.6088, 2.5849, 2.7958, 2.1095, 2.5404, 2.6457, 2.6504, 1.172, 1.0824, -0.1676, 2.4436, 2.2314, 0.6048, 1.5672, 2.1723, 0.5512, 1.6533, -1.1989, -0.3643, -0.7758, 1.3423, -1.334, -1.1078, 0.5017, -0.5234, -1.2235, -0.6813, -1.0663, -0.6428, -0.251, -0.5733, -0.1038, -0.9753, -1.0067, -0.5593, -0.3745, 0.275, -0.5925, -0.0765, -0.3595, -0.2141, -1.3774, -1.3831, -1.4208, -1.0772, -1.4046, -1.2262, 3.5585, 3.551, 3.5443, 3.5442, 3.5404, 3.5385, 3.5362, 3.536, 3.5313, 3.5311, 3.5311, 3.5301, 3.5247, 3.5243, 3.5242, 3.5242, 3.5241, 3.5239, 3.5236, 3.5223, 3.5216, 3.5211, 3.5211, 3.5167, 3.5158, 3.5155, 3.5154, 3.5152, 3.515, 3.5149, 3.5131, 3.4523, 3.4939, 3.4996, 3.4705, 3.4384, 3.1747, 3.2919, 2.8882, 2.0378, 1.783, 2.4264, 2.2949, 2.3702, 3.0968, 1.9803, 2.3039, 2.7039, -1.2377, -0.872, 0.4458, 2.5008, -0.6529, 2.0592, -0.6986, -0.8447, 2.5181, -1.3676, -1.3455, -1.6994, -1.8473, 1.3683, -1.2145, -0.3238, -0.3872, -0.719, -0.5614, -1.576, 0.5984, -0.2273, -1.9592, -2.7956, -1.8091, 3.8223, 3.8059, 3.8034, 3.7988, 3.7971, 3.7964, 3.7933, 3.7932, 3.7929, 3.7921, 3.7885, 3.7824, 3.7822, 3.782, 3.7817, 3.7815, 3.7779, 3.7745, 3.7745, 3.7744, 3.7744, 3.7743, 3.7743, 3.7741, 3.7739, 3.7737, 3.772, 3.7719, 3.7717, 3.7706, 3.5598, 3.1239, 3.4215, 3.1677, 2.7597, 2.6791, 2.3404, 3.6579, 2.8276, 3.1817, 2.5774, 2.7435, 3.3446, 1.2587, -1.0068, -0.9158, 2.4079, -2.1467, -0.3423, 0.7769, -1.8762, -1.3612, -2.5804, -0.5413, -1.4306, -1.9458, -2.445, -2.2282, -2.2735, 4.4494, 4.4231, 4.4123, 4.4121, 4.4119, 4.4104, 4.4094, 4.3963, 4.3954, 4.3954, 4.3954, 4.3954, 4.3929, 4.3922, 4.3888, 4.373, 4.3727, 4.3726, 4.3725, 4.3725, 4.3722, 4.372, 4.372, 4.3706, 4.3693, 4.3693, 4.369, 4.367, 4.3651, 4.3648, 4.1776, 4.2359, 4.234, 3.5443, 3.978, 4.0733, 3.541, 3.8781, 3.4343, 2.855, 2.4492, 4.0396, 0.4274, 1.0744, 3.5231, 0.7262, 2.4163, 2.3156, 1.8503, 1.9914, 1.4027, -1.7296, 0.8045, -2.1939, -2.421, 0.124, 1.3733, 0.8251, 2.3922, 2.2101, -2.048, -3.6077, -3.4497, 5.0116, 5.0106, 4.9899, 4.9844, 4.9645, 4.9643, 4.9302, 4.9291, 4.9291, 4.9285, 4.9283, 4.928, 4.9276, 4.9262, 4.9231, 4.9212, 4.9141, 4.8798, 4.8794, 4.8793, 4.8783, 4.8777, 4.8777, 4.8769, 4.8766, 4.8762, 4.8751, 4.8735, 4.8735, 4.8734, 4.5023, 4.4685, 4.5833, 4.4556, 2.0261, 3.6955, 4.4046, 3.9844, 3.8762, 4.5931, 2.4724, 3.8412, 2.4435, 0.5687, 1.6266, -1.636, 1.3124, 1.7164, 3.5571, 1.4766, -0.1956, 3.2439, 2.6073, 1.9669, 1.6165, 2.2295, 5.2523, 5.2371, 5.236, 5.2116, 5.2115, 5.1795, 5.1793, 5.1789, 5.1671, 5.1379, 5.1375, 5.1374, 5.1374, 5.1356, 5.1345, 5.1204, 5.119, 5.0891, 5.08, 5.0766, 5.0764, 5.0764, 5.0763, 5.0758, 5.0757, 5.0753, 5.0753, 5.0745, 5.0743, 5.0743, 5.0743, 5.0543, 5.0737, 4.8544, 4.7702, 4.8249, 4.6788, 4.1889, 4.8527, 4.5304, 4.754, 4.6353, 4.6551, 1.492, 3.3794, 2.7079, 1.8755, 3.8055, 1.3979, -0.2412, 0.9083, 1.1721, 2.5518, -2.7017, 1.2659, 2.1326, 5.7335, 5.7056, 5.6935, 5.6798, 5.5587, 5.5573, 5.5171, 5.5171, 5.4593, 5.4593, 5.4592, 5.4591, 5.453, 5.4266, 5.3783, 5.3781, 5.3781, 5.378, 5.378, 5.3716, 5.3715, 5.369, 5.3658, 5.3642, 5.3611, 5.2847, 5.2569, 5.2563, 5.2562, 5.2561, 5.2397, 5.2173, 5.2172, 4.9348, 4.584, 3.5686, 3.2407, 4.6569, 4.4738, 2.6167, 1.3909, 1.4679, 4.3508, 3.8835, 2.1589, 0.6716, 2.9296, 5.7172, 5.667, 5.6013, 5.6012, 5.6008, 5.6007, 5.6001, 5.5967, 5.5098, 5.5096, 5.5093, 5.5091, 5.5091, 5.509, 5.509, 5.5089, 5.5089, 5.5088, 5.5031, 5.5024, 5.4278, 5.3752, 5.3747, 5.3741, 5.3741, 5.3741, 5.374, 5.374, 5.3739, 5.3739, 4.8013, 4.7198, 3.8658, 1.3647, 4.3901, 3.5467, 4.664, 4.5087, 4.4934, 3.7483, 2.131, 2.8243, -2.7104, 1.8589, 1.0, 2.6054, 5.8416, 5.7679, 5.7584, 5.6661, 5.6587, 5.6495, 5.6459, 5.6445, 5.6442, 5.6413, 5.6353, 5.5109, 5.5108, 5.5102, 5.5091, 5.5064, 5.5062, 5.5025, 5.501, 5.5005, 5.5003, 5.5003, 5.5003, 5.4986, 5.497, 5.4877, 5.4855, 5.4849, 5.4834, 5.4833, 5.4799, 5.3445, 5.0983, 4.6066, 4.396, 5.0224, 4.9341, 4.2626, 2.6324, 3.8717, 4.6205, 4.4772, 1.814, 2.0133, 3.1766, 0.7686, 3.0168, 2.2101, 0.2318, 3.7041, 6.3959, 6.3749, 6.3704, 6.368, 6.3428, 6.3318, 6.3227, 6.3179, 6.2862, 6.2708, 6.2707, 6.2649, 6.259, 6.2086, 6.197, 6.1695, 6.0904, 6.0625, 6.0289, 5.9898, 5.9898, 5.9896, 5.9893, 5.9405, 5.9402, 5.9402, 5.8787, 5.8784, 5.8783, 5.8783, 5.2843, 0.4885, 1.6108, 5.9545, 5.9537, 5.9476, 5.9113, 5.8685, 5.8104, 5.7522, 5.7521, 5.7516, 5.7462, 5.7401, 5.7296, 5.6684, 5.632, 5.5859, 5.5858, 5.5858, 5.5856, 5.584, 5.584, 5.584, 5.5839, 5.5839, 5.5839, 5.5839, 5.5833, 5.5827, 5.5827, 5.5569, 5.5564, 4.3408, 5.1889, 3.7967, 5.2307, 4.5785, 2.0052, 2.7308, 2.8644, 2.1951, 3.8105, 3.5476, 3.543, 3.3697, 2.4677, -0.8526, 1.6189, 5.9573, 5.862, 5.843, 5.8281, 5.8251, 5.805, 5.7923, 5.6536, 5.6536, 5.6535, 5.6534, 5.6514, 5.6512, 5.6501, 5.6436, 5.6425, 5.6415, 5.6391, 5.639, 5.6388, 5.6079, 5.6077, 5.6075, 5.606, 5.5923, 5.5918, 5.5914, 5.5906, 5.5892, 5.585, 5.4296, 5.1397, 3.4323, 4.6724, 4.67, 4.7614, 4.6932, 5.3645, 1.3662, 1.0461, 2.1827, 2.9717, 1.9482, 5.2568, 1.9787, 4.9892, 1.0861, 1.9695, 4.2284, 3.5407, 2.953, 4.3203, 4.8312, 4.1068, 4.0881, 6.4212, 6.0633, 6.0331, 5.9231, 5.8985, 5.8918, 5.7267, 5.7266, 5.7263, 5.7218, 5.7217, 5.7217, 5.7085, 5.7037, 5.7037, 5.703, 5.7015, 5.7014, 5.7, 5.6998, 5.6542, 5.4337, 5.4336, 5.4335, 5.4335, 5.4335, 5.4303, 5.4298, 5.4215, 5.4215, 4.8244, 4.955, 3.8496, 4.845, 4.719, 2.9065, 4.5509, 2.8591, 2.795, 1.1309, 3.6981, 3.5819, 1.705, 3.9851, 0.7384, 0.7376, 2.3341, 3.5799, 3.7399, 6.4865, 6.3947, 5.9431, 5.9427, 5.9391, 5.9369, 5.9369, 5.8136, 5.7452, 5.7401, 5.7399, 5.739, 5.7373, 5.7363, 5.736, 5.7142, 5.4424, 5.4423, 5.4423, 5.4423, 5.4423, 5.4409, 5.4409, 5.4408, 5.4408, 5.4408, 5.4407, 5.4407, 5.4405, 5.4404, 5.435, 4.9171, 5.146, 5.0753, 4.9274, 3.9569, 4.6284, 3.7306, 2.647, 3.8617, 3.7625, 2.4604, 2.424, 1.2344, 1.2996, 0.034, 1.0967, 3.1871, 6.2945, 6.1236, 6.1236, 6.1116, 5.8772, 5.8769, 5.8594, 5.8593, 5.8593, 5.8593, 5.7938, 5.5619, 5.553, 5.5526, 5.5521, 5.5518, 5.5515, 5.5515, 5.5514, 5.5513, 5.5513, 5.5511, 5.5509, 5.5025, 5.5022, 5.5018, 5.5008, 5.5006, 5.5, 5.4983, 4.0959, 5.3372, 3.4815, 2.9987, 3.3704, 5.0884, 4.3334, 4.1927, 5.6532, 4.9932, 4.9932, 4.9932, 4.9931, 4.9931, 4.9931, 4.9931, 4.9931, 4.9931, 4.9931, 4.9931, 4.993, 4.993, 4.993, 4.993, 4.993, 4.993, 4.993, 4.993, 4.993, 4.993, 4.993, 4.993, 4.993, 4.993, 4.993, 4.993, 4.993, 4.993, 4.9929, 4.993, 4.9929, 4.9928, 4.9928, 4.9927, 4.1709, 4.9927, 4.9927, 4.9927, 4.9927, 4.9922, 4.9927, 4.9922, 4.9925, 4.9923, 4.9927, 4.9921, 4.9915, 4.9924, 4.9906, 0.752, 4.9924, 4.9829, 2.4547, 3.9944, 4.3096, 3.1252, 4.9646, 3.001]}, \"token.table\": {\"Topic\": [1, 3, 5, 1, 5, 6, 5, 1, 2, 7, 2, 1, 7, 7, 1, 2, 3, 4, 1, 3, 5, 1, 2, 3, 7, 1, 3, 6, 4, 1, 2, 1, 2, 3, 4, 5, 6, 1, 2, 3, 4, 6, 4, 2, 1, 5, 1, 2, 1, 2, 3, 7, 7, 3, 1, 3, 2, 1, 2, 3, 4, 1, 5, 1, 4, 1, 2, 3, 4, 6, 7, 7, 7, 1, 2, 7, 5, 1, 2, 3, 4, 4, 4, 7, 2, 3, 6, 1, 2, 3, 4, 5, 4, 5, 2, 2, 1, 2, 3, 1, 2, 4, 12, 3, 1, 2, 1, 2, 4, 7, 1, 2, 4, 1, 3, 4, 5, 1, 2, 3, 4, 5, 1, 2, 3, 4, 5, 2, 5, 1, 1, 4, 1, 2, 4, 4, 5, 1, 3, 7, 6, 1, 2, 3, 4, 5, 2, 1, 8, 1, 3, 1, 5, 1, 4, 5, 2, 8, 8, 6, 5, 4, 6, 1, 3, 7, 2, 4, 1, 4, 2, 3, 1, 2, 3, 4, 6, 1, 2, 3, 4, 6, 3, 4, 6, 2, 4, 3, 1, 2, 3, 4, 5, 5, 1, 2, 3, 4, 1, 2, 3, 4, 6, 1, 3, 4, 6, 11, 7, 3, 3, 1, 2, 3, 3, 7, 7, 5, 1, 2, 4, 5, 8, 4, 4, 5, 2, 1, 3, 3, 1, 2, 5, 3, 3, 1, 1, 11, 11, 11, 11, 1, 2, 8, 1, 2, 3, 1, 2, 7, 3, 1, 2, 3, 4, 1, 7, 1, 1, 2, 3, 8, 1, 3, 4, 6, 5, 1, 2, 3, 4, 3, 1, 2, 3, 4, 5, 2, 2, 1, 4, 6, 1, 2, 3, 2, 1, 2, 7, 1, 7, 8, 6, 2, 4, 1, 6, 1, 2, 6, 6, 6, 2, 6, 8, 6, 4, 1, 1, 2, 4, 1, 7, 1, 2, 5, 1, 6, 3, 4, 8, 1, 3, 1, 2, 3, 1, 1, 2, 3, 4, 5, 1, 3, 1, 1, 2, 3, 4, 5, 2, 3, 4, 6, 1, 2, 3, 4, 5, 1, 2, 3, 1, 1, 8, 1, 6, 1, 2, 3, 4, 5, 7, 1, 3, 2, 6, 6, 3, 5, 1, 2, 3, 4, 5, 2, 8, 4, 5, 1, 4, 5, 1, 5, 1, 7, 11, 2, 3, 1, 12, 3, 4, 9, 5, 8, 1, 7, 1, 3, 8, 7, 7, 4, 2, 2, 2, 4, 2, 1, 1, 2, 3, 4, 5, 6, 9, 1, 2, 3, 4, 5, 1, 2, 3, 4, 5, 1, 1, 2, 4, 1, 8, 1, 1, 2, 3, 4, 5, 5, 1, 3, 4, 5, 1, 2, 3, 4, 7, 2, 3, 2, 3, 12, 6, 4, 5, 3, 7, 1, 4, 3, 11, 11, 11, 11, 11, 11, 11, 11, 1, 7, 6, 1, 2, 3, 6, 6, 9, 1, 3, 2, 5, 7, 6, 5, 5, 1, 2, 3, 4, 3, 4, 3, 4, 1, 2, 3, 4, 1, 2, 3, 4, 1, 2, 3, 4, 1, 2, 3, 4, 1, 2, 4, 1, 2, 3, 4, 5, 1, 6, 6, 5, 1, 5, 6, 1, 2, 3, 4, 5, 3, 1, 2, 1, 2, 3, 6, 1, 2, 3, 4, 1, 2, 6, 1, 1, 2, 3, 6, 5, 5, 1, 2, 3, 1, 2, 3, 4, 1, 2, 1, 2, 3, 4, 5, 6, 1, 2, 3, 4, 4, 1, 3, 1, 2, 3, 4, 7, 2, 1, 2, 3, 4, 5, 1, 2, 4, 1, 2, 3, 4, 5, 6, 1, 3, 6, 1, 2, 2, 2, 5, 1, 2, 3, 4, 5, 4, 1, 2, 1, 2, 3, 1, 5, 4, 1, 2, 4, 1, 1, 2, 3, 4, 3, 1, 2, 3, 6, 1, 2, 3, 5, 6, 9, 1, 3, 4, 3, 2, 8, 2, 7, 3, 2, 4, 4, 1, 7, 1, 3, 4, 7, 3, 1, 3, 6, 1, 9, 5, 3, 7, 8, 3, 5, 4, 6, 5, 1, 6, 2, 3, 2, 1, 3, 3, 4, 6, 4, 5, 2, 2, 11, 1, 8, 7, 2, 1, 2, 4, 4, 2, 7, 6, 1, 2, 4, 8, 1, 2, 3, 4, 5, 4, 1, 3, 1, 2, 7, 4, 2, 4, 9, 2, 3, 5, 8, 1, 2, 3, 4, 5, 1, 2, 3, 4, 5, 1, 2, 3, 4, 5, 1, 2, 3, 4, 5, 3, 1, 3, 6, 4, 1, 3, 1, 2, 3, 4, 5, 3, 1, 3, 3, 1, 2, 3, 1, 2, 3, 4, 5, 5, 1, 2, 3, 4, 4, 1, 2, 3, 8, 2, 4, 2, 1, 3, 3, 1, 2, 3, 8, 1, 2, 3, 7, 1, 5, 7, 4, 2, 1, 2, 4, 1, 2, 3, 6, 1, 1, 2, 3, 4, 1, 2, 1, 2, 8, 1, 4, 3, 4, 1, 2, 6, 8, 1, 3, 4, 1, 8, 1, 3, 1, 2, 2, 1, 2, 3, 1, 2, 3, 4, 3, 6, 1, 6, 1, 2, 1, 3, 4, 1, 2, 3, 4, 1, 6, 1, 2, 1, 2, 3, 11, 4, 7, 4, 5, 1, 2, 2, 2, 4, 3, 6, 2, 2, 1, 2, 3, 4, 5, 4, 1, 5, 6, 1, 2, 3, 4, 5, 6, 1, 4, 1, 4, 5, 4, 1, 2, 8, 11, 1, 3, 2, 5, 1, 9, 4, 7, 6, 1, 2, 6, 2, 3, 2, 3, 4, 6, 1, 2, 3, 4, 5, 1, 11, 7, 2, 5, 6, 1, 2, 4, 2, 1, 5, 3, 4, 1, 2, 4, 1, 3, 3, 4, 5, 5, 5, 7, 8, 4, 1, 2, 3, 4, 5, 6, 9, 1, 2, 3, 1, 7, 1, 2, 3, 4, 5, 3, 9, 4, 3, 2, 3, 7, 1, 2, 3, 2, 1, 1, 4, 6, 1, 3, 11, 1, 2, 3, 4, 5, 2, 3, 4, 5, 1, 2, 3, 4, 3, 11, 1, 7, 1, 2, 3, 4, 4, 1, 2, 3, 4, 5, 1, 2, 3, 4, 5, 1, 2, 3, 4, 11, 11, 1, 2, 8, 2, 7, 7, 4, 5, 7, 8, 3, 5, 1, 2, 3, 4, 5, 7, 4, 1, 2, 3, 4, 5, 1, 7, 3, 7, 2, 4, 7, 6, 1, 1, 1, 2, 3, 5, 1, 2, 5, 1, 2, 4, 5, 6, 1, 2, 3, 4, 2, 3, 5, 1, 4, 5, 1, 2, 3, 4, 5, 1, 1, 2, 3, 4, 5, 3, 1, 1, 7, 1, 1, 2, 3, 5, 1, 1, 5, 4, 2, 4, 5, 3, 2, 2, 1, 2, 3, 4, 4, 1, 11, 11, 1, 2, 3, 4, 1, 1, 2, 5, 1, 2, 3, 11, 1, 2, 3, 4, 5, 1, 2, 1, 2, 1, 2, 3, 4, 5, 1, 2, 3, 4, 1, 2, 3, 4, 11, 1, 2, 3], \"Freq\": [0.9255675144824458, 0.02404071466188171, 0.04808142932376342, 0.5135957498582866, 0.17119858328609552, 0.34239716657219105, 0.9730701491676789, 0.8864271114333007, 0.10637125337199609, 0.8848897173089119, 0.9051134650733378, 0.30512964869277587, 0.6102592973855517, 1.0393296621098942, 0.888030607582328, 0.09239624818775666, 0.017965937147619352, 0.0025665624496599075, 0.9041138961146434, 0.023792470950385353, 0.07137741285115606, 0.9453411610422644, 0.017188021109859352, 0.034376042219718704, 0.017188021109859352, 0.5121187166757648, 0.20484748667030592, 0.20484748667030592, 1.0452143059775953, 0.8139928176610208, 0.16279856353220418, 0.9658485810768552, 0.010360711835151009, 0.01611666285467935, 0.004604760815622671, 0.0023023804078113356, 0.0011511902039056678, 0.9060969634068918, 0.07370166687998642, 0.017341568677643863, 0.002167696084705483, 0.002167696084705483, 0.991331038394174, 0.6565687010493985, 0.9681344014386298, 0.026707155901755306, 0.9391999771166448, 0.048164101390597173, 0.7770526028700429, 0.1697011431555266, 0.05358983468069261, 0.008931639113448768, 1.044164865733873, 1.0337807932922867, 0.7747458078797842, 0.15494916157595684, 0.964687559218331, 0.9891934463344206, 0.008976347062925777, 0.0011968462750567702, 0.0005984231375283851, 0.909898374240559, 0.07912159776004861, 0.7740754686272545, 0.844126577030658, 0.8199807169605445, 0.1639961433921089, 0.009939160205582359, 0.0024847900513955898, 0.0024847900513955898, 0.0024847900513955898, 0.8855750379099614, 0.8854972779567497, 0.8609196170954632, 0.12913794256431949, 0.04304598085477316, 0.9822420351438258, 0.9912228637642018, 0.005562417866241312, 0.0011124835732482625, 0.0011124835732482625, 0.948873020194294, 0.606223288333436, 0.606223288333436, 0.9554819893368393, 0.08686199903062175, 1.0083358919029568, 0.9864861253362072, 0.009271486140377887, 0.002781445842113366, 0.0009271486140377886, 0.0004635743070188943, 0.26047166245713443, 0.5209433249142689, 0.9764326565758593, 0.9803025874863519, 0.7492184282029934, 0.07886509770557826, 0.11829764655836739, 0.6285566017798427, 0.15713915044496068, 0.15713915044496068, 0.07856957522248034, 0.9403245572712617, 0.6945534344452997, 0.2315178114817666, 1.0028900453789211, 0.7961727135452085, 0.21713801278505684, 0.5659078703495019, 0.9977866602239714, 0.3594757309661902, 0.6290825291908327, 0.5056666908538293, 0.09193939833705987, 0.18387879667411974, 0.18387879667411974, 0.590449152941811, 0.04920409607848425, 0.34442867254938975, 0.7315182308347624, 0.24383941027825415, 0.8803996371453021, 0.1022940530778351, 0.01509256520820518, 0.0016769516898005755, 0.0016769516898005755, 0.6435820783651851, 0.7282220480210548, 0.9956704439267133, 0.43476240033135266, 0.5217148803976231, 0.12898016010236713, 0.7738809606142029, 0.08598677340157809, 0.9735395763231403, 0.8370885740550765, 0.8839494149060964, 0.08476227266222841, 0.01210889609460406, 0.892474494930191, 0.9770156869401873, 0.016383494136829314, 0.004395571597685914, 0.0017981883808715102, 0.0003995974179714467, 0.9480055434713245, 0.9052197715126131, 0.06705331640834171, 0.772629624037208, 0.22724400706976708, 0.864578829934983, 0.1152771773246644, 0.9141090804066327, 0.04888283852441886, 0.0342179869670932, 0.7340083207170024, 0.3670041603585012, 0.5730467115652907, 1.0117285492928687, 0.730777612000741, 0.5461174243965179, 0.5461174243965179, 0.9463287482512991, 0.9542151402905705, 1.040036162686948, 0.9454221827505263, 1.0485255009333607, 0.9062921838026099, 0.08239019852750999, 0.766102962390244, 0.191525740597561, 0.6696292768697474, 0.07609423600792584, 0.1978450136206072, 0.015218847201585168, 0.030437694403170335, 0.8702964556873077, 0.09669960618747864, 0.022160326417963856, 0.006043725386717415, 0.00402915025781161, 1.0422767605631742, 0.9513317644386046, 0.746721253201349, 0.9475655825909286, 0.9233593902217359, 0.9637782910489623, 0.9786739663777072, 0.01347682183208646, 0.0038505205234532743, 0.003208767102877729, 0.0006417534205755458, 0.982092766660115, 0.6380981711436362, 0.07976227139295453, 0.29246166177416655, 0.9563654517453826, 0.6636558644113943, 0.22564299389987408, 0.06636558644113943, 0.013273117288227887, 0.026546234576455774, 0.5123723117491805, 0.20494892469967219, 0.2732652329328963, 0.43922445813616556, 0.43922445813616556, 1.029967420308343, 0.9112558395426933, 0.9563313725366617, 0.4222198288347423, 0.519655173950452, 0.0649568967438065, 0.9769912766008709, 0.918392777458127, 0.6130189286391511, 0.8325734959173507, 0.971867587344812, 0.994092255532655, 0.3055836085413316, 0.6111672170826632, 1.0381763407030156, 1.0178924028717267, 1.0222710024289516, 1.0292375833430283, 0.9615680629233675, 0.7915893053132783, 1.0459270039311326, 0.8495898382825716, 0.5291140902179325, 0.4576121861344281, 0.014300380816700878, 0.9500540278254426, 1.0482136157667428, 1.0000854390244969, 0.9981639147053798, 0.9767797632984678, 0.6727717643947706, 1.025656357281909, 0.8737351056869951, 0.9123852876499641, 0.038016053652081834, 0.038016053652081834, 0.6979334180824854, 0.02181041931507767, 0.2835354510960097, 0.7933698604435057, 0.12205690160669318, 0.06102845080334659, 0.9134692696762525, 0.9468375506834246, 0.04295671307448429, 0.008054383701465804, 0.0008949315223850894, 0.9957076044230777, 0.885537673393934, 0.9726396055467879, 0.9317643633758212, 0.03923218372108721, 0.019616091860543604, 0.009808045930271802, 1.001204567148676, 0.3741718405107593, 0.3741718405107593, 0.3741718405107593, 1.0277101455966202, 0.9449390352930485, 0.04482403116133691, 0.00848022211160428, 0.0012114603016577545, 0.9612825230194229, 0.9607980016955903, 0.031123630528831357, 0.004610908226493534, 0.002305454113246767, 0.0005763635283116918, 0.9468656609509498, 0.9232793995377098, 0.36195501870047075, 0.6032583645007846, 0.7426501740723678, 0.4683999539052426, 0.49962661749892545, 0.03122666359368284, 0.9359955387601984, 0.21427982454196462, 0.7856926899872037, 0.8003293667220285, 0.9755430528964028, 0.01667594962216073, 1.246125701932062, 0.8800621440566282, 0.9460218937057859, 0.9247621500891736, 0.9114453229743623, 0.0781238848263739, 0.633788386235588, 0.30180399344551806, 0.060360798689103615, 0.7629307239841944, 0.7456807633078966, 0.7192053412813342, 0.3596026706406671, 1.0772481359921804, 0.739630642306269, 0.9836905616746302, 1.0051924476026983, 0.9992860095486472, 1.0086135172254678, 0.6993089984373108, 0.9225761418968268, 1.0392540803698138, 0.8965597793013845, 0.06403998423581318, 0.048029988176859884, 0.33305822599528984, 0.33305822599528984, 0.3067151406203836, 0.3067151406203836, 0.3067151406203836, 0.5133738902993731, 0.5133738902993731, 0.9649054464590238, 0.021602360741619933, 0.007200786913873312, 0.9949005047331466, 0.9750847514536897, 0.019159380759503988, 0.0025545841012671986, 0.0022991256911404786, 0.0005109168202534396, 0.9360060709262117, 0.7760515253129868, 0.9925734093474264, 0.9816280167223013, 0.014626450628698894, 0.0016558245994753465, 0.0016558245994753465, 0.0004139561498688366, 0.5843535279731455, 0.1460883819932864, 0.1460883819932864, 0.1460883819932864, 0.9825446954097786, 0.012040988914335521, 0.0028898373394405253, 0.0019265582262936835, 0.0004816395565734209, 0.997970933041784, 0.8573987129694033, 0.28579957098980113, 0.7940234839444763, 0.7505334994529341, 0.250177833150978, 0.5347314982584189, 0.5347314982584189, 0.9564810007414485, 0.03922477290106886, 0.002011526815439429, 0.002011526815439429, 0.0010057634077197146, 1.0391225424497932, 1.0006855151398402, 0.8373927549599971, 0.4848576531822996, 0.4848576531822996, 0.6428956026406848, 0.8897286398242443, 0.7474647658125609, 0.972254086222046, 0.016708227065657815, 0.008118786391059079, 0.002470934988583198, 0.0003529907126547426, 0.9772669326687677, 1.1746388387793398, 0.6494069445922349, 0.9821835577253741, 0.9757412864641056, 0.0058311232258811095, 0.01749336967764333, 0.9977479090719731, 0.8411271648609642, 0.8704397185777354, 0.10880496482221692, 0.7040288450914761, 0.9136598953895246, 0.597631439863199, 0.4130743394568989, 0.4130743394568989, 0.43930881713967096, 0.43930881713967096, 0.14643627237989032, 0.8375651563801391, 1.1745269175402029, 0.9177773497113157, 1.0411409211913878, 0.5894995583484022, 0.6952525061368141, 0.6952525061368141, 1.044657328439509, 1.0386827314599942, 0.6472334616105488, 0.9640817610981854, 0.9876541408388095, 0.9346979815047998, 0.09346979815047998, 1.0079008750929925, 0.9563020435484175, 0.9357002648226186, 0.0469664746203459, 0.011741618655086475, 0.0032022596332054024, 0.0010674198777351341, 0.0010674198777351341, 0.00021348397554702683, 0.9243108885397466, 0.038223382608786514, 0.010424558893305414, 0.0034748529644351377, 0.02084911778661083, 0.9398794898085082, 0.01708871799651833, 0.01708871799651833, 0.01708871799651833, 0.012816538497388747, 0.9987516498540709, 0.7518532830203272, 0.209819520842882, 0.02622744010536025, 0.881179279105524, 0.10167453220448354, 0.8547883698701453, 0.9507262809380246, 0.02205592104740228, 0.0104475415487695, 0.015090893348222612, 0.0011608379498632777, 0.7083406810141193, 0.799338183820439, 0.047019893165908176, 0.047019893165908176, 0.14105967949772452, 0.9843907226852234, 0.010371932901855802, 0.0033001604687723004, 0.0018858059821556003, 0.8929054519181858, 0.9252448595739873, 0.09252448595739872, 0.6161703145321386, 0.15404257863303464, 0.15404257863303464, 0.8857983665604123, 0.6009384724376052, 0.3004692362188026, 0.7871236467565244, 0.1967809116891311, 0.6742599094625774, 0.31119688129042034, 0.8360536640792313, 1.2126623041164695, 1.019398868115981, 1.1217583273707052, 1.0677994627080423, 1.2121394368930325, 0.9033536701580456, 0.9545601377895554, 0.988153510849209, 0.5804859574239604, 0.2902429787119802, 0.7819975155848885, 0.8128468269931483, 0.10837957693241977, 0.06322141987724486, 0.01806326282206996, 0.8817469839856941, 1.0653344551499246, 0.9501164105533079, 0.06334109403688719, 0.8274345786593204, 0.8371098844880306, 0.8903009870337146, 0.88354445540206, 0.7296825410265564, 0.9855041320834614, 0.9440544283168841, 0.038573203461873734, 0.013846790986313648, 0.0029671694970672103, 0.6088864898655213, 0.6088864898655213, 0.1919418250835863, 0.7677673003343451, 0.99031217147965, 0.005955485567317483, 0.0017015673049478523, 0.0017015673049478523, 0.988704303310576, 0.008151296390048397, 0.0014384640688320698, 0.0014384640688320698, 0.9906136582432, 0.005955593135730661, 0.0029777965678653307, 0.0009925988559551103, 0.9842265271420886, 0.011284125788890188, 0.002507583508642264, 0.001880687631481698, 0.9960089020871763, 0.0016627861470570556, 0.9524682590470087, 0.8968748457343643, 0.01939188855641869, 0.004847972139104672, 0.07756755422567475, 0.004847972139104672, 0.6328802215313964, 0.2109600738437988, 0.7426589882713135, 1.0034691622228122, 0.2942827312599189, 0.7357068281497973, 0.5621561230258897, 0.9641242930506654, 0.01512891187383355, 0.005501422499575837, 0.012378200624045634, 0.0013753556248939593, 0.9404653577356585, 0.8854183407705907, 0.1475697234617651, 0.5862465896534746, 0.041874756403819616, 0.3349980512305569, 0.041874756403819616, 0.9906192610821128, 0.006680476712499797, 0.0009543538160713997, 0.0009543538160713997, 0.10247409249594308, 0.8197927399675446, 0.05123704624797154, 0.9424217112356001, 0.7810938404362091, 0.17944047685696696, 0.0263883054201422, 0.01055532216805688, 0.9859826292665391, 0.9950260142840929, 0.6132833461325425, 0.14152692603058672, 0.2358782100509779, 0.9906609854538766, 0.0077094240113142155, 0.0009636780014142769, 0.0009636780014142769, 0.9152575640880474, 0.07040442800677288, 0.9762147642206417, 0.013933484591909247, 0.006966742295954623, 0.0023222474319848745, 0.0002902809289981093, 0.8817792931345071, 0.9414366665382582, 0.03513916018183234, 0.0204978434394022, 0.004392395022729043, 1.1331767758039841, 0.830304459143007, 0.16462933241628586, 0.9607460062539095, 0.030692480140355208, 0.0049964502554066615, 0.0028551144316609493, 1.0441317223998698, 0.9537187733179437, 0.9539382126076376, 0.027965615353318363, 0.011985263722850728, 0.005326783876822546, 0.0004438986564018788, 0.53426281499013, 0.11247638210318525, 0.3374291463095557, 0.9764262196284099, 0.01303764146380328, 0.008381340941016394, 0.0018625202091147543, 0.00046563005227868857, 0.8923943211384648, 0.5773315439677912, 0.41987748652202994, 0.7590415558208489, 0.9181197866500582, 0.06653041932246799, 1.0147715341757324, 0.9343965946817594, 0.8782847069031272, 0.5599836774552204, 0.03499897984095127, 0.03499897984095127, 0.24499285888665892, 0.10499693952285383, 0.8436071194229879, 0.9188860851673765, 0.06658594820053453, 0.8909876903519842, 0.08099888094108948, 0.8622886889963479, 0.5594747486591206, 0.33568484919547237, 0.9506653517701895, 0.10228053475722719, 0.7159637433005903, 0.15342080213584078, 0.5489859302418909, 0.9880259737329405, 0.009625192145474335, 0.0009625192145474335, 0.0014437788218211504, 1.0401150839485063, 0.7755144423737979, 0.05539388874098557, 0.11078777748197113, 0.05539388874098557, 0.7143172272135665, 0.1700755302889444, 0.03401510605778888, 0.03401510605778888, 0.03401510605778888, 0.03401510605778888, 0.5731975054027234, 0.0440921158002095, 0.352736926401676, 0.7205756623176789, 1.0214385301044875, 0.9364153971304362, 0.3790035827786517, 0.3790035827786517, 1.0016799723961927, 0.7039100760986874, 0.2707346446533413, 0.9380373152130135, 0.9771397976961802, 1.0413098353613928, 0.843671663146135, 0.2368949562028419, 0.2368949562028419, 0.4737899124056838, 0.6430924496682202, 0.5433190039736947, 0.3259914023842168, 0.10866380079473893, 0.9007063469385961, 0.1286723352769423, 0.9635573103498885, 0.901717190576673, 0.9328938768010114, 0.9409865147313011, 0.9613270984611368, 0.7401195628306849, 0.9815820177022493, 0.5652019905643043, 1.011499784230493, 0.755712525845418, 0.7498849598547841, 0.93106733474444, 1.0408760449071075, 0.9640345181808548, 0.8543001458373904, 0.1067875182296738, 1.0420333133772623, 0.559285692575441, 0.559285692575441, 0.9998850634964424, 0.986535559224194, 1.0088437080373858, 1.0061849538455374, 1.2124567724035105, 0.9980787333031049, 0.612225406400947, 0.7741288607826821, 0.9493573211032336, 0.235437621120022, 0.6592253391360616, 0.1412625726720132, 0.9486535566302722, 1.02458706221098, 0.6734647587154529, 0.8773298392527514, 0.7495415606695653, 0.2498471868898551, 0.4401890656685644, 0.4401890656685644, 0.9596125568582523, 0.031705260689149306, 0.004931929440534336, 0.0028182453945910495, 0.0007045613486477624, 0.7446458472530619, 0.9844127709407314, 0.7921047278557047, 0.25876006663944684, 0.7762801999183404, 1.0393549430851743, 0.8408655395843287, 0.45815575758768173, 0.45815575758768173, 0.45815575758768173, 0.26068419952554184, 0.695157865401445, 0.08689473317518062, 0.9126415374627492, 0.9923005684581945, 0.0045116634564828315, 0.0010615678721136073, 0.0007961759040852056, 0.0013269598401420093, 0.9774028158969613, 0.01876100910663643, 0.0013727567639002266, 0.0013727567639002266, 0.0009151711759334844, 0.9707110173722658, 0.021055063204035687, 0.005808293297665017, 0.0021781099866243813, 0.00036301833110406355, 0.9822633096262197, 0.01346180872032279, 0.002692361744064558, 0.001346180872032279, 0.00044872695734409304, 1.0205134095324133, 0.7859817470563101, 0.21533746494693426, 0.7437540526880236, 0.9593101181059986, 0.23905380404200957, 0.7171614121260288, 0.9758699220273996, 0.018412640038252822, 0.003790837654934405, 0.001624644709257602, 0.0005415482364192007, 0.5548538717795284, 0.7653609359820592, 0.22510615764178213, 0.8922213195139103, 0.4222367186021967, 0.18766076382319855, 0.32840633669059743, 0.9767258078033936, 0.012822313686916697, 0.0033449513965869643, 0.005017427094880447, 0.0016724756982934822, 0.7333708791945617, 0.9423290169244398, 0.05001505035545881, 0.004546822759587165, 0.0022734113797935824, 0.9500005403495178, 0.925720433703165, 0.05003894236233324, 0.02501947118116662, 0.00833982372705554, 0.8996396806250441, 0.09995996451389379, 0.9476955862902621, 0.39727620443650385, 0.5959143066547558, 0.9818830721649153, 0.9149222704596104, 0.046325178251119516, 0.023162589125559758, 0.011581294562779879, 0.6815930670799113, 0.2940205387403539, 0.026729139885486718, 0.8033376717307145, 0.9981120139000574, 0.5702053651131048, 0.5702053651131048, 0.9791073410111687, 0.9655607697717424, 0.4566970580991641, 0.18267882323966564, 0.3196879406694149, 0.7421863202863541, 0.10995352893131172, 0.10995352893131172, 0.02748838223282793, 0.9969896586754778, 0.9900986670710215, 0.0048739034244002465, 0.0020888157533143913, 0.0027850876710858547, 0.8336709967613604, 0.15157654486570188, 0.8306365837717301, 0.12305727166988595, 0.030764317917471487, 0.9965197892956398, 0.7452912531118172, 0.6011456878224918, 0.3005728439112459, 0.8339640517225152, 0.07942514778309669, 0.03971257389154834, 1.1876726789219287, 0.9462986376591285, 0.023080454577051913, 1.0915028171710137, 0.8237773175840235, 0.41188865879201175, 0.6834545048220967, 0.3037575576987096, 0.9723869458310579, 0.9501462305880646, 0.7560907813047866, 0.8826071702784823, 0.06304336930560589, 0.04953407588297605, 0.9850173428878847, 0.011074523530282276, 0.002461005228951617, 0.0006152513072379042, 0.9962423253687728, 0.8875035408898215, 0.6066016379956746, 0.2022005459985582, 0.6780785090195288, 0.19373671686272254, 0.6510965920457569, 0.286482500500133, 0.052087727363660546, 0.9941411672202358, 0.0013923545759387057, 0.0013923545759387057, 0.0027847091518774115, 0.8344991546056807, 0.884734644763048, 0.9695818461591558, 0.02203595104907172, 0.28122720895177833, 0.506208976113201, 0.22498176716142268, 0.7760726839353239, 0.5656308080395941, 0.5656308080395941, 0.4291649961015473, 0.4291649961015473, 0.5735150986015563, 0.3186194992230868, 0.9948796247086682, 0.9750636989989522, 0.9485779239948342, 0.9670372580496632, 0.8924449683698692, 0.9609064544150078, 0.9938409426565569, 0.9673937417415369, 0.02943192929986721, 0.0019299625770404728, 0.0009649812885202364, 0.0009649812885202364, 0.9514232511266587, 0.931156968061056, 0.03800640685963494, 0.03800640685963494, 0.9598467148403327, 0.01639362450623967, 0.014344421442959712, 0.008606652865775827, 0.00040984061265599177, 0.00040984061265599177, 0.7748903503965205, 0.2254226473880787, 0.5466250384444273, 0.06832812980555342, 0.40996877883332045, 0.7535109712601616, 0.4909592291389237, 0.4909592291389237, 0.09819184582778474, 0.9919745376451449, 0.9980347398387156, 0.981763551932735, 0.3016664957034584, 0.6033329914069168, 0.4996404786878609, 0.4996404786878609, 0.5354692237854849, 0.5354692237854849, 0.8774511118156275, 0.9450177907363977, 0.021477677062190857, 0.03221651559328628, 0.9763764992845866, 0.8275246784825189, 0.9832570156470123, 0.26077156598077705, 0.7823146979423312, 0.8763395144147925, 0.9822104454291879, 0.014044384221226598, 0.0017929001133480764, 0.0014940834277900638, 0.00029881668555801274, 0.984193249850367, 0.012458142403169203, 1.0391012618160427, 0.4169159827656319, 0.6253739741484479, 0.7446726986960841, 0.44343504938453604, 0.07390584156408934, 0.4803879701665807, 0.9231998224528488, 0.9096589834994055, 0.11865117176079203, 0.4973529319678047, 0.24867646598390236, 0.9668170593448377, 0.019934372357625522, 0.019934372357625522, 0.787491913935261, 0.13124865232254349, 0.39542611459223664, 0.39542611459223664, 0.39542611459223664, 1.0019315701737492, 0.40025291991085143, 0.40025291991085143, 1.174615636984194, 0.8094539623232515, 0.8090476870678851, 0.10589629411883313, 0.012707555294259975, 0.0169434070590133, 0.004235851764753325, 0.04235851764753325, 0.00847170352950665, 0.9485294934098305, 0.01897058986819661, 0.01897058986819661, 0.9837564254902941, 0.014682931723735733, 0.9819861856456495, 0.012731500715811691, 0.0033212610562987016, 0.0016606305281493508, 0.0005535435093831169, 0.9636443223936481, 1.1826233727372577, 1.0174930485922142, 0.6459430427605491, 0.7457866034913481, 0.24859553449711602, 0.6845317997256813, 0.8062373622875091, 0.0773104320001721, 0.11044347428596014, 0.9493275951696677, 0.8399082296244713, 0.9449709764834014, 0.023048072597156133, 0.023048072597156133, 0.9951784236091072, 0.8744192142348645, 1.0444418993640543, 0.9750288245848474, 0.01840917537988923, 0.00504060754449348, 0.0008766273990423442, 0.0004383136995211721, 0.261990080930081, 0.261990080930081, 0.261990080930081, 0.261990080930081, 0.9850600669757197, 0.008597781133204536, 0.00307063611900162, 0.00307063611900162, 0.9304145077518206, 1.2126124795703643, 0.9163871912679078, 0.048230904803574094, 0.9899873374101933, 0.004801102509263789, 0.0028806615055582733, 0.0019204410037055157, 0.9847179662738604, 0.9890397850687862, 0.0035719735415806883, 0.004762631388774251, 0.0023813156943871257, 1.0000212900517005, 0.9596300691281346, 0.032975057704461234, 0.005588992831264616, 0.001676697849379385, 0.0005588992831264616, 0.9487006470608396, 0.0053297789160721325, 0.044414824300601105, 0.0017765929720240442, 0.9920748549043394, 1.0619473034289297, 0.9953735357078155, 0.0033741475786705608, 1.0382663837127368, 0.951060998382034, 0.7733496005955901, 0.7732151782404342, 0.8654081317976374, 0.9796337513193637, 0.6139488689206754, 1.1746305399420085, 0.9792096224017098, 0.838214063710515, 0.9570754707804302, 0.02562777798710747, 0.007322222282030706, 0.007932407472199931, 0.0018305555705076765, 0.00030509259508461274, 1.019422698491218, 0.9878191322292448, 0.010097706685010057, 0.0008780614508704398, 0.0008780614508704398, 0.0004390307254352199, 0.9977273631144984, 0.6845587435221588, 0.8834733048051059, 1.0385190791162764, 0.5427968651928614, 0.9487760105236265, 0.8430493603296672, 0.6411128652182874, 0.9954920500477913, 0.9538802561734792, 0.5961888528370126, 0.23185122054772714, 0.06624320587077918, 0.09936480880616878, 0.21456095508339856, 0.4291219101667971, 0.32184143262509785, 0.9152904810387515, 0.02830795302181706, 0.02830795302181706, 0.02830795302181706, 0.009435984340605686, 0.9235278301911221, 0.051307101677284556, 0.01941349793194551, 0.00416003527113118, 0.5480649785959171, 0.27403248929795854, 0.27403248929795854, 0.4127498425422626, 0.5306783689829091, 0.11792852644064646, 0.9812563331985695, 0.013366959337689492, 0.002430356243216271, 0.0021265617128142377, 0.0006075890608040678, 0.9948925825629772, 0.9847955136458569, 0.01055766482765064, 0.00234614773947792, 0.00117307386973896, 0.00058653693486948, 0.9132776696295424, 0.9990772811723033, 0.976251448616529, 0.01952502897233058, 0.7432875464992068, 0.6962682846503523, 0.26779549409628933, 0.021423639527703146, 0.010711819763851573, 1.0019042639903235, 1.0012806926596782, 0.8264108209476544, 1.00822105009523, 0.9497027880413029, 0.07914189900344192, 0.9821897627493051, 0.8509812121985233, 0.9398883704607717, 0.930209526247359, 0.944918116285629, 0.0363430044725242, 0.013389527963561547, 0.004781974272700552, 0.8888704803571926, 0.9974002622607274, 0.9352982074191458, 0.9508988219145259, 0.9906852058035471, 0.007076322898596765, 0.0008845403623245956, 0.0008845403623245956, 0.9957112893329599, 0.9963068664732492, 0.001317866225493716, 0.001317866225493716, 0.9869792578811083, 0.007734947162077651, 0.0015469894324155302, 0.0030939788648310603, 0.9880194040505947, 0.008317661850095205, 0.0023764748143129157, 0.0011882374071564578, 0.0005941187035782289, 0.9968116734430685, 0.00337902262184091, 0.9973837816709482, 0.002236286505988673, 0.9942047995653721, 0.005076173301938443, 0.00036258380728131735, 0.00036258380728131735, 0.00036258380728131735, 0.9504973225458102, 0.038165284461686454, 0.008178275241789955, 0.002726091747263318, 0.9746145025193209, 0.020428276539086375, 0.0033428088882141343, 0.0018571160490078523, 0.8323006804070703, 0.9947584228420482, 0.0036216932870462917, 0.0012072310956820972], \"Term\": [\"100th battalion\", \"100th battalion\", \"100th battalion\", \"3rd platoon\", \"3rd platoon\", \"3rd platoon\", \"7th avenue\", \"aboard ship\", \"aboard ship\", \"aclu news\", \"actually use\", \"advocate general\", \"advocate general\", \"aerospace engineering\", \"african american\", \"african american\", \"african american\", \"african american\", \"air base\", \"air base\", \"air base\", \"air corp\", \"air corp\", \"air corp\", \"air corp\", \"air shelter\", \"air shelter\", \"air shelter\", \"aki oshida\", \"american church\", \"american church\", \"american citizen\", \"american citizen\", \"american citizen\", \"american citizen\", \"american citizen\", \"american citizen\", \"american community\", \"american community\", \"american community\", \"american community\", \"american community\", \"american council\", \"american immigrant\", \"american legion\", \"american legion\", \"american society\", \"american society\", \"american study\", \"american study\", \"american study\", \"american study\", \"anderson dam\", \"andy russell\", \"angeles high\", \"angeles high\", \"anti war\", \"anything like\", \"anything like\", \"anything like\", \"anything like\", \"army officer\", \"army officer\", \"arrow head\", \"asian activist\", \"asian american\", \"asian american\", \"asian american\", \"asian american\", \"asian american\", \"asian american\", \"asian counselor\", \"asian faculty\", \"asian student\", \"asian student\", \"asian student\", \"asked discharge\", \"assembly center\", \"assembly center\", \"assembly center\", \"assembly center\", \"assigned tank\", \"aunt alice\", \"aunt alice\", \"awful time\", \"awful time\", \"back atatashima\", \"back japan\", \"back japan\", \"back japan\", \"back japan\", \"back japan\", \"back redlands\", \"back redlands\", \"bamboo rake\", \"became catholic\", \"ben kuroki\", \"ben kuroki\", \"ben kuroki\", \"big five\", \"big five\", \"big five\", \"big five\", \"bill lann\", \"black american\", \"black american\", \"black belt\", \"black panther\", \"black panther\", \"blaney estate\", \"block manager\", \"blue box\", \"blue box\", \"boarding school\", \"boarding school\", \"boarding school\", \"boarding school\", \"bob bratt\", \"bob bratt\", \"bob bratt\", \"bob madrid\", \"bob madrid\", \"boy scout\", \"boy scout\", \"boy scout\", \"boy scout\", \"boy scout\", \"brother gene\", \"brother shu\", \"brother took\", \"buchanan street\", \"buchanan street\", \"bunker hill\", \"bunker hill\", \"bunker hill\", \"buy plant\", \"cadet school\", \"cal state\", \"cal state\", \"cal state\", \"call cookie\", \"came back\", \"came back\", \"came back\", \"came back\", \"came back\", \"came show\", \"camera voice\", \"camera voice\", \"camp director\", \"camp director\", \"camp mccoy\", \"camp mccoy\", \"camp savage\", \"camp savage\", \"camp savage\", \"camp wolters\", \"camp wolters\", \"canadian community\", \"captain byrne\", \"captain wada\", \"case appeal\", \"case appeal\", \"caucasian personnel\", \"chapel service\", \"charge dropped\", \"chevy chase\", \"chinese communist\", \"city county\", \"city county\", \"city planning\", \"city planning\", \"civil liberty\", \"civil liberty\", \"civil liberty\", \"civil liberty\", \"civil liberty\", \"civil right\", \"civil right\", \"civil right\", \"civil right\", \"civil right\", \"class team\", \"claver center\", \"coffin yeah\", \"college idaho\", \"colonel weckerling\", \"color lab\", \"come back\", \"come back\", \"come back\", \"come back\", \"come back\", \"commercial school\", \"community service\", \"community service\", \"community service\", \"coop store\", \"coram nobis\", \"coram nobis\", \"coram nobis\", \"coram nobis\", \"coram nobis\", \"court martial\", \"court martial\", \"court martial\", \"cultural centre\", \"cultural centre\", \"custer michigan\", \"de de\", \"de greene\", \"death valley\", \"death valley\", \"death valley\", \"dede greene\", \"dee flat\", \"defense counsel\", \"defense section\", \"denied right\", \"department state\", \"deputy mayor\", \"deputy mayor\", \"deputy minister\", \"dixie mission\", \"dr marten\", \"dr taira\", \"dr taylor\", \"east third\", \"eastern nigeria\", \"ed chen\", \"ed note\", \"ed note\", \"ed note\", \"edward weston\", \"elderly mother\", \"em got\", \"em know\", \"eng huh\", \"eng oh\", \"eng uhhuh\", \"eng yeah\", \"ethnic community\", \"ethnic community\", \"ethnic community\", \"ethnic study\", \"ethnic study\", \"ethnic study\", \"euclid hall\", \"euclid hall\", \"euclid hall\", \"evacuation case\", \"even though\", \"even though\", \"even though\", \"even though\", \"everything yeah\", \"faculty association\", \"fair number\", \"fair play\", \"fair play\", \"fair play\", \"fair play\", \"farm went\", \"federal court\", \"federal court\", \"federal court\", \"feed machine\", \"felt like\", \"felt like\", \"felt like\", \"felt like\", \"filed suit\", \"first time\", \"first time\", \"first time\", \"first time\", \"first time\", \"first washington\", \"fish harbor\", \"fishing right\", \"fishing right\", \"food card\", \"foreign service\", \"foreign service\", \"foreign service\", \"foreign trade\", \"fort bliss\", \"fort bliss\", \"fort custer\", \"fort lupton\", \"fort lupton\", \"fort simcoe\", \"forth essence\", \"foster parent\", \"fourth army\", \"frank chin\", \"frank chin\", \"fred korematsu\", \"fred korematsu\", \"fred korematsu\", \"fred korematsus\", \"freds brother\", \"freds case\", \"freds case\", \"french canadian\", \"fresno chapter\", \"friend eddie\", \"frying pan\", \"funny part\", \"ga kita\", \"gang four\", \"gay lesbian\", \"general eichelberger\", \"general macarthur\", \"general macarthur\", \"general macarthur\", \"george nishi\", \"george nishi\", \"get captured\", \"get captured\", \"get captured\", \"get reparation\", \"get reparation\", \"girl scout\", \"girl scout\", \"girl scout\", \"give em\", \"go back\", \"go back\", \"go back\", \"go back\", \"go back\", \"go nursing\", \"going em\", \"going yeah\", \"gon na\", \"gon na\", \"gon na\", \"gon na\", \"gon na\", \"gordon min\", \"gordon min\", \"gordon min\", \"gordon min\", \"got married\", \"got married\", \"got married\", \"got married\", \"got married\", \"got picked\", \"got selected\", \"got selected\", \"got summer\", \"government canada\", \"government canada\", \"government lawyer\", \"government lawyer\", \"grocery store\", \"grocery store\", \"grocery store\", \"grocery store\", \"grocery store\", \"hajime mashite\", \"happened happened\", \"happy childhood\", \"hawaii hochi\", \"hawaii hochi\", \"heath street\", \"hello maggie\", \"henry stone\", \"high school\", \"high school\", \"high school\", \"high school\", \"high school\", \"highly educated\", \"history canada\", \"holly park\", \"holocaust center\", \"hood river\", \"hood river\", \"hood river\", \"house built\", \"housing code\", \"hugh anderson\", \"hugh anderson\", \"huh jpn\", \"human service\", \"hundred seven\", \"hung wai\", \"hung wai\", \"hunger strike\", \"hunger strike\", \"hunger strike\", \"ice creamery\", \"imai group\", \"immigration act\", \"incendiary attack\", \"indiana university\", \"individual compensation\", \"individual compensation\", \"informed people\", \"injured people\", \"intergroup relation\", \"international school\", \"investment banking\", \"involved asian\", \"involved asian\", \"irrigation canal\", \"japan soon\", \"japanese american\", \"japanese american\", \"japanese american\", \"japanese american\", \"japanese american\", \"japanese american\", \"japanese american\", \"japanese ancestry\", \"japanese ancestry\", \"japanese ancestry\", \"japanese ancestry\", \"japanese ancestry\", \"japanese army\", \"japanese army\", \"japanese army\", \"japanese army\", \"japanese army\", \"japanese association\", \"japanese baptist\", \"japanese baptist\", \"japanese baptist\", \"japanese canadian\", \"japanese canadian\", \"japanese intelligence\", \"japanese language\", \"japanese language\", \"japanese language\", \"japanese language\", \"japanese language\", \"japanese law\", \"japanese officer\", \"japanese officer\", \"japanese officer\", \"japanese officer\", \"japanese school\", \"japanese school\", \"japanese school\", \"japanese school\", \"jewish market\", \"jim wright\", \"jim wright\", \"jimmie omura\", \"jimmie omura\", \"jimmie omura\", \"jimmy shimizu\", \"jo ann\", \"jo ann\", \"joe kurihara\", \"joe kurihara\", \"john aiso\", \"john aiso\", \"joining military\", \"jpn child\", \"jpn jpn\", \"jpn know\", \"jpn oh\", \"jpn right\", \"jpn see\", \"jpn yeah\", \"jpn yes\", \"judge advocate\", \"judge advocate\", \"julio cesar\", \"justice department\", \"justice department\", \"justice department\", \"justice department\", \"jyotaro sakato\", \"kai group\", \"kan hall\", \"kan hall\", \"kansa state\", \"kansai gakuin\", \"kanto gakuin\", \"kanyaku imin\", \"kash hayashi\", \"keith oka\", \"kind thing\", \"kind thing\", \"kind thing\", \"kind thing\", \"kind uniform\", \"kind uniform\", \"knight columbus\", \"knight columbus\", \"know got\", \"know got\", \"know got\", \"know got\", \"know know\", \"know know\", \"know know\", \"know know\", \"know remember\", \"know remember\", \"know remember\", \"know remember\", \"know think\", \"know think\", \"know think\", \"know think\", \"know yeah\", \"know yeah\", \"korean language\", \"korean war\", \"korean war\", \"korean war\", \"korean war\", \"korean war\", \"korematsu hirabayashi\", \"korematsu hirabayashi\", \"kure navy\", \"la housiere\", \"la verne\", \"la verne\", \"language men\", \"language school\", \"language school\", \"language school\", \"language school\", \"language school\", \"lann lee\", \"larger society\", \"larger society\", \"latin american\", \"latin american\", \"latin american\", \"latin american\", \"laugh yeah\", \"laugh yeah\", \"laugh yeah\", \"laugh yeah\", \"law caucus\", \"law caucus\", \"law caucus\", \"law practice\", \"law school\", \"law school\", \"law school\", \"law school\", \"lee mullis\", \"legal section\", \"liberty act\", \"liberty act\", \"liberty act\", \"like say\", \"like say\", \"like say\", \"like say\", \"lion club\", \"lion club\", \"little bit\", \"little bit\", \"little bit\", \"little bit\", \"little bit\", \"little submarine\", \"little tokyo\", \"little tokyo\", \"little tokyo\", \"little tokyo\", \"lived montavilla\", \"lone pine\", \"lone pine\", \"long time\", \"long time\", \"long time\", \"long time\", \"loring park\", \"lorne bell\", \"los angeles\", \"los angeles\", \"los angeles\", \"los angeles\", \"los angeles\", \"los feliz\", \"los feliz\", \"los feliz\", \"lot people\", \"lot people\", \"lot people\", \"lot people\", \"lot people\", \"low eighth\", \"lowell high\", \"lowell high\", \"loyalty league\", \"luther king\", \"luther king\", \"main family\", \"majority community\", \"man army\", \"marine corp\", \"marine corp\", \"marine corp\", \"marine corp\", \"marine corp\", \"marten shoe\", \"martin luther\", \"martin luther\", \"master plan\", \"master plan\", \"maybe itll\", \"mayor office\", \"mayor office\", \"meeting st\", \"member congress\", \"member congress\", \"member congress\", \"merit saving\", \"mess hall\", \"mess hall\", \"mess hall\", \"mess hall\", \"michio ito\", \"mike lowry\", \"mike lowry\", \"mike lowry\", \"mike lowry\", \"military necessity\", \"military necessity\", \"military necessity\", \"military necessity\", \"military necessity\", \"military necessity\", \"military order\", \"military order\", \"military order\", \"mineta matsui\", \"minoru yamasaki\", \"miss breed\", \"miss peet\", \"miss peet\", \"miss stuart\", \"model city\", \"model city\", \"morro bay\", \"mountain sentinel\", \"move camera\", \"moved florin\", \"mp officer\", \"mp officer\", \"mp officer\", \"mr aebi\", \"mr besig\", \"mr besig\", \"mr besig\", \"mr best\", \"mr best\", \"mr cairn\", \"mr collins\", \"mr cowdrick\", \"mr duveneck\", \"mr furtado\", \"mr furuya\", \"mr hamano\", \"mr hyland\", \"mr kitamoto\", \"mr koda\", \"mr lajeunesse\", \"mr miki\", \"mr numata\", \"mr obuchi\", \"mr okamoto\", \"mr okamoto\", \"mr sakano\", \"mr stone\", \"mr stone\", \"mr sunderland\", \"mr takizaki\", \"mr terao\", \"mr tsujimoto\", \"much jpn\", \"much yeah\", \"multiculturalism program\", \"mummy bag\", \"national board\", \"national president\", \"national president\", \"national president\", \"natural rubber\", \"naturally put\", \"negotiating committee\", \"neighbor need\", \"net one\", \"net one\", \"new caledonia\", \"new caledonia\", \"new york\", \"new york\", \"new york\", \"new york\", \"new york\", \"nikkei member\", \"nippon kan\", \"nonjapanese spouse\", \"note mr\", \"note mr\", \"nuclear plant\", \"oahu sugar\", \"occupation army\", \"occupation army\", \"occupation army\", \"office redress\", \"office redress\", \"office redress\", \"official language\", \"oh yeah\", \"oh yeah\", \"oh yeah\", \"oh yeah\", \"oh yeah\", \"oh yes\", \"oh yes\", \"oh yes\", \"oh yes\", \"oh yes\", \"one thing\", \"one thing\", \"one thing\", \"one thing\", \"one thing\", \"one time\", \"one time\", \"one time\", \"one time\", \"one time\", \"oral historian\", \"oral history\", \"oral history\", \"oral language\", \"ordnance depot\", \"pacific height\", \"pacific height\", \"passed away\", \"passed away\", \"passed away\", \"passed away\", \"passed away\", \"pastor church\", \"paul nakadate\", \"paul nakadate\", \"paul say\", \"peace treaty\", \"peace treaty\", \"peace treaty\", \"pearl harbor\", \"pearl harbor\", \"pearl harbor\", \"pearl harbor\", \"pearl harbor\", \"pentagon building\", \"people like\", \"people like\", \"people like\", \"people like\", \"peter claver\", \"phone call\", \"phone call\", \"phone call\", \"phone call\", \"physical exam\", \"physical exam\", \"pick phone\", \"piece metal\", \"piece metal\", \"piece shit\", \"play committee\", \"play committee\", \"play committee\", \"play committee\", \"point time\", \"point time\", \"point time\", \"pomona hotel\", \"pool hall\", \"positive thinking\", \"positive thinking\", \"preliminary design\", \"presidential apology\", \"presidio san\", \"presidio san\", \"presidio san\", \"press conference\", \"press conference\", \"press conference\", \"press conference\", \"pretty big\", \"pretty good\", \"pretty good\", \"pretty good\", \"pretty good\", \"preworld war\", \"preworld war\", \"prime minister\", \"prime minister\", \"prime minister\", \"prince rupert\", \"printing press\", \"public policy\", \"public policy\", \"puyallup fair\", \"puyallup fair\", \"puyallup fair\", \"quite honestly\", \"race relation\", \"race relation\", \"race restriction\", \"railroad property\", \"railroad property\", \"railroad worker\", \"railroad worker\", \"raise issue\", \"rattle rattle\", \"raw fish\", \"really kind\", \"really kind\", \"really kind\", \"really know\", \"really know\", \"really know\", \"really know\", \"record created\", \"red dirt\", \"redress process\", \"redress process\", \"redress program\", \"redress program\", \"redress reparation\", \"redress reparation\", \"redress reparation\", \"remember much\", \"remember much\", \"remember much\", \"remember much\", \"resister conscience\", \"reverend tsuji\", \"right american\", \"right american\", \"right division\", \"right division\", \"right division\", \"right jpn\", \"river city\", \"river city\", \"rock spring\", \"rock spring\", \"rocky shimpo\", \"rocky shimpo\", \"roman catholic\", \"ross hopkins\", \"rubber company\", \"russellville school\", \"said cookie\", \"said meeting\", \"said min\", \"said oh\", \"said oh\", \"said oh\", \"said oh\", \"said oh\", \"san benancio\", \"san bernardino\", \"san bernardino\", \"san bernardino\", \"san francisco\", \"san francisco\", \"san francisco\", \"san francisco\", \"san francisco\", \"san francisco\", \"san mateo\", \"san mateo\", \"schofield barrack\", \"schofield barrack\", \"schofield barrack\", \"science degree\", \"secretary state\", \"secretary state\", \"secretary state\", \"see jpn\", \"see remember\", \"seem recall\", \"select commission\", \"select commission\", \"senior pastor\", \"senior pastor\", \"sergeant stripe\", \"sergeant stripe\", \"sexing business\", \"shall say\", \"shall say\", \"shall say\", \"side kent\", \"silver lake\", \"sister toshiko\", \"solano county\", \"solano county\", \"solicitor general\", \"something like\", \"something like\", \"something like\", \"something like\", \"something like\", \"south park\", \"south park\", \"special courtmartial\", \"special mission\", \"special mission\", \"st clair\", \"st peter\", \"st peter\", \"st peter\", \"staff faculty\", \"standard poor\", \"standard poor\", \"stanford university\", \"stanford university\", \"state university\", \"state university\", \"state university\", \"steering committee\", \"steering committee\", \"stone wall\", \"stone wall\", \"stone wall\", \"stoop squint\", \"stripe back\", \"stripe back\", \"strongly opposed\", \"structural engineer\", \"supreme court\", \"supreme court\", \"supreme court\", \"supreme court\", \"supreme court\", \"supreme court\", \"supreme court\", \"sure everybody\", \"sure everybody\", \"sure everybody\", \"ta go\", \"ta go\", \"take care\", \"take care\", \"take care\", \"take care\", \"take care\", \"take portrait\", \"takeshi tsutomu\", \"tap tap\", \"taught second\", \"taul watanabe\", \"taul watanabe\", \"taylor hotel\", \"tea ceremony\", \"tea ceremony\", \"tea ceremony\", \"terao said\", \"territorial guard\", \"test case\", \"test case\", \"test case\", \"thing day\", \"thing denied\", \"thing jpn\", \"thing like\", \"thing like\", \"thing like\", \"thing like\", \"thing like\", \"think surprised\", \"think surprised\", \"think surprised\", \"think surprised\", \"think think\", \"think think\", \"think think\", \"think think\", \"thirtyfive hundred\", \"time jpn\", \"title ii\", \"title ii\", \"took care\", \"took care\", \"took care\", \"took care\", \"tree rubber\", \"tule lake\", \"tule lake\", \"tule lake\", \"tule lake\", \"two lieutenant\", \"two year\", \"two year\", \"two year\", \"two year\", \"two year\", \"type thing\", \"type thing\", \"type thing\", \"type thing\", \"uhhuh eng\", \"uhhuh jpn\", \"uhhuh yeah\", \"uhhuh yeah\", \"ukrainian community\", \"uncle ben\", \"uncle mizuhata\", \"uncle nobi\", \"uncle picked\", \"uncle renichi\", \"uncle ro\", \"undersecretary state\", \"unique case\", \"unit designation\", \"united state\", \"united state\", \"united state\", \"united state\", \"united state\", \"united state\", \"university louisville\", \"used go\", \"used go\", \"used go\", \"used go\", \"used go\", \"used put\", \"vanport city\", \"vanport flood\", \"varsity victory\", \"verification process\", \"vernon todd\", \"vvv boy\", \"waldorf astoria\", \"want call\", \"want right\", \"war crime\", \"war crime\", \"war crime\", \"war crime\", \"war criminal\", \"war criminal\", \"war criminal\", \"war department\", \"war department\", \"war department\", \"war department\", \"war department\", \"war ii\", \"war ii\", \"war ii\", \"war ii\", \"war record\", \"war record\", \"war record\", \"war vet\", \"war vet\", \"war vet\", \"went back\", \"went back\", \"went back\", \"went back\", \"went back\", \"went go\", \"went school\", \"went school\", \"went school\", \"went school\", \"went school\", \"west chicago\", \"west la\", \"west sacramento\", \"west sacramento\", \"white fish\", \"white house\", \"white house\", \"white house\", \"white house\", \"wholesale market\", \"wide open\", \"willie may\", \"within context\", \"woman organization\", \"woman organization\", \"word perhaps\", \"work trying\", \"working redress\", \"world daily\", \"world war\", \"world war\", \"world war\", \"world war\", \"writing style\", \"yeah come\", \"yeah eng\", \"yeah jpn\", \"yeah know\", \"yeah know\", \"yeah know\", \"yeah know\", \"yeah laugh\", \"yeah oh\", \"yeah oh\", \"yeah oh\", \"yeah right\", \"yeah right\", \"yeah right\", \"yeah right\", \"yeah think\", \"yeah think\", \"yeah think\", \"yeah think\", \"yeah think\", \"yeah uhhuh\", \"yeah uhhuh\", \"yeah used\", \"yeah used\", \"yeah yeah\", \"yeah yeah\", \"yeah yeah\", \"yeah yeah\", \"yeah yeah\", \"year later\", \"year later\", \"year later\", \"year later\", \"year old\", \"year old\", \"year old\", \"year old\", \"yes jpn\", \"yes uhhuh\", \"yes uhhuh\", \"yes uhhuh\"]}, \"R\": 30, \"lambda.step\": 0.01, \"plot.opts\": {\"xlab\": \"PC1\", \"ylab\": \"PC2\"}, \"topic.order\": [2, 6, 8, 15, 3, 9, 16, 4, 5, 1, 14, 11, 17, 12, 10, 7, 13]};\n",
       "\n",
       "function LDAvis_load_lib(url, callback){\n",
       "  var s = document.createElement('script');\n",
       "  s.src = url;\n",
       "  s.async = true;\n",
       "  s.onreadystatechange = s.onload = callback;\n",
       "  s.onerror = function(){console.warn(\"failed to load library \" + url);};\n",
       "  document.getElementsByTagName(\"head\")[0].appendChild(s);\n",
       "}\n",
       "\n",
       "if(typeof(LDAvis) !== \"undefined\"){\n",
       "   // already loaded: just create the visualization\n",
       "   !function(LDAvis){\n",
       "       new LDAvis(\"#\" + \"ldavis_el4294825383542720646880766443\", ldavis_el4294825383542720646880766443_data);\n",
       "   }(LDAvis);\n",
       "}else if(typeof define === \"function\" && define.amd){\n",
       "   // require.js is available: use it to load d3/LDAvis\n",
       "   require.config({paths: {d3: \"https://d3js.org/d3.v5\"}});\n",
       "   require([\"d3\"], function(d3){\n",
       "      window.d3 = d3;\n",
       "      LDAvis_load_lib(\"https://cdn.jsdelivr.net/gh/bmabey/pyLDAvis@3.3.1/pyLDAvis/js/ldavis.v3.0.0.js\", function(){\n",
       "        new LDAvis(\"#\" + \"ldavis_el4294825383542720646880766443\", ldavis_el4294825383542720646880766443_data);\n",
       "      });\n",
       "    });\n",
       "}else{\n",
       "    // require.js not available: dynamically load d3 & LDAvis\n",
       "    LDAvis_load_lib(\"https://d3js.org/d3.v5.js\", function(){\n",
       "         LDAvis_load_lib(\"https://cdn.jsdelivr.net/gh/bmabey/pyLDAvis@3.3.1/pyLDAvis/js/ldavis.v3.0.0.js\", function(){\n",
       "                 new LDAvis(\"#\" + \"ldavis_el4294825383542720646880766443\", ldavis_el4294825383542720646880766443_data);\n",
       "            })\n",
       "         });\n",
       "}\n",
       "</script>"
      ],
      "text/plain": [
       "<IPython.core.display.HTML object>"
      ]
     },
     "execution_count": 55,
     "metadata": {},
     "output_type": "execute_result"
    }
   ],
   "source": [
    "import pyLDAvis.gensim_models\n",
    "#from pyLdAvis import gensim_models\n",
    "# don't skip this\n",
    "vis = pyLDAvis.gensim_models.prepare(ldamodel, corpus, dictionary)\n",
    "#pyLDAvis.show(vis)\n",
    "pyLDAvis.display(vis)"
   ]
  },
  {
   "cell_type": "code",
   "execution_count": 56,
   "id": "e78c8e3e",
   "metadata": {},
   "outputs": [
    {
     "data": {
      "text/html": [
       "<div>\n",
       "<style scoped>\n",
       "    .dataframe tbody tr th:only-of-type {\n",
       "        vertical-align: middle;\n",
       "    }\n",
       "\n",
       "    .dataframe tbody tr th {\n",
       "        vertical-align: top;\n",
       "    }\n",
       "\n",
       "    .dataframe thead th {\n",
       "        text-align: right;\n",
       "    }\n",
       "</style>\n",
       "<table border=\"1\" class=\"dataframe\">\n",
       "  <thead>\n",
       "    <tr style=\"text-align: right;\">\n",
       "      <th></th>\n",
       "      <th>Document_No</th>\n",
       "      <th>Dominant_Topic</th>\n",
       "      <th>Topic_Perc_Contrib</th>\n",
       "      <th>Keywords</th>\n",
       "      <th>Text</th>\n",
       "    </tr>\n",
       "  </thead>\n",
       "  <tbody>\n",
       "    <tr>\n",
       "      <th>0</th>\n",
       "      <td>0</td>\n",
       "      <td>1.0</td>\n",
       "      <td>0.7532</td>\n",
       "      <td>high school, gon na, came back, thing like, ja...</td>\n",
       "      <td>[name aaron, aaron zajic, zajic role, role fir...</td>\n",
       "    </tr>\n",
       "    <tr>\n",
       "      <th>1</th>\n",
       "      <td>1</td>\n",
       "      <td>1.0</td>\n",
       "      <td>0.7538</td>\n",
       "      <td>high school, gon na, came back, thing like, ja...</td>\n",
       "      <td>[born august, august 1924, 1924 sacramento, sa...</td>\n",
       "    </tr>\n",
       "    <tr>\n",
       "      <th>2</th>\n",
       "      <td>2</td>\n",
       "      <td>1.0</td>\n",
       "      <td>0.5295</td>\n",
       "      <td>high school, gon na, came back, thing like, ja...</td>\n",
       "      <td>[asian american, american action, action group...</td>\n",
       "    </tr>\n",
       "    <tr>\n",
       "      <th>3</th>\n",
       "      <td>3</td>\n",
       "      <td>1.0</td>\n",
       "      <td>0.8463</td>\n",
       "      <td>high school, gon na, came back, thing like, ja...</td>\n",
       "      <td>[family mean, mean father, father father, fath...</td>\n",
       "    </tr>\n",
       "    <tr>\n",
       "      <th>4</th>\n",
       "      <td>4</td>\n",
       "      <td>1.0</td>\n",
       "      <td>0.8059</td>\n",
       "      <td>high school, gon na, came back, thing like, ja...</td>\n",
       "      <td>[kamesuke yabiku, yabiku kama, kama yabiku, ya...</td>\n",
       "    </tr>\n",
       "    <tr>\n",
       "      <th>5</th>\n",
       "      <td>5</td>\n",
       "      <td>1.0</td>\n",
       "      <td>0.6465</td>\n",
       "      <td>high school, gon na, came back, thing like, ja...</td>\n",
       "      <td>[mother grew, grew kumamoto, kumamoto japan, j...</td>\n",
       "    </tr>\n",
       "    <tr>\n",
       "      <th>6</th>\n",
       "      <td>6</td>\n",
       "      <td>1.0</td>\n",
       "      <td>0.9994</td>\n",
       "      <td>high school, gon na, came back, thing like, ja...</td>\n",
       "      <td>[always parent, parent positive, positive alwa...</td>\n",
       "    </tr>\n",
       "    <tr>\n",
       "      <th>7</th>\n",
       "      <td>7</td>\n",
       "      <td>1.0</td>\n",
       "      <td>0.9767</td>\n",
       "      <td>high school, gon na, came back, thing like, ja...</td>\n",
       "      <td>[yes permission, permission father, father tsu...</td>\n",
       "    </tr>\n",
       "    <tr>\n",
       "      <th>8</th>\n",
       "      <td>8</td>\n",
       "      <td>1.0</td>\n",
       "      <td>0.9391</td>\n",
       "      <td>high school, gon na, came back, thing like, ja...</td>\n",
       "      <td>[war living, living family, family guess, gues...</td>\n",
       "    </tr>\n",
       "    <tr>\n",
       "      <th>9</th>\n",
       "      <td>9</td>\n",
       "      <td>1.0</td>\n",
       "      <td>0.9389</td>\n",
       "      <td>high school, gon na, came back, thing like, ja...</td>\n",
       "      <td>[farming uhhuh, uhhuh war, war farming, farmin...</td>\n",
       "    </tr>\n",
       "  </tbody>\n",
       "</table>\n",
       "</div>"
      ],
      "text/plain": [
       "   Document_No  Dominant_Topic  Topic_Perc_Contrib  \\\n",
       "0            0             1.0              0.7532   \n",
       "1            1             1.0              0.7538   \n",
       "2            2             1.0              0.5295   \n",
       "3            3             1.0              0.8463   \n",
       "4            4             1.0              0.8059   \n",
       "5            5             1.0              0.6465   \n",
       "6            6             1.0              0.9994   \n",
       "7            7             1.0              0.9767   \n",
       "8            8             1.0              0.9391   \n",
       "9            9             1.0              0.9389   \n",
       "\n",
       "                                            Keywords  \\\n",
       "0  high school, gon na, came back, thing like, ja...   \n",
       "1  high school, gon na, came back, thing like, ja...   \n",
       "2  high school, gon na, came back, thing like, ja...   \n",
       "3  high school, gon na, came back, thing like, ja...   \n",
       "4  high school, gon na, came back, thing like, ja...   \n",
       "5  high school, gon na, came back, thing like, ja...   \n",
       "6  high school, gon na, came back, thing like, ja...   \n",
       "7  high school, gon na, came back, thing like, ja...   \n",
       "8  high school, gon na, came back, thing like, ja...   \n",
       "9  high school, gon na, came back, thing like, ja...   \n",
       "\n",
       "                                                Text  \n",
       "0  [name aaron, aaron zajic, zajic role, role fir...  \n",
       "1  [born august, august 1924, 1924 sacramento, sa...  \n",
       "2  [asian american, american action, action group...  \n",
       "3  [family mean, mean father, father father, fath...  \n",
       "4  [kamesuke yabiku, yabiku kama, kama yabiku, ya...  \n",
       "5  [mother grew, grew kumamoto, kumamoto japan, j...  \n",
       "6  [always parent, parent positive, positive alwa...  \n",
       "7  [yes permission, permission father, father tsu...  \n",
       "8  [war living, living family, family guess, gues...  \n",
       "9  [farming uhhuh, uhhuh war, war farming, farmin...  "
      ]
     },
     "execution_count": 56,
     "metadata": {},
     "output_type": "execute_result"
    }
   ],
   "source": [
    "def format_topics_sentences(ldamodel, corpus, texts):\n",
    "    # Init output\n",
    "    sent_topics_df = pd.DataFrame()\n",
    "\n",
    "    # Get main topic in each document\n",
    "    for i, row in enumerate(ldamodel[corpus]):\n",
    "        row = sorted(row, key=lambda x: (x[1]), reverse=True)\n",
    "        # Get the Dominant topic, Perc Contribution and Keywords for each document\n",
    "        for j, (topic_num, prop_topic) in enumerate(row):\n",
    "            if j == 0:  # => dominant topic\n",
    "                wp = ldamodel.show_topic(topic_num)\n",
    "                topic_keywords = \", \".join([word for word, prop in wp])\n",
    "                sent_topics_df = sent_topics_df.append(pd.Series([int(topic_num), round(prop_topic,4), topic_keywords]), ignore_index=True)\n",
    "            else:\n",
    "                break\n",
    "    sent_topics_df.columns = ['Dominant_Topic', 'Perc_Contribution', 'Topic_Keywords']\n",
    "\n",
    "    # Add original text to the end of the output\n",
    "    contents = pd.Series(texts)\n",
    "    sent_topics_df = pd.concat([sent_topics_df, contents], axis=1)\n",
    "    return(sent_topics_df)\n",
    "\n",
    "\n",
    "df_topic_sents_keywords = format_topics_sentences(ldamodel=ldamodel, corpus=corpus, texts=texts)\n",
    "\n",
    "# Format\n",
    "df_dominant_topic = df_topic_sents_keywords.reset_index()\n",
    "df_dominant_topic.columns = ['Document_No', 'Dominant_Topic', 'Topic_Perc_Contrib', 'Keywords', 'Text']\n",
    "\n",
    "# Show\n",
    "df_dominant_topic.head(10)"
   ]
  },
  {
   "cell_type": "code",
   "execution_count": 57,
   "id": "1c1c6fa6",
   "metadata": {},
   "outputs": [],
   "source": [
    "# Saving the above dataframe in a csv file.\n",
    "df_dominant_topic.to_csv('17 Topics Summary.csv',index=False)"
   ]
  },
  {
   "cell_type": "code",
   "execution_count": 76,
   "id": "41d8fdb2",
   "metadata": {},
   "outputs": [
    {
     "data": {
      "text/plain": [
       "1.0     891\n",
       "0.0     100\n",
       "5.0      15\n",
       "7.0       9\n",
       "2.0       6\n",
       "3.0       5\n",
       "14.0      4\n",
       "8.0       3\n",
       "11.0      2\n",
       "9.0       2\n",
       "10.0      1\n",
       "16.0      1\n",
       "13.0      1\n",
       "12.0      1\n",
       "6.0       1\n",
       "Name: Dominant_Topic, dtype: int64"
      ]
     },
     "execution_count": 76,
     "metadata": {},
     "output_type": "execute_result"
    }
   ],
   "source": [
    "df_dominant_topic['Dominant_Topic'].value_counts()"
   ]
  },
  {
   "cell_type": "code",
   "execution_count": 88,
   "id": "d85a3171",
   "metadata": {},
   "outputs": [
    {
     "data": {
      "image/png": "[encoded data removed]",
      "text/plain": [
       "<Figure size 432x288 with 1 Axes>"
      ]
     },
     "metadata": {
      "needs_background": "light"
     },
     "output_type": "display_data"
    }
   ],
   "source": [
    "import matplotlib.pyplot as plt\n",
    "\n",
    "df_dominant_topic['Topic_Perc_Contrib'].hist()\n",
    "plt.xlabel(\"Topic Percentage Contribution\", fontsize=15)\n",
    "plt.ylabel(\"Count of Documents\",fontsize=15)\n",
    "plt.show()"
   ]
  },
  {
   "cell_type": "code",
   "execution_count": 93,
   "id": "2cd52139",
   "metadata": {},
   "outputs": [
    {
     "name": "stdout",
     "output_type": "stream",
     "text": [
      "The Percentage of documents that has topic contributions of less than 0.6 are  0.14\n"
     ]
    }
   ],
   "source": [
    "print(\"The Percentage of documents that has topic contributions of less than 0.6 are \",round((df_dominant_topic[df_dominant_topic['Topic_Perc_Contrib'] < 0.6].shape[0])/ (df_dominant_topic.shape[0]), 2))"
   ]
  },
  {
   "cell_type": "code",
   "execution_count": 71,
   "id": "916a5a48",
   "metadata": {},
   "outputs": [
    {
     "data": {
      "text/plain": [
       "[([(0.0017599323, 'jpn yeah'),\n",
       "   (0.0010459757, 'eng yeah'),\n",
       "   (0.00095675734, 'yeah jpn'),\n",
       "   (0.00091849465, 'jpn yes'),\n",
       "   (0.00063799665, 'yes jpn'),\n",
       "   (0.0005615151, 'yeah eng'),\n",
       "   (0.00051051576, 'jpn jpn'),\n",
       "   (0.00048504074, 'jpn oh'),\n",
       "   (0.0003703031, 'jpn see'),\n",
       "   (0.0003320403, 'see jpn')],\n",
       "  1.0420000412636637e-09),\n",
       " ([(0.00298937, 'high school'),\n",
       "   (0.002573523, 'gon na'),\n",
       "   (0.0017688781, 'came back'),\n",
       "   (0.0016095599, 'thing like'),\n",
       "   (0.001585687, 'japanese american'),\n",
       "   (0.0013810503, 'go back'),\n",
       "   (0.0013526336, 'oh yeah'),\n",
       "   (0.0012167974, 'little bit'),\n",
       "   (0.0011892704, 'something like'),\n",
       "   (0.0011685542, 'went back')],\n",
       "  -0.31678029968711485),\n",
       " ([(0.00076763757, 'high school'),\n",
       "   (0.000609936, 'japanese american'),\n",
       "   (0.0003955036, 'san francisco'),\n",
       "   (0.00031313, 'kind thing'),\n",
       "   (0.00030143952, 'los angeles'),\n",
       "   (0.00027374498, 'type thing'),\n",
       "   (0.00027324693, 'little bit'),\n",
       "   (0.0002658031, 'united state'),\n",
       "   (0.0002597308, 'thing like'),\n",
       "   (0.00025876443, 'lone pine')],\n",
       "  -1.0851643791434316),\n",
       " ([(0.001233587, 'japanese american'),\n",
       "   (0.00079804176, 'high school'),\n",
       "   (0.00059451954, 'gon na'),\n",
       "   (0.00046987343, 'united state'),\n",
       "   (0.00046930774, 'thing like'),\n",
       "   (0.0004585639, 'came back'),\n",
       "   (0.00043745356, 'kind thing'),\n",
       "   (0.0004196698, 'go back'),\n",
       "   (0.00038098218, 'law school'),\n",
       "   (0.00036994892, 'asian american')],\n",
       "  -1.1548501168594973),\n",
       " ([(2.7201146e-05, 'kamaboko white'),\n",
       "   (2.7138492e-05, 'white fish'),\n",
       "   (2.3001889e-05, 'frying pan'),\n",
       "   (1.38397545e-05, 'think surprised'),\n",
       "   (1.3839685e-05, 'get wholesale'),\n",
       "   (1.3838938e-05, 'mixed go'),\n",
       "   (1.3838416e-05, 'miso rice'),\n",
       "   (1.3838299e-05, 'temperature get'),\n",
       "   (1.3838192e-05, 'naturally put'),\n",
       "   (1.3837876e-05, 'use wooden')],\n",
       "  -1.2082783245311124),\n",
       " ([(0.00037294804, 'united state'),\n",
       "   (0.00030930646, 'high school'),\n",
       "   (0.00030409335, 'san francisco'),\n",
       "   (0.00022954539, 'san mateo'),\n",
       "   (0.00022778651, 'mr sunderland'),\n",
       "   (0.0002261673, 'korean war'),\n",
       "   (0.00022343872, 'japanese american'),\n",
       "   (0.0001915838, 'st peter'),\n",
       "   (0.00019049732, 'japanese language'),\n",
       "   (0.00017984466, 'los angeles')],\n",
       "  -5.5409877649852834),\n",
       " ([(0.00024565315, 'hood river'),\n",
       "   (0.0001865359, 'camp savage'),\n",
       "   (0.00018525297, 'japanese ancestry'),\n",
       "   (0.0001810311, 'united state'),\n",
       "   (0.00015776958, 'schofield barrack'),\n",
       "   (0.000138007, 'la verne'),\n",
       "   (0.00013080811, 'oh yeah'),\n",
       "   (0.00012958265, 'japanese american'),\n",
       "   (0.00012512226, 'camp mccoy'),\n",
       "   (0.0001177029, 'boarding school')],\n",
       "  -7.384408567664911),\n",
       " ([(0.0005575978, 'supreme court'),\n",
       "   (0.00028408127, 'japanese american'),\n",
       "   (0.00020839441, 'law school'),\n",
       "   (0.00014749596, 'shall say'),\n",
       "   (0.00014172382, 'frank chin'),\n",
       "   (0.00012809885, 'justice department'),\n",
       "   (0.00012711705, 'civil right'),\n",
       "   (0.00012242443, 'air shelter'),\n",
       "   (0.00011879769, 'fred korematsu'),\n",
       "   (0.00011590268, 'hawaii hochi')],\n",
       "  -9.304049824588958),\n",
       " ([(0.00013014313, 'table tennis'),\n",
       "   (0.00011050772, 'mr aebi'),\n",
       "   (9.912518e-05, 'larger society'),\n",
       "   (8.993462e-05, 'kan hall'),\n",
       "   (8.013527e-05, 'american society'),\n",
       "   (7.0398935e-05, 'black american'),\n",
       "   (6.723152e-05, 'preworld war'),\n",
       "   (6.613469e-05, 'nippon kan'),\n",
       "   (6.530392e-05, 'anglo conformity'),\n",
       "   (6.3981606e-05, 'francis aebi')],\n",
       "  -11.79525102662342),\n",
       " ([(0.0001438113, 'city treasurer'),\n",
       "   (0.00013007222, 'merit saving'),\n",
       "   (0.00011771703, 'saving loan'),\n",
       "   (9.190862e-05, 'data entry'),\n",
       "   (6.550927e-05, 'taul watanabe'),\n",
       "   (6.5506036e-05, 'holly park'),\n",
       "   (5.6407276e-05, 'sure everybody'),\n",
       "   (5.4256172e-05, 'master plan'),\n",
       "   (5.2753574e-05, 'entry technician'),\n",
       "   (5.270297e-05, 'mr naku')],\n",
       "  -12.386313315993643),\n",
       " ([(6.512458e-05, 'book publishing'),\n",
       "   (6.438811e-05, 'van camp'),\n",
       "   (6.225979e-05, 'public policy'),\n",
       "   (5.188172e-05, 'matter public'),\n",
       "   (5.186794e-05, 'malcolm wallop'),\n",
       "   (5.110571e-05, 'japan expo'),\n",
       "   (4.852291e-05, 'resister conscience'),\n",
       "   (3.8571678e-05, 'hearing new'),\n",
       "   (3.8555005e-05, 'york book'),\n",
       "   (3.854302e-05, 'raise issue')],\n",
       "  -13.843047231835575),\n",
       " ([(0.00032587597, 'japanese canadian'),\n",
       "   (0.00023733143, 'camera voice'),\n",
       "   (0.0002109142, 'official language'),\n",
       "   (0.00017375522, 'french canadian'),\n",
       "   (0.00016136366, 'canadian community'),\n",
       "   (0.00014897416, 'multiculturalism program'),\n",
       "   (0.00013858597, 'prime minister'),\n",
       "   (0.00012758363, 'fair play'),\n",
       "   (0.000116701645, 'play committee'),\n",
       "   (9.940884e-05, 'get captured')],\n",
       "  -14.369918690420509),\n",
       " ([(0.0002877761, 'supreme court'),\n",
       "   (0.00010153001, 'hunger strike'),\n",
       "   (9.701495e-05, 'japanese american'),\n",
       "   (8.888229e-05, 'kai group'),\n",
       "   (8.397919e-05, 'mr best'),\n",
       "   (7.711876e-05, 'military necessity'),\n",
       "   (7.6229e-05, 'occupation army'),\n",
       "   (7.614639e-05, 'takeshi tsutomu'),\n",
       "   (7.583134e-05, 'senior pastor'),\n",
       "   (6.824654e-05, 'gay lesbian')],\n",
       "  -14.797251539214525),\n",
       " ([(0.00023207608, 'hung wai'),\n",
       "   (0.00017658884, 'big five'),\n",
       "   (0.00015519913, 'jimmie omura'),\n",
       "   (0.00010035544, 'test case'),\n",
       "   (7.795965e-05, 'mr burn'),\n",
       "   (7.7730205e-05, 'wai ching'),\n",
       "   (7.645363e-05, 'percent disability'),\n",
       "   (7.498687e-05, 'rocky shimpo'),\n",
       "   (7.110106e-05, 'san anita'),\n",
       "   (7.0926195e-05, 'ben kuroki')],\n",
       "  -16.582848946276336),\n",
       " ([(0.00016604918, 'fort lupton'),\n",
       "   (0.00015504626, 'mp officer'),\n",
       "   (0.00014152666, 'judge advocate'),\n",
       "   (0.00013095145, 'advocate general'),\n",
       "   (0.00010510976, 'blaney estate'),\n",
       "   (0.000104071594, 'cal state'),\n",
       "   (0.000104054365, 'west sacramento'),\n",
       "   (9.8470744e-05, 'asian american'),\n",
       "   (9.683209e-05, 'title ii'),\n",
       "   (9.5564916e-05, 'defense counsel')],\n",
       "  -18.249970516194736),\n",
       " ([(0.000105419946, 'play committee'),\n",
       "   (9.948811e-05, 'redress program'),\n",
       "   (9.0375914e-05, 'fair play'),\n",
       "   (8.84047e-05, 'fujima kansuma'),\n",
       "   (6.5095875e-05, 'verification unit'),\n",
       "   (6.454064e-05, 'pom pom'),\n",
       "   (6.430953e-05, 'willie may'),\n",
       "   (5.1566345e-05, 'pom girl'),\n",
       "   (5.156506e-05, 'taught second'),\n",
       "   (5.133456e-05, 'intergroup relation')],\n",
       "  -19.601985595328706),\n",
       " ([(8.8018125e-05, 'bob bratt'),\n",
       "   (8.757136e-05, 'mr allen'),\n",
       "   (7.850718e-05, 'brother gene'),\n",
       "   (7.5377364e-05, 'kansa state'),\n",
       "   (6.437351e-05, 'nonjapanese spouse'),\n",
       "   (6.3724896e-05, 'helper utah'),\n",
       "   (6.2466635e-05, 'homeless shelter'),\n",
       "   (6.0136437e-05, 'stanford university'),\n",
       "   (5.7124955e-05, 'arrow head'),\n",
       "   (5.3883705e-05, 'aboard ship')],\n",
       "  -19.88766088687193)]"
      ]
     },
     "execution_count": 71,
     "metadata": {},
     "output_type": "execute_result"
    }
   ],
   "source": [
    "ldamodel.top_topics(corpus,topn=10)"
   ]
  },
  {
   "cell_type": "code",
   "execution_count": 66,
   "id": "9bcd9e49",
   "metadata": {},
   "outputs": [],
   "source": [
    "# extracting the 17 topics and saving in a csv file\n",
    "df1 = df_dominant_topic[['Dominant_Topic', 'Keywords']].drop_duplicates()"
   ]
  },
  {
   "cell_type": "code",
   "execution_count": 70,
   "id": "e3a3fdd6",
   "metadata": {},
   "outputs": [],
   "source": [
    "df1.to_csv('17 Topics.csv',index=False)"
   ]
  },
  {
   "cell_type": "code",
   "execution_count": null,
   "id": "8af849a3",
   "metadata": {},
   "outputs": [],
   "source": []
  }
 ],
 "metadata": {
  "kernelspec": {
   "display_name": "Python 3 (ipykernel)",
   "language": "python",
   "name": "python3"
  },
  "language_info": {
   "codemirror_mode": {
    "name": "ipython",
    "version": 3
   },
   "file_extension": ".py",
   "mimetype": "text/x-python",
   "name": "python",
   "nbconvert_exporter": "python",
   "pygments_lexer": "ipython3",
   "version": "3.9.7"
  }
 },
 "nbformat": 4,
 "nbformat_minor": 5
}
