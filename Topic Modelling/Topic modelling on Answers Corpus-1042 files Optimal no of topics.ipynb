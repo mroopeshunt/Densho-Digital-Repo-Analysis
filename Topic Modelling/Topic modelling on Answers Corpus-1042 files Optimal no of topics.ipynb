{
 "cells": [
  {
   "cell_type": "code",
   "execution_count": 3,
   "id": "bb6e3065",
   "metadata": {},
   "outputs": [
    {
     "name": "stdout",
     "output_type": "stream",
     "text": [
      "\n"
     ]
    }
   ],
   "source": [
    "import json\n",
    "import os\n",
    "import glob\n",
    "import pprint\n",
    "\n",
    " \n",
    "count = 0\n",
    "answers_dict = {'narr_answers': []}\n",
    "path = r'C:\\\\Users\\\\maganti\\\\Documents\\\\INFO 5502 Chen Sir Project UNT\\\\Web Scraping Interviews\\\\Narrators Json Files-With Q&A'\n",
    "for filename in glob.glob(os.path.join(path, '*.json')): #only process .JSON files in folder.     \n",
    "    #print(filename)\n",
    "    narrators_answers_corpus = \"\"\n",
    "    with open(filename, mode = 'rb') as currentFile:\n",
    "        data = json.loads(currentFile.read())\n",
    "        try:\n",
    "            if data['transcript'] != {}:\n",
    "                for segment in data[\"transcript\"].keys():\n",
    "                    for question in data[\"transcript\"][segment]['Segment Q&A'].keys():\n",
    "                        #answers_sentiments[data[\"transcript\"][segment]['Segment Q&A'][question]] = sentiment_scores(data[\"transcript\"][segment]['Segment Q&A'][question])\n",
    "                        #print(data[\"transcript\"][segment]['Segment Q&A'][question])\n",
    "                        narrators_answers_corpus = narrators_answers_corpus + \" \" + data[\"transcript\"][segment]['Segment Q&A'][question]\n",
    "                        count = count + 1\n",
    "                        #print()\n",
    "                        #for answer in data[\"transcript\"][segment]['Segment Q&A'][question]:\n",
    "                        #    print(answer)\n",
    "                        #segment_questions_list.append(' '.join(i for i in question.split()[1:]))\n",
    "                        #print(' '.join(i for i in question.split()[1:]))\n",
    "                        #print(data['transcript'][segment]['Segment Questions'][question])\n",
    "                #print(count)    \n",
    "                \n",
    "            else:\n",
    "                pass\n",
    "        except Exception as e:\n",
    "            print(e)\n",
    "    #if narrators_answers_corpus != \"\":\n",
    "    answers_dict['narr_answers'].append(narrators_answers_corpus) \n",
    "#print(len(segment_questions_list))\n",
    "print()\n"
   ]
  },
  {
   "cell_type": "code",
   "execution_count": 4,
   "id": "65a0ef21",
   "metadata": {},
   "outputs": [],
   "source": [
    "import pandas as pd\n",
    "df = pd.DataFrame(answers_dict)\n",
    "df['narr_answers'] = df['narr_answers'].str.lower()\n",
    "#print(df['narr_answers'])"
   ]
  },
  {
   "cell_type": "code",
   "execution_count": 3,
   "id": "246aed9d",
   "metadata": {},
   "outputs": [
    {
     "name": "stderr",
     "output_type": "stream",
     "text": [
      "C:\\Users\\maganti\\AppData\\Local\\Temp/ipykernel_14096/1017421635.py:1: FutureWarning: The default value of regex will change from True to False in a future version.\n",
      "  df['narr_answers'] = df['narr_answers'].str.replace('[^a-zA-Z0-9 ]', '')\n"
     ]
    }
   ],
   "source": [
    "df['narr_answers'] = df['narr_answers'].str.replace('[^a-zA-Z0-9 ]', '')"
   ]
  },
  {
   "cell_type": "code",
   "execution_count": 5,
   "id": "35af3bf4",
   "metadata": {},
   "outputs": [],
   "source": [
    "from nltk.tokenize import RegexpTokenizer\n",
    "#from stop_words import get_stop_words\n",
    "from nltk.stem.wordnet import WordNetLemmatizer\n",
    "from gensim import corpora, models\n",
    "import pandas as pd\n",
    "import gensim\n",
    "import re\n",
    "import pyLDAvis#.gensim\n",
    "import pyLDAvis.gensim_models\n",
    "#from nltk.corpus import stopwords\n",
    "#stop_words = stopwords.words('english')\n",
    "#stop_words.extend(['from', 'subject', 're', 'edu', 'use'])"
   ]
  },
  {
   "cell_type": "code",
   "execution_count": 6,
   "id": "3a9bf434",
   "metadata": {},
   "outputs": [],
   "source": [
    "from stop_words import get_stop_words\n",
    "from nltk.corpus import stopwords\n",
    "STOPWORDS = set(stopwords.words('english'))\n",
    "stop_words = list(get_stop_words('en'))"
   ]
  },
  {
   "cell_type": "code",
   "execution_count": 7,
   "id": "3ba33831",
   "metadata": {},
   "outputs": [
    {
     "name": "stdout",
     "output_type": "stream",
     "text": [
      "{'own', 'haven', 'o', 'up', 'ain', 'before', 'to', 'and', 'be', 've', 'there', \"she's\", 'did', 'who', 'should', \"couldn't\", \"they're\", \"she'll\", 'most', \"who's\", 'mightn', 'a', 'about', 'would', 'does', 'has', 'shan', \"why's\", 'very', \"hadn't\", 'we', 'is', 'isn', 'hasn', \"they'd\", \"that's\", 'won', 'just', 'down', \"wasn't\", 'each', 'in', 'which', 'ours', 'few', \"where's\", 'being', \"aren't\", 'the', \"here's\", 'why', \"wouldn't\", \"that'll\", 'needn', 'until', 'cannot', 'no', \"i'll\", 'how', 'you', \"shouldn't\", 'ought', \"needn't\", 'myself', 'between', 'their', \"i'm\", 'herself', 'an', \"should've\", \"weren't\", \"i've\", 'only', 'will', \"when's\", \"i'd\", 'again', \"doesn't\", 'same', 'he', 'his', 'him', \"hasn't\", 'at', 'over', 'do', \"you've\", \"how's\", 'your', 'as', 'after', \"we'd\", 'could', 'hadn', \"mustn't\", 'whom', 't', 'other', 'yourselves', 'am', 'this', 'm', 'out', \"shan't\", 'themselves', 'have', 'what', 'hers', 'these', 'all', \"he'd\", \"he's\", 'll', \"what's\", 'wasn', 'yours', 'can', 'wouldn', \"she'd\", 'having', 'below', \"they'll\", 'weren', \"he'll\", 'or', 'are', 'mustn', 'were', 'if', 'when', 're', 'yourself', 'me', 'on', 'any', 'during', 'such', 'don', 'doing', 'too', \"can't\", 'further', 'i', 'shouldn', 'than', 'had', 'both', 'some', \"won't\", 'was', 'been', \"it's\", 'above', 'they', \"isn't\", 'them', 'off', 'd', 'aren', 'but', 'nor', 'my', 'our', 'theirs', 'into', 'her', 'doesn', 'where', \"haven't\", 'while', \"didn't\", 'by', \"you're\", 'its', 'those', 'from', \"we'll\", 'for', 'didn', 'himself', 'ourselves', 'so', \"we've\", 'not', \"there's\", 'itself', 'y', \"let's\", 'once', 'of', 's', 'now', 'she', 'against', 'through', 'it', 'under', 'ma', \"don't\", \"we're\", 'more', \"mightn't\", 'with', \"you'd\", 'then', \"you'll\", 'that', 'because', 'here', 'couldn', \"they've\"}\n",
      "<class 'list'>\n",
      "<class 'list'>\n",
      "211\n"
     ]
    }
   ],
   "source": [
    "print((set(list(STOPWORDS)) | set(list(stop_words))))\n",
    "stopwords = list(set(list(STOPWORDS)) | set(list(stop_words)))\n",
    "print(type(list(STOPWORDS)))\n",
    "print(type((stop_words)))\n",
    "print(len(stopwords))"
   ]
  },
  {
   "cell_type": "code",
   "execution_count": 8,
   "id": "2c6e9f7e",
   "metadata": {},
   "outputs": [],
   "source": [
    "stopwords = [re.sub('[^a-zA-Z0-9]+', '', word) for word in stopwords]"
   ]
  },
  {
   "cell_type": "code",
   "execution_count": 9,
   "id": "35b350ec",
   "metadata": {},
   "outputs": [],
   "source": [
    "df['clean_narr_answers'] = df['narr_answers'].apply(lambda x: ' '.join([word for word in x.split() if word not in (stopwords)]))\n"
   ]
  },
  {
   "cell_type": "code",
   "execution_count": 56,
   "id": "277ff1e3",
   "metadata": {},
   "outputs": [
    {
     "data": {
      "text/plain": [
       "True"
      ]
     },
     "execution_count": 56,
     "metadata": {},
     "output_type": "execute_result"
    }
   ],
   "source": [
    "'for' in stop_words"
   ]
  },
  {
   "cell_type": "code",
   "execution_count": 11,
   "id": "400cdc15",
   "metadata": {
    "scrolled": true
   },
   "outputs": [],
   "source": [
    "texts = []\n",
    "lemmatizer = WordNetLemmatizer()\n",
    "# loop through document list\n",
    "for i in df['clean_narr_answers']:\n",
    "    # clean and tokenize document string\n",
    "    #raw = str(i[1]).lower()\n",
    "    #tokens = tokenizer.tokenize(raw)\n",
    "    tokens = i.split()\n",
    "    # remove stop words from tokens\n",
    "    #stop_words = stopwords.words('english')\n",
    "    #stopped_tokens = [raw for raw in tokens if not raw in stop_words]\n",
    "    \n",
    "    # remove stop words from tokens\n",
    "    #stopped_tokens_new = [raw for raw in stopped_tokens if not raw in remove_words]\n",
    "    \n",
    "    # lemmatize tokens\n",
    "    \n",
    "    lemma_tokens = [lemmatizer.lemmatize(token) for token in tokens]\n",
    "    \n",
    "    # remove word containing only single char\n",
    "    new_lemma_tokens = [raw for raw in lemma_tokens if not len(raw) == 1]\n",
    "    \n",
    "    lemmatized_string = \" \".join(token for token in new_lemma_tokens)\n",
    "    \n",
    "    \n",
    "    import nltk\n",
    "    #word_data = \"The best performance can bring in sky high success.\"\n",
    "    nltk_tokens = nltk.word_tokenize(lemmatized_string)\n",
    "    #print(list(nltk.bigrams(nltk_tokens)))\n",
    "    texts.append([ele[0]+ \" \" + ele[1] for ele in list(nltk.bigrams(nltk_tokens))])\n",
    "\n",
    "# sample data\n",
    "#print(texts[8])"
   ]
  },
  {
   "cell_type": "code",
   "execution_count": 12,
   "id": "8280bbd0",
   "metadata": {},
   "outputs": [],
   "source": [
    "# turn our tokenized documents into a id <-> term dictionary\n",
    "dictionary = corpora.Dictionary(texts)\n",
    "# convert tokenized documents into a document-term matrix\n",
    "corpus = [dictionary.doc2bow(text) for text in texts]"
   ]
  },
  {
   "cell_type": "code",
   "execution_count": 13,
   "id": "cdadf4a2",
   "metadata": {},
   "outputs": [
    {
     "name": "stdout",
     "output_type": "stream",
     "text": [
      "No of topics: 10\n",
      "\n",
      "Perplexity:  -15.194041991608781\n",
      "\n",
      "Coherence Score:  0.28016172792258676\n",
      "\n",
      "No of topics: 11\n",
      "\n",
      "Perplexity:  -15.636926547226299\n",
      "\n",
      "Coherence Score:  0.2528203252076886\n",
      "\n",
      "No of topics: 12\n",
      "\n",
      "Perplexity:  -16.644957643394118\n",
      "\n",
      "Coherence Score:  0.42849491116590416\n",
      "\n",
      "No of topics: 13\n",
      "\n",
      "Perplexity:  -17.265100287890604\n",
      "\n",
      "Coherence Score:  0.4108185884506593\n",
      "\n",
      "No of topics: 14\n",
      "\n",
      "Perplexity:  -17.47321067750119\n",
      "\n",
      "Coherence Score:  0.4164173228668698\n",
      "\n",
      "No of topics: 15\n",
      "\n",
      "Perplexity:  -18.1592991185747\n",
      "\n",
      "Coherence Score:  0.37651495372449817\n",
      "\n",
      "No of topics: 16\n",
      "\n",
      "Perplexity:  -18.73648076833033\n",
      "\n",
      "Coherence Score:  0.4318969468678755\n",
      "\n",
      "No of topics: 17\n",
      "\n",
      "Perplexity:  -19.43644303294838\n",
      "\n",
      "Coherence Score:  0.4829006866679104\n",
      "\n",
      "No of topics: 18\n",
      "\n",
      "Perplexity:  -19.802252534512515\n",
      "\n",
      "Coherence Score:  0.4460089000940451\n",
      "\n",
      "No of topics: 19\n",
      "\n",
      "Perplexity:  -20.42281527500499\n",
      "\n",
      "Coherence Score:  0.4519600337519683\n",
      "\n",
      "No of topics: 20\n",
      "\n",
      "Perplexity:  -20.98408493900914\n",
      "\n",
      "Coherence Score:  0.4095287100768168\n",
      "\n",
      "No of topics: 21\n",
      "\n",
      "Perplexity:  -21.44611325764543\n",
      "\n",
      "Coherence Score:  0.4341333045212824\n",
      "\n",
      "No of topics: 22\n",
      "\n",
      "Perplexity:  -22.1114457698325\n",
      "\n",
      "Coherence Score:  0.3986586919128476\n",
      "\n",
      "No of topics: 23\n",
      "\n",
      "Perplexity:  -22.530212649680568\n",
      "\n",
      "Coherence Score:  0.3690752448956073\n",
      "\n",
      "No of topics: 24\n",
      "\n",
      "Perplexity:  -23.41776482849329\n",
      "\n",
      "Coherence Score:  0.41112033606079895\n",
      "\n"
     ]
    }
   ],
   "source": [
    "coherence_score_vs_topics = {}\n",
    "for num in range(10, 25):\n",
    "    print(\"No of topics:\",num)\n",
    "    ldamodel = gensim.models.ldamodel.LdaModel(corpus, num_topics=num, id2word = dictionary, passes=20)\n",
    "    #import pprint\n",
    "    #pprint.pprint(ldamodel.top_topics(corpus,topn=5))\n",
    "\n",
    "\n",
    "    from gensim.models import CoherenceModel\n",
    "\n",
    "    # Compute Perplexity\n",
    "    print('\\nPerplexity: ', ldamodel.log_perplexity(corpus))  # a measure of how good the model is. lower the better.\n",
    "\n",
    "    # Compute Coherence Score\n",
    "    coherence_model_lda = CoherenceModel(model=ldamodel, texts=texts, dictionary=dictionary, coherence='c_v')\n",
    "    coherence_lda = coherence_model_lda.get_coherence()\n",
    "    print('\\nCoherence Score: ', coherence_lda)\n",
    "    coherence_score_vs_topics[num] = coherence_lda\n",
    "    print()"
   ]
  },
  {
   "cell_type": "code",
   "execution_count": 14,
   "id": "fa1cd2f7",
   "metadata": {},
   "outputs": [],
   "source": [
    "topic_coherence_score_df = pd.DataFrame(coherence_score_vs_topics.items(), columns = ['No.of Topics', 'Coherence score'])"
   ]
  },
  {
   "cell_type": "code",
   "execution_count": 15,
   "id": "f70b7e56",
   "metadata": {},
   "outputs": [],
   "source": [
    "topic_coherence_score_df = topic_coherence_score_df.astype({\"No.of Topics\": str})"
   ]
  },
  {
   "cell_type": "code",
   "execution_count": 16,
   "id": "d250a80f",
   "metadata": {},
   "outputs": [
    {
     "name": "stderr",
     "output_type": "stream",
     "text": [
      "C:\\Users\\maganti\\anaconda3\\lib\\site-packages\\matplotlib\\__init__.py:152: DeprecationWarning: distutils Version classes are deprecated. Use packaging.version instead.\n",
      "  if LooseVersion(module.__version__) < minver:\n",
      "C:\\Users\\maganti\\anaconda3\\lib\\site-packages\\setuptools\\_distutils\\version.py:351: DeprecationWarning: distutils Version classes are deprecated. Use packaging.version instead.\n",
      "  other = LooseVersion(other)\n",
      "C:\\Users\\maganti\\anaconda3\\lib\\site-packages\\matplotlib\\__init__.py:152: DeprecationWarning: distutils Version classes are deprecated. Use packaging.version instead.\n",
      "  if LooseVersion(module.__version__) < minver:\n",
      "C:\\Users\\maganti\\anaconda3\\lib\\site-packages\\setuptools\\_distutils\\version.py:351: DeprecationWarning: distutils Version classes are deprecated. Use packaging.version instead.\n",
      "  other = LooseVersion(other)\n",
      "C:\\Users\\maganti\\anaconda3\\lib\\site-packages\\matplotlib\\__init__.py:152: DeprecationWarning: distutils Version classes are deprecated. Use packaging.version instead.\n",
      "  if LooseVersion(module.__version__) < minver:\n",
      "C:\\Users\\maganti\\anaconda3\\lib\\site-packages\\setuptools\\_distutils\\version.py:351: DeprecationWarning: distutils Version classes are deprecated. Use packaging.version instead.\n",
      "  other = LooseVersion(other)\n",
      "C:\\Users\\maganti\\anaconda3\\lib\\site-packages\\matplotlib\\__init__.py:152: DeprecationWarning: distutils Version classes are deprecated. Use packaging.version instead.\n",
      "  if LooseVersion(module.__version__) < minver:\n",
      "C:\\Users\\maganti\\anaconda3\\lib\\site-packages\\setuptools\\_distutils\\version.py:351: DeprecationWarning: distutils Version classes are deprecated. Use packaging.version instead.\n",
      "  other = LooseVersion(other)\n",
      "C:\\Users\\maganti\\anaconda3\\lib\\site-packages\\matplotlib\\__init__.py:152: DeprecationWarning: distutils Version classes are deprecated. Use packaging.version instead.\n",
      "  if LooseVersion(module.__version__) < minver:\n",
      "C:\\Users\\maganti\\anaconda3\\lib\\site-packages\\setuptools\\_distutils\\version.py:351: DeprecationWarning: distutils Version classes are deprecated. Use packaging.version instead.\n",
      "  other = LooseVersion(other)\n"
     ]
    },
    {
     "data": {
      "image/png": "[encoded data removed]",
      "text/plain": [
       "<Figure size 432x288 with 1 Axes>"
      ]
     },
     "metadata": {
      "needs_background": "light"
     },
     "output_type": "display_data"
    }
   ],
   "source": [
    "import matplotlib.pyplot as plt\n",
    "fig = plt.figure()\n",
    "ax = fig.add_axes([0,0,1,1])\n",
    "plt.xlabel(\"No of Topics\")\n",
    "plt.ylabel(\"Coherence Score\")\n",
    "ax.bar(topic_coherence_score_df['No.of Topics'],topic_coherence_score_df['Coherence score'])\n",
    "plt.show()"
   ]
  },
  {
   "cell_type": "markdown",
   "id": "a0f4b27b",
   "metadata": {},
   "source": [
    ". We can observe that at 17 topics, there is good coherence score."
   ]
  },
  {
   "cell_type": "code",
   "execution_count": null,
   "id": "f25fafc4",
   "metadata": {},
   "outputs": [],
   "source": []
  }
 ],
 "metadata": {
  "kernelspec": {
   "display_name": "Python 3 (ipykernel)",
   "language": "python",
   "name": "python3"
  },
  "language_info": {
   "codemirror_mode": {
    "name": "ipython",
    "version": 3
   },
   "file_extension": ".py",
   "mimetype": "text/x-python",
   "name": "python",
   "nbconvert_exporter": "python",
   "pygments_lexer": "ipython3",
   "version": "3.9.7"
  }
 },
 "nbformat": 4,
 "nbformat_minor": 5
}
