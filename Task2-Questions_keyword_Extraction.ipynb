{
 "cells": [
  {
   "cell_type": "code",
   "execution_count": 1,
   "id": "b0e228ac",
   "metadata": {},
   "outputs": [
    {
     "name": "stdout",
     "output_type": "stream",
     "text": [
      "145857\n",
      "\n"
     ]
    }
   ],
   "source": [
    "import json\n",
    "import os\n",
    "import glob\n",
    "import pprint\n",
    "segment_questions_list = []\n",
    "path = r'C:\\\\Users\\\\maganti\\\\Documents\\\\INFO 5502 Chen Sir Project UNT\\\\Web Scraping Interviews\\\\Narrators Json Files-Updatedwithquestions'\n",
    "for filename in glob.glob(os.path.join(path, '*.json')): #only process .JSON files in folder.     \n",
    "    #print(filename)\n",
    "    with open(filename, mode = 'rb') as currentFile:\n",
    "        data = json.loads(currentFile.read())\n",
    "        try:\n",
    "            if data['transcript'] != {}:\n",
    "                for segment in data[\"transcript\"].keys():\n",
    "                    for question in data[\"transcript\"][segment]['Segment Questions']:\n",
    "                        segment_questions_list.append(' '.join(i for i in question.split()[1:]))\n",
    "                        #print(' '.join(i for i in question.split()[1:]))\n",
    "                        #print(data['transcript'][segment]['Segment Questions'][question])\n",
    "                        \n",
    "                \n",
    "            else:\n",
    "                pass\n",
    "        except Exception as e:\n",
    "            pass\n",
    "        \n",
    "print(len(segment_questions_list))\n",
    "print()\n",
    "\n",
    "\n",
    "#print(' '.join(i for i in segment_questions_list if i != ''))"
   ]
  },
  {
   "cell_type": "code",
   "execution_count": 2,
   "id": "f44cb134",
   "metadata": {},
   "outputs": [],
   "source": [
    "#segment_questions_list\n",
    "\n",
    "from keybert import KeyBERT\n",
    "\n",
    "doc = ' '.join(i for i in segment_questions_list if i != '')\n",
    "kw_model = KeyBERT()\n",
    "#keywords = kw_model.extract_keywords(doc)"
   ]
  },
  {
   "cell_type": "code",
   "execution_count": null,
   "id": "40bdc1ec",
   "metadata": {},
   "outputs": [
    {
     "name": "stdout",
     "output_type": "stream",
     "text": [
      "Ngram - 1\n",
      "[('offices', 0.5055), ('departmentalized', 0.4709), ('administrative', 0.4621), ('office', 0.4395), ('stateroom', 0.4347), ('departmental', 0.4286), ('administrators', 0.4197), ('janitorial', 0.4141), ('supervisory', 0.4122), ('employment', 0.4111), ('administration', 0.4105), ('interned', 0.4058), ('staffperson', 0.4051), ('receptionist', 0.4046), ('employee', 0.4038), ('overseen', 0.4033), ('department', 0.3968), ('personnel', 0.3932), ('employing', 0.392), ('supervisor', 0.3911), ('dispatcher', 0.3882), ('administrator', 0.388), ('oversaw', 0.3874), ('departments', 0.387), ('workplace', 0.3862), ('staffpersons', 0.385), ('administrating', 0.3841), ('vacancy', 0.383), ('reformatory', 0.383), ('supervisors', 0.3814), ('occupation', 0.3805), ('backroom', 0.3801), ('employers', 0.3769), ('janitor', 0.3756), ('superintendent', 0.3753), ('clerk', 0.3737), ('inspectors', 0.3735), ('archives', 0.3733), ('correctional', 0.3732), ('apartment', 0.3702)]\n",
      "Ngram - 2\n",
      "[('administration background', 0.5604), ('personnel office', 0.5486), ('offices at', 0.5311), ('was offices', 0.5268), ('employment office', 0.5262), ('administration building', 0.5238), ('offices we', 0.5238), ('administration room', 0.5207), ('administration office', 0.5203), ('operations office', 0.5188), ('the offices', 0.5139), ('offices were', 0.5132), ('administrative position', 0.5119), ('offices and', 0.5114), ('administrative work', 0.511), ('individual offices', 0.5099), ('principal office', 0.5097), ('these offices', 0.5079), ('main office', 0.5074), ('administration offices', 0.5061), ('manager office', 0.5059), ('offices', 0.5055), ('offices in', 0.504), ('employment administrator', 0.501), ('clean offices', 0.5009), ('staff offices', 0.4983), ('job administration', 0.4981), ('of offices', 0.4978), ('employment history', 0.4978), ('labor office', 0.4969), ('office regarding', 0.4968), ('offices on', 0.4967), ('became office', 0.4965), ('different offices', 0.4935), ('offices doing', 0.493), ('processing department', 0.4929), ('jobs building', 0.4928), ('offices offices', 0.492), ('offices with', 0.4916), ('department worked', 0.4893)]\n",
      "Ngram - 3\n"
     ]
    }
   ],
   "source": [
    "#doc = ' '.join(i for i in segment_questions_list if i != '')\n",
    "for i in range(1,4):\n",
    "    print(\"Ngram - {}\".format(i))\n",
    "    keywords = kw_model.extract_keywords(doc, keyphrase_ngram_range=(1, i), top_n=40, stop_words=None)\n",
    "    print(keywords)"
   ]
  },
  {
   "cell_type": "code",
   "execution_count": null,
   "id": "1af7b6a4",
   "metadata": {},
   "outputs": [],
   "source": []
  },
  {
   "cell_type": "code",
   "execution_count": null,
   "id": "a072d6fd",
   "metadata": {},
   "outputs": [],
   "source": []
  },
  {
   "cell_type": "code",
   "execution_count": null,
   "id": "d48bc8f6",
   "metadata": {},
   "outputs": [],
   "source": []
  },
  {
   "cell_type": "code",
   "execution_count": null,
   "id": "64e5b112",
   "metadata": {},
   "outputs": [],
   "source": []
  },
  {
   "cell_type": "code",
   "execution_count": null,
   "id": "573fa937",
   "metadata": {},
   "outputs": [],
   "source": []
  },
  {
   "cell_type": "code",
   "execution_count": null,
   "id": "48de251c",
   "metadata": {},
   "outputs": [],
   "source": []
  },
  {
   "cell_type": "code",
   "execution_count": null,
   "id": "9118ff47",
   "metadata": {},
   "outputs": [],
   "source": []
  }
 ],
 "metadata": {
  "kernelspec": {
   "display_name": "Python 3 (ipykernel)",
   "language": "python",
   "name": "python3"
  },
  "language_info": {
   "codemirror_mode": {
    "name": "ipython",
    "version": 3
   },
   "file_extension": ".py",
   "mimetype": "text/x-python",
   "name": "python",
   "nbconvert_exporter": "python",
   "pygments_lexer": "ipython3",
   "version": "3.9.7"
  }
 },
 "nbformat": 4,
 "nbformat_minor": 5
}
