{
 "cells": [
  {
   "cell_type": "code",
   "execution_count": 1,
   "id": "92737303",
   "metadata": {},
   "outputs": [
    {
     "name": "stdout",
     "output_type": "stream",
     "text": [
      "\n"
     ]
    }
   ],
   "source": [
    "import json\n",
    "import os\n",
    "import glob\n",
    "import pprint\n",
    "\n",
    " \n",
    "count = 0\n",
    "narrators_questions = []\n",
    "path = r'C:\\\\Users\\\\maganti\\\\Documents\\\\INFO 5502 Chen Sir Project UNT\\\\Web Scraping Interviews\\\\Narrators Json Files-With Q&A'\n",
    "for filename in glob.glob(os.path.join(path, '*.json')): #only process .JSON files in folder.     \n",
    "    #print(filename)\n",
    "    with open(filename, mode = 'rb') as currentFile:\n",
    "        data = json.loads(currentFile.read())\n",
    "        try:\n",
    "            if data['transcript'] != {}:\n",
    "                for segment in data[\"transcript\"].keys():\n",
    "                    for question in data[\"transcript\"][segment]['Segment Q&A'].keys():\n",
    "                        narrators_questions.append(question)\n",
    "                        count = count + 1   \n",
    "                \n",
    "            else:\n",
    "                pass\n",
    "        except Exception as e:\n",
    "            print(e)\n",
    "        \n",
    "#print(len(segment_questions_list))\n",
    "print()\n"
   ]
  },
  {
   "cell_type": "code",
   "execution_count": 2,
   "id": "05d9a7ea",
   "metadata": {},
   "outputs": [],
   "source": [
    "from sentence_transformers import SentenceTransformer\n",
    "from sklearn.cluster import KMeans\n",
    "\n",
    "embedder = SentenceTransformer('distilbert-base-nli-stsb-mean-tokens')"
   ]
  },
  {
   "cell_type": "code",
   "execution_count": null,
   "id": "42b0349c",
   "metadata": {},
   "outputs": [],
   "source": [
    "corpus_embeddings = embedder.encode(narrators_questions)"
   ]
  },
  {
   "cell_type": "code",
   "execution_count": null,
   "id": "8f01800e",
   "metadata": {},
   "outputs": [],
   "source": [
    "from sklearn.cluster import KMeans\n",
    "num_clusters = 5\n",
    "# Define kmeans model\n",
    "clustering_model = KMeans(n_clusters=num_clusters)\n",
    "# Fit the embedding with kmeans clustering.\n",
    "clustering_model.fit(corpus_embeddings)\n",
    "# Get the cluster id assigned to each news headline.\n",
    "cluster_assignment = clustering_model.labels_"
   ]
  },
  {
   "cell_type": "code",
   "execution_count": null,
   "id": "90e36449",
   "metadata": {},
   "outputs": [],
   "source": [
    "clustered_sentences = [[] for i in range(num_clusters)]\n",
    "for sentence_id, cluster_id in enumerate(cluster_assignment):\n",
    "    clustered_sentences[cluster_id].append(narrators_questions[sentence_id])\n",
    "    "
   ]
  },
  {
   "cell_type": "code",
   "execution_count": null,
   "id": "cb231da2",
   "metadata": {},
   "outputs": [],
   "source": []
  },
  {
   "cell_type": "code",
   "execution_count": 9,
   "id": "cf769ae5",
   "metadata": {},
   "outputs": [],
   "source": [
    "with open(\"Clustered_Questions.txt\", 'w') as output:\n",
    "    for row in clustered_sentences:\n",
    "        output.write(str(row) + '\\n')"
   ]
  },
  {
   "cell_type": "code",
   "execution_count": null,
   "id": "e8e594bf",
   "metadata": {},
   "outputs": [],
   "source": []
  }
 ],
 "metadata": {
  "kernelspec": {
   "display_name": "Python 3 (ipykernel)",
   "language": "python",
   "name": "python3"
  },
  "language_info": {
   "codemirror_mode": {
    "name": "ipython",
    "version": 3
   },
   "file_extension": ".py",
   "mimetype": "text/x-python",
   "name": "python",
   "nbconvert_exporter": "python",
   "pygments_lexer": "ipython3",
   "version": "3.9.7"
  }
 },
 "nbformat": 4,
 "nbformat_minor": 5
}
