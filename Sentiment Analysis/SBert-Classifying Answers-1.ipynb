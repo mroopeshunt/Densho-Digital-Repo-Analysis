{
 "cells": [
  {
   "cell_type": "code",
   "execution_count": 36,
   "id": "d6ffc6c6",
   "metadata": {},
   "outputs": [
    {
     "name": "stdout",
     "output_type": "stream",
     "text": [
      "Warning: No GPU detected. Processing will be slow. Please add a GPU to this notebook\n",
      "Encode the corpus. This might take a while\n"
     ]
    },
    {
     "data": {
      "application/vnd.jupyter.widget-view+json": {
       "model_id": "e011959b584e4c56b4f616fcf5e34c41",
       "version_major": 2,
       "version_minor": 0
      },
      "text/plain": [
       "Batches:   0%|          | 0/1 [00:00<?, ?it/s]"
      ]
     },
     "metadata": {},
     "output_type": "display_data"
    },
    {
     "name": "stdout",
     "output_type": "stream",
     "text": [
      "Corpus loaded with 30 sentences / embeddings\n"
     ]
    }
   ],
   "source": [
    "from sentence_transformers import SentenceTransformer, util\n",
    "import os\n",
    "import time\n",
    "import torch\n",
    "\n",
    "if not torch.cuda.is_available():\n",
    "    print(\"Warning: No GPU detected. Processing will be slow. Please add a GPU to this notebook\")\n",
    "\n",
    "model_name = 'quora-distilbert-multilingual'\n",
    "model = SentenceTransformer(model_name)\n",
    "\n",
    "\n",
    "# Get all unique sentences from the file\n",
    "corpus_sentences = set()\n",
    "import pandas as pd\n",
    "\n",
    "corpus = pd.read_csv(r\"C:\\\\Users\\\\maganti\\\\Documents\\\\INFO 5502 Chen Sir Project UNT\\\\Sentiment Analysis\\\\classification_question.txt\", sep = \"\\n\", header=None)\n",
    "corpus[0] = corpus[0].apply(lambda x: \" \".join(x.split()[1:]))\n",
    "\n",
    "\n",
    "corpus_sentences = list((corpus[0]).values)\n",
    "print(\"Encode the corpus. This might take a while\")\n",
    "corpus_embeddings = model.encode(corpus_sentences, show_progress_bar=True, convert_to_tensor=True)\n",
    "\n",
    "\n",
    "\n",
    "###############################\n",
    "print(\"Corpus loaded with {} sentences / embeddings\".format(len(corpus_sentences)))\n",
    "\n",
    "# Function that searches the corpus and prints the results\n",
    "def search(inp_question):\n",
    "    start_time = time.time()\n",
    "    question_embedding = model.encode(inp_question, convert_to_tensor=True)\n",
    "    hits = util.semantic_search(question_embedding, corpus_embeddings)\n",
    "    end_time = time.time()\n",
    "    #hits = hits[0]  #Get the hits for the first query\n",
    "    \n",
    "    #print(\"Input question:\", inp_question)\n",
    "    #print(\"Results (after {:.3f} seconds):\".format(end_time-start_time))\n",
    "    \n",
    "    #for hit in hits[0]:\n",
    "    #    print(\"\\t{:.3f}\\t{}\".format(hit['score'], corpus_sentences[hit['corpus_id']]))\n",
    "\n",
    "    return hits[0][0]\n",
    "        \n",
    "        \n",
    "#result = search(\"So when you first started, can you describe a little bit about the office structure? Who was working? Who was in charge? How the whole office was set up?\")\n"
   ]
  },
  {
   "cell_type": "code",
   "execution_count": 37,
   "id": "30914a3e",
   "metadata": {},
   "outputs": [
    {
     "data": {
      "text/plain": [
       "{'corpus_id': 4, 'score': 0.839056670665741}"
      ]
     },
     "execution_count": 37,
     "metadata": {},
     "output_type": "execute_result"
    }
   ],
   "source": [
    "search(\"Do you remember who it was that interviewed you?\")"
   ]
  },
  {
   "cell_type": "code",
   "execution_count": null,
   "id": "c39a30a3",
   "metadata": {},
   "outputs": [],
   "source": [
    "import json\n",
    "import os\n",
    "import glob\n",
    "import pprint\n",
    "\n",
    "classified_answers = {} \n",
    "count = 0\n",
    "narrators_answers_corpus = \"\"\n",
    "path = r'C:\\\\Users\\\\maganti\\\\Documents\\\\INFO 5502 Chen Sir Project UNT\\\\Web Scraping Interviews\\\\Narrators Json Files-With Q&A'\n",
    "for filename in glob.glob(os.path.join(path, '*.json')): #only process .JSON files in folder.     \n",
    "    #print(filename)\n",
    "    with open(filename, mode = 'rb') as currentFile:\n",
    "        data = json.loads(currentFile.read())\n",
    "        try:\n",
    "            if data['transcript'] != {}:\n",
    "                for segment in data[\"transcript\"].keys():\n",
    "                    for question in data[\"transcript\"][segment]['Segment Q&A'].keys():\n",
    "                        #answers_sentiments[data[\"transcript\"][segment]['Segment Q&A'][question]] = sentiment_scores(data[\"transcript\"][segment]['Segment Q&A'][question])\n",
    "                        #print(data[\"transcript\"][segment]['Segment Q&A'][question])\n",
    "                        result = search(question)\n",
    "                        #print(result)\n",
    "                        #print(data[\"transcript\"][segment]['Segment Q&A'][question], result['corpus_id'])\n",
    "                        try:\n",
    "                            if result['corpus_id'] <= 20:\n",
    "                                classified_answers[data[\"transcript\"][segment]['Segment Q&A'][question]] = \"1\"\n",
    "\n",
    "                            elif result['corpus_id'] == 21 or result['corpus_id'] == 22:\n",
    "                                classified_answers[data[\"transcript\"][segment]['Segment Q&A'][question]] = \"2\"\n",
    "\n",
    "                            else:\n",
    "                                classified_answers[data[\"transcript\"][segment]['Segment Q&A'][question]] = \"3\"\n",
    "                            count = count + 1\n",
    "                        except Exception as e:\n",
    "                            print(\"Exception is:\",e)\n",
    "                \n",
    "            else:\n",
    "                pass\n",
    "        except Exception as e:\n",
    "            print(e)\n",
    "        \n",
    "#print(len(segment_questions_list))\n",
    "print()\n"
   ]
  },
  {
   "cell_type": "code",
   "execution_count": 50,
   "id": "5c540fbf",
   "metadata": {},
   "outputs": [
    {
     "data": {
      "text/plain": [
       "{'corpus_id': 11, 'score': 0.9122568368911743}"
      ]
     },
     "execution_count": 50,
     "metadata": {},
     "output_type": "execute_result"
    }
   ],
   "source": [
    "search(\"And I understand that this was one of your first jobs after college. Could you talk a little bit about where you went to school and how you ended up in this role?\")"
   ]
  },
  {
   "cell_type": "code",
   "execution_count": null,
   "id": "22352152",
   "metadata": {},
   "outputs": [],
   "source": []
  },
  {
   "cell_type": "code",
   "execution_count": 69,
   "id": "808b779b",
   "metadata": {},
   "outputs": [],
   "source": [
    "df = pd.DataFrame(classified_answers.items())\n",
    "df.columns = ['Answers', 'class']\n",
    "df.to_csv(\"Classified_Answers.csv\", index= False)"
   ]
  },
  {
   "cell_type": "code",
   "execution_count": 71,
   "id": "966aa2c0",
   "metadata": {},
   "outputs": [
    {
     "name": "stderr",
     "output_type": "stream",
     "text": [
      "No model was supplied, defaulted to distilbert-base-uncased-finetuned-sst-2-english (https://huggingface.co/distilbert-base-uncased-finetuned-sst-2-english)\n"
     ]
    }
   ],
   "source": [
    "from transformers import pipeline\n",
    "# function to print sentiments\n",
    "# of the sentence.\n",
    "count = 0\n",
    "answers_sentiments = {}\n",
    "classifier = pipeline(\"sentiment-analysis\")\n",
    "\n",
    "df['sentiment'] = df['Answers'].apply(lambda answer: classifier(answer, truncation=True)[0]['label'])"
   ]
  },
  {
   "cell_type": "code",
   "execution_count": 70,
   "id": "41a8ef29",
   "metadata": {},
   "outputs": [
    {
     "data": {
      "text/plain": [
       "1    88977\n",
       "3    25142\n",
       "2    14372\n",
       "Name: class, dtype: int64"
      ]
     },
     "execution_count": 70,
     "metadata": {},
     "output_type": "execute_result"
    }
   ],
   "source": [
    "df['class'].value_counts()"
   ]
  },
  {
   "cell_type": "code",
   "execution_count": 72,
   "id": "b7c9e189",
   "metadata": {},
   "outputs": [
    {
     "data": {
      "text/html": [
       "<div>\n",
       "<style scoped>\n",
       "    .dataframe tbody tr th:only-of-type {\n",
       "        vertical-align: middle;\n",
       "    }\n",
       "\n",
       "    .dataframe tbody tr th {\n",
       "        vertical-align: top;\n",
       "    }\n",
       "\n",
       "    .dataframe thead th {\n",
       "        text-align: right;\n",
       "    }\n",
       "</style>\n",
       "<table border=\"1\" class=\"dataframe\">\n",
       "  <thead>\n",
       "    <tr style=\"text-align: right;\">\n",
       "      <th></th>\n",
       "      <th>Answers</th>\n",
       "      <th>class</th>\n",
       "      <th>sentiment</th>\n",
       "    </tr>\n",
       "  </thead>\n",
       "  <tbody>\n",
       "    <tr>\n",
       "      <th>0</th>\n",
       "      <td>Well, my name is Aaron Zajic, and my role when...</td>\n",
       "      <td>3</td>\n",
       "      <td>NEGATIVE</td>\n",
       "    </tr>\n",
       "    <tr>\n",
       "      <th>1</th>\n",
       "      <td>So I went to school at, it used to be called W...</td>\n",
       "      <td>1</td>\n",
       "      <td>NEGATIVE</td>\n",
       "    </tr>\n",
       "    <tr>\n",
       "      <th>2</th>\n",
       "      <td>Alicie West Simpson. I have completely lost tr...</td>\n",
       "      <td>1</td>\n",
       "      <td>NEGATIVE</td>\n",
       "    </tr>\n",
       "    <tr>\n",
       "      <th>3</th>\n",
       "      <td>So we were in a building on 1333 F Street whic...</td>\n",
       "      <td>1</td>\n",
       "      <td>NEGATIVE</td>\n",
       "    </tr>\n",
       "    <tr>\n",
       "      <th>4</th>\n",
       "      <td>No, I started at DOL (Department of Labor).</td>\n",
       "      <td>1</td>\n",
       "      <td>NEGATIVE</td>\n",
       "    </tr>\n",
       "  </tbody>\n",
       "</table>\n",
       "</div>"
      ],
      "text/plain": [
       "                                             Answers class sentiment\n",
       "0  Well, my name is Aaron Zajic, and my role when...     3  NEGATIVE\n",
       "1  So I went to school at, it used to be called W...     1  NEGATIVE\n",
       "2  Alicie West Simpson. I have completely lost tr...     1  NEGATIVE\n",
       "3  So we were in a building on 1333 F Street whic...     1  NEGATIVE\n",
       "4        No, I started at DOL (Department of Labor).     1  NEGATIVE"
      ]
     },
     "execution_count": 72,
     "metadata": {},
     "output_type": "execute_result"
    }
   ],
   "source": [
    "df.head()"
   ]
  },
  {
   "cell_type": "code",
   "execution_count": null,
   "id": "ad32c064",
   "metadata": {},
   "outputs": [],
   "source": []
  }
 ],
 "metadata": {
  "kernelspec": {
   "display_name": "Python 3 (ipykernel)",
   "language": "python",
   "name": "python3"
  },
  "language_info": {
   "codemirror_mode": {
    "name": "ipython",
    "version": 3
   },
   "file_extension": ".py",
   "mimetype": "text/x-python",
   "name": "python",
   "nbconvert_exporter": "python",
   "pygments_lexer": "ipython3",
   "version": "3.9.7"
  }
 },
 "nbformat": 4,
 "nbformat_minor": 5
}
