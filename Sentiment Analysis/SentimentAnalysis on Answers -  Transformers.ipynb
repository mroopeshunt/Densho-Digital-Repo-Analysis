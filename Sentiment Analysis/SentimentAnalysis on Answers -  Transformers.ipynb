{
 "cells": [
  {
   "cell_type": "code",
   "execution_count": null,
   "id": "9ffc9451",
   "metadata": {},
   "outputs": [
    {
     "name": "stderr",
     "output_type": "stream",
     "text": [
      "No model was supplied, defaulted to distilbert-base-uncased-finetuned-sst-2-english (https://huggingface.co/distilbert-base-uncased-finetuned-sst-2-english)\n"
     ]
    }
   ],
   "source": [
    "import json\n",
    "import os\n",
    "import glob\n",
    "\n",
    "#from vaderSentiment.vaderSentiment import SentimentIntensityAnalyzer\n",
    "from transformers import pipeline\n",
    "# function to print sentiments\n",
    "# of the sentence.\n",
    "   \n",
    "    \n",
    "\n",
    "count = 0\n",
    "answers_sentiments = {}\n",
    "classifier = pipeline(\"sentiment-analysis\")\n",
    "\n",
    "path = r'C:\\\\Users\\\\maganti\\\\Documents\\\\INFO 5502 Chen Sir Project UNT\\\\Web Scraping Interviews\\\\Narrators Json Files-With Q&A'\n",
    "for filename in glob.glob(os.path.join(path, '*.json')): #only process .JSON files in folder.     \n",
    "    #print(filename)\n",
    "    with open(filename, mode = 'rb') as currentFile:\n",
    "        data = json.loads(currentFile.read())\n",
    "        try:\n",
    "            if data['transcript'] != {}:\n",
    "                for segment in data[\"transcript\"].keys():\n",
    "                    for question in data[\"transcript\"][segment]['Segment Q&A'].keys():\n",
    "                        answers_sentiments[data[\"transcript\"][segment]['Segment Q&A'][question]] = classifier(data[\"transcript\"][segment]['Segment Q&A'][question], truncation=True)[0]['label']\n",
    "                        count = count + 1\n",
    "                        #print()\n",
    "                        #for answer in data[\"transcript\"][segment]['Segment Q&A'][question]:\n",
    "                        #    print(answer)\n",
    "                        #segment_questions_list.append(' '.join(i for i in question.split()[1:]))\n",
    "                        #print(' '.join(i for i in question.split()[1:]))\n",
    "                        #print(data['transcript'][segment]['Segment Questions'][question])\n",
    "                #print(answers_sentiments)\n",
    "                #print(count)    \n",
    "                \n",
    "            else:\n",
    "                pass\n",
    "        except Exception as e:\n",
    "            print(e)\n",
    "        \n",
    "#print(len(segment_questions_list))\n",
    "print()\n"
   ]
  },
  {
   "cell_type": "code",
   "execution_count": null,
   "id": "efc5e482",
   "metadata": {},
   "outputs": [],
   "source": [
    "import pandas as pd\n",
    "df = pd.DataFrame(answers_sentiments.items(), columns=['Answer', 'Sentiment'])\n",
    "\n",
    "file_name = r\"C:\\\\Users\\\\maganti\\\\Documents\\\\INFO 5502 Chen Sir Project UNT\\\\Web Scraping Interviews\\\\CSV Files\\\\Sentiments_of_answers_using_transformers.csv\"\n",
    "df.to_csv(file_name, index= False)"
   ]
  },
  {
   "cell_type": "code",
   "execution_count": null,
   "id": "3512c832",
   "metadata": {},
   "outputs": [],
   "source": []
  },
  {
   "cell_type": "code",
   "execution_count": 1,
   "id": "632854b5",
   "metadata": {},
   "outputs": [
    {
     "data": {
      "text/plain": [
       "(128491, 2)"
      ]
     },
     "execution_count": 1,
     "metadata": {},
     "output_type": "execute_result"
    }
   ],
   "source": [
    "import pandas as pd\n",
    "df = pd.read_csv(r\"C:\\\\Users\\\\maganti\\\\Documents\\\\INFO 5502 Chen Sir Project UNT\\\\Web Scraping Interviews\\\\CSV Files\\\\Sentiments_of_answers_using_transformers.csv\")\n",
    "df.shape"
   ]
  },
  {
   "cell_type": "code",
   "execution_count": 20,
   "id": "055aaefc",
   "metadata": {},
   "outputs": [
    {
     "data": {
      "image/png": "[encoded data removed]",
      "text/plain": [
       "<Figure size 360x360 with 1 Axes>"
      ]
     },
     "metadata": {
      "needs_background": "light"
     },
     "output_type": "display_data"
    }
   ],
   "source": [
    "import matplotlib.pyplot as plt\n",
    "import seaborn as sns\n",
    "\n",
    "plt.rcParams['figure.figsize'] = [5,5]\n",
    "ax = sns.countplot(x='Sentiment', data=df)\n",
    "ax.bar_label(ax.containers[0])\n",
    "plt.xlabel(\"Gender of Narrator\")\n",
    "plt.ylabel(\"Count of Gender\")\n",
    "plt.xticks(rotation=90)\n",
    "plt.show()"
   ]
  },
  {
   "cell_type": "code",
   "execution_count": null,
   "id": "c4ce4852",
   "metadata": {},
   "outputs": [],
   "source": []
  }
 ],
 "metadata": {
  "kernelspec": {
   "display_name": "Python 3 (ipykernel)",
   "language": "python",
   "name": "python3"
  },
  "language_info": {
   "codemirror_mode": {
    "name": "ipython",
    "version": 3
   },
   "file_extension": ".py",
   "mimetype": "text/x-python",
   "name": "python",
   "nbconvert_exporter": "python",
   "pygments_lexer": "ipython3",
   "version": "3.9.7"
  }
 },
 "nbformat": 4,
 "nbformat_minor": 5
}
