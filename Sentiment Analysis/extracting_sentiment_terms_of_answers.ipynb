{
 "cells": [
  {
   "cell_type": "code",
   "execution_count": 11,
   "id": "f617fb02",
   "metadata": {},
   "outputs": [],
   "source": [
    "import pandas as pd\n",
    "\n",
    "positive = pd.read_csv(r'C:\\\\Users\\\\maganti\\\\Documents\\\\INFO 5502 Chen Sir Project UNT\\\\positive_words_en.txt', sep = '\\n', header = None, encoding='latin-1')\n",
    "negative = pd.read_csv(r'C:\\\\Users\\\\maganti\\\\Documents\\\\INFO 5502 Chen Sir Project UNT\\\\negative_words_en.txt', sep = '\\n', header = None, encoding='latin-1')\n"
   ]
  },
  {
   "cell_type": "code",
   "execution_count": 12,
   "id": "9ace1169",
   "metadata": {},
   "outputs": [],
   "source": [
    "#positive_words =\n",
    "positive_lexicons = list(positive[0].values)\n",
    "negative_lexicons = list(negative[0].values)"
   ]
  },
  {
   "cell_type": "code",
   "execution_count": 91,
   "id": "6536c64e",
   "metadata": {},
   "outputs": [
    {
     "name": "stdout",
     "output_type": "stream",
     "text": [
      "1421\n",
      "2955\n"
     ]
    }
   ],
   "source": [
    "print(len(positive_lexicons))\n",
    "print(len(negative_lexicons))"
   ]
  },
  {
   "cell_type": "code",
   "execution_count": 45,
   "id": "dedc2ebd",
   "metadata": {},
   "outputs": [
    {
     "name": "stdout",
     "output_type": "stream",
     "text": [
      "Index(['Answers', 'class', 'Sentiment'], dtype='object')\n"
     ]
    }
   ],
   "source": [
    "import pandas as pd\n",
    "\n",
    "answers_df = pd.read_csv(r\"C:\\\\Users\\\\maganti\\\\Documents\\\\INFO 5502 Chen Sir Project UNT\\\\Sentiment Analysis\\\\Classified_Answers.csv\")\n",
    "#answers_df = answers_df[:10]\n",
    "\n",
    "\n",
    "# answers column has a nan value\n",
    "# so filling nan values to blank string values\n",
    "answers_df = answers_df.fillna('')\n",
    "print(answers_df.columns)"
   ]
  },
  {
   "cell_type": "code",
   "execution_count": 123,
   "id": "b507a0a8",
   "metadata": {},
   "outputs": [],
   "source": [
    "result = {'class1': {}, 'class2': {}, 'class3': {}}\n",
    "\n",
    "result['class1']['POSITIVE'] = set()\n",
    "result['class1']['NEGATIVE'] = set()\n",
    "result['class2']['POSITIVE'] = set()\n",
    "result['class2']['NEGATIVE'] = set()\n",
    "result['class3']['POSITIVE'] = set()\n",
    "result['class3']['NEGATIVE'] = set()"
   ]
  },
  {
   "cell_type": "code",
   "execution_count": 125,
   "id": "b3628280",
   "metadata": {},
   "outputs": [
    {
     "name": "stdout",
     "output_type": "stream",
     "text": [
      "(54909, 3)\n",
      "(34068, 3)\n",
      "(9757, 3)\n",
      "(4615, 3)\n",
      "(16326, 3)\n",
      "(8816, 3)\n"
     ]
    }
   ],
   "source": [
    "neg_lex = []\n",
    "pos_lex = []\n",
    "for class_label in [1, 2, 3]:\n",
    "    for sentiment in ['NEGATIVE', 'POSITIVE']:\n",
    "        print(answers_df[(answers_df['class'] == class_label) & (answers_df['Sentiment'] == sentiment)].shape)\n",
    "        for lexicon in negative_lexicons:\n",
    "            if lexicon in \" \".join(answers_df[(answers_df['class'] == class_label) & (answers_df['Sentiment'] == sentiment)]['Answers'].values):\n",
    "                if class_label == 1:\n",
    "                    result['class1']['NEGATIVE'].add(lexicon)\n",
    "                elif class_label == 2:\n",
    "                    result['class2']['NEGATIVE'].add(lexicon)\n",
    "                elif class_label == 3:\n",
    "                    result['class3']['NEGATIVE'].add(lexicon)\n",
    "                \n",
    "        for lexicon in positive_lexicons:\n",
    "            if lexicon in \" \".join(answers_df[(answers_df['class'] == class_label) & (answers_df['Sentiment'] == sentiment)]['Answers'].values):\n",
    "                if class_label == 1:\n",
    "                    result['class1']['POSITIVE'].add(lexicon)\n",
    "                elif class_label == 2:\n",
    "                    result['class2']['POSITIVE'].add(lexicon)\n",
    "                elif class_label == 3:\n",
    "                    result['class3']['POSITIVE'].add(lexicon)\n",
    "\n",
    "        #print(len(neg_lex))"
   ]
  },
  {
   "cell_type": "code",
   "execution_count": 126,
   "id": "1717b1dd",
   "metadata": {},
   "outputs": [
    {
     "data": {
      "text/html": [
       "<div>\n",
       "<style scoped>\n",
       "    .dataframe tbody tr th:only-of-type {\n",
       "        vertical-align: middle;\n",
       "    }\n",
       "\n",
       "    .dataframe tbody tr th {\n",
       "        vertical-align: top;\n",
       "    }\n",
       "\n",
       "    .dataframe thead th {\n",
       "        text-align: right;\n",
       "    }\n",
       "</style>\n",
       "<table border=\"1\" class=\"dataframe\">\n",
       "  <thead>\n",
       "    <tr style=\"text-align: right;\">\n",
       "      <th></th>\n",
       "      <th>POSITIVE</th>\n",
       "      <th>NEGATIVE</th>\n",
       "    </tr>\n",
       "  </thead>\n",
       "  <tbody>\n",
       "    <tr>\n",
       "      <th>class1</th>\n",
       "      <td>{pretty, amazement, lighter, overjoyed, humoro...</td>\n",
       "      <td>{misconceptions, darken, grievance, mystery, s...</td>\n",
       "    </tr>\n",
       "    <tr>\n",
       "      <th>class2</th>\n",
       "      <td>{pretty, lighter, overjoyed, humorous, ingenio...</td>\n",
       "      <td>{darken, grievance, overdue, mystery, sinister...</td>\n",
       "    </tr>\n",
       "    <tr>\n",
       "      <th>class3</th>\n",
       "      <td>{pretty, lighter, overjoyed, ingenious, exceed...</td>\n",
       "      <td>{overdue, grievance, darken, mystery, noisy, d...</td>\n",
       "    </tr>\n",
       "  </tbody>\n",
       "</table>\n",
       "</div>"
      ],
      "text/plain": [
       "                                                 POSITIVE  \\\n",
       "class1  {pretty, amazement, lighter, overjoyed, humoro...   \n",
       "class2  {pretty, lighter, overjoyed, humorous, ingenio...   \n",
       "class3  {pretty, lighter, overjoyed, ingenious, exceed...   \n",
       "\n",
       "                                                 NEGATIVE  \n",
       "class1  {misconceptions, darken, grievance, mystery, s...  \n",
       "class2  {darken, grievance, overdue, mystery, sinister...  \n",
       "class3  {overdue, grievance, darken, mystery, noisy, d...  "
      ]
     },
     "execution_count": 126,
     "metadata": {},
     "output_type": "execute_result"
    }
   ],
   "source": [
    "pd.DataFrame(result).T"
   ]
  },
  {
   "cell_type": "code",
   "execution_count": 119,
   "id": "3277597e",
   "metadata": {},
   "outputs": [],
   "source": [
    "'''\n",
    "#print(len(set(result['class1']['POSITIVE'])))\n",
    "for class_label in ['class1', 'class2', 'class3']:\n",
    "    for sentiment in ['NEGATIVE', 'POSITIVE']:\n",
    "        result[class_label][sentiment] = set(result[class_label][sentiment])\n",
    "'''"
   ]
  },
  {
   "cell_type": "code",
   "execution_count": 127,
   "id": "dc5916ab",
   "metadata": {},
   "outputs": [
    {
     "name": "stdout",
     "output_type": "stream",
     "text": [
      "1172\n",
      "2242\n",
      "828\n",
      "1569\n",
      "988\n",
      "1877\n"
     ]
    }
   ],
   "source": [
    "print(len(pd.DataFrame(result).T['POSITIVE']['class1']))\n",
    "print(len(pd.DataFrame(result).T['NEGATIVE']['class1']))\n",
    "print(len(pd.DataFrame(result).T['POSITIVE']['class2']))\n",
    "print(len(pd.DataFrame(result).T['NEGATIVE']['class2']))\n",
    "print(len(pd.DataFrame(result).T['POSITIVE']['class3']))\n",
    "print(len(pd.DataFrame(result).T['NEGATIVE']['class3']))"
   ]
  },
  {
   "cell_type": "code",
   "execution_count": 149,
   "id": "dbf2f2af",
   "metadata": {},
   "outputs": [],
   "source": [
    "result_df = pd.DataFrame(result).T\n",
    "result_df.rename(index={'class1':'A: Family immigration history and childhood experience', 'class2': 'B: Internment experience and memory', 'class3': 'C: Post-war experience'}, inplace = True)\n",
    "result_df = result_df.reset_index(level=0)\n",
    "result_df.columns = ['Categories', 'POSTIVE', 'NEGATIVE']\n",
    "#result_df.reindex(['A: Family immigration history and childhood experience', 'B: Internment experience and memory', 'C: Post-war experience'])"
   ]
  },
  {
   "cell_type": "code",
   "execution_count": 150,
   "id": "ec5a3173",
   "metadata": {},
   "outputs": [
    {
     "data": {
      "text/html": [
       "<div>\n",
       "<style scoped>\n",
       "    .dataframe tbody tr th:only-of-type {\n",
       "        vertical-align: middle;\n",
       "    }\n",
       "\n",
       "    .dataframe tbody tr th {\n",
       "        vertical-align: top;\n",
       "    }\n",
       "\n",
       "    .dataframe thead th {\n",
       "        text-align: right;\n",
       "    }\n",
       "</style>\n",
       "<table border=\"1\" class=\"dataframe\">\n",
       "  <thead>\n",
       "    <tr style=\"text-align: right;\">\n",
       "      <th></th>\n",
       "      <th>Categories</th>\n",
       "      <th>POSTIVE</th>\n",
       "      <th>NEGATIVE</th>\n",
       "    </tr>\n",
       "  </thead>\n",
       "  <tbody>\n",
       "    <tr>\n",
       "      <th>0</th>\n",
       "      <td>A: Family immigration history and childhood ex...</td>\n",
       "      <td>{pretty, amazement, lighter, overjoyed, humoro...</td>\n",
       "      <td>{misconceptions, darken, grievance, mystery, s...</td>\n",
       "    </tr>\n",
       "    <tr>\n",
       "      <th>1</th>\n",
       "      <td>B: Internment experience and memory</td>\n",
       "      <td>{pretty, lighter, overjoyed, humorous, ingenio...</td>\n",
       "      <td>{darken, grievance, overdue, mystery, sinister...</td>\n",
       "    </tr>\n",
       "    <tr>\n",
       "      <th>2</th>\n",
       "      <td>C: Post-war experience</td>\n",
       "      <td>{pretty, lighter, overjoyed, ingenious, exceed...</td>\n",
       "      <td>{overdue, grievance, darken, mystery, noisy, d...</td>\n",
       "    </tr>\n",
       "  </tbody>\n",
       "</table>\n",
       "</div>"
      ],
      "text/plain": [
       "                                          Categories  \\\n",
       "0  A: Family immigration history and childhood ex...   \n",
       "1                B: Internment experience and memory   \n",
       "2                             C: Post-war experience   \n",
       "\n",
       "                                             POSTIVE  \\\n",
       "0  {pretty, amazement, lighter, overjoyed, humoro...   \n",
       "1  {pretty, lighter, overjoyed, humorous, ingenio...   \n",
       "2  {pretty, lighter, overjoyed, ingenious, exceed...   \n",
       "\n",
       "                                            NEGATIVE  \n",
       "0  {misconceptions, darken, grievance, mystery, s...  \n",
       "1  {darken, grievance, overdue, mystery, sinister...  \n",
       "2  {overdue, grievance, darken, mystery, noisy, d...  "
      ]
     },
     "execution_count": 150,
     "metadata": {},
     "output_type": "execute_result"
    }
   ],
   "source": [
    "result_df"
   ]
  },
  {
   "cell_type": "code",
   "execution_count": 152,
   "id": "3f7c20df",
   "metadata": {},
   "outputs": [],
   "source": [
    "result_df.to_csv(r\"C:\\\\Users\\\\maganti\\\\Documents\\\\INFO 5502 Chen Sir Project UNT\\\\Sentiment Analysis\\\\sentiment_terms_of_answers.csv\", index = False)"
   ]
  },
  {
   "cell_type": "code",
   "execution_count": null,
   "id": "6740685a",
   "metadata": {},
   "outputs": [],
   "source": []
  },
  {
   "cell_type": "code",
   "execution_count": null,
   "id": "96d85943",
   "metadata": {},
   "outputs": [],
   "source": []
  },
  {
   "cell_type": "code",
   "execution_count": null,
   "id": "a4da9943",
   "metadata": {},
   "outputs": [],
   "source": []
  },
  {
   "cell_type": "code",
   "execution_count": null,
   "id": "399980af",
   "metadata": {},
   "outputs": [],
   "source": []
  },
  {
   "cell_type": "code",
   "execution_count": null,
   "id": "43b5f7dc",
   "metadata": {},
   "outputs": [],
   "source": []
  }
 ],
 "metadata": {
  "kernelspec": {
   "display_name": "Python 3 (ipykernel)",
   "language": "python",
   "name": "python3"
  },
  "language_info": {
   "codemirror_mode": {
    "name": "ipython",
    "version": 3
   },
   "file_extension": ".py",
   "mimetype": "text/x-python",
   "name": "python",
   "nbconvert_exporter": "python",
   "pygments_lexer": "ipython3",
   "version": "3.9.7"
  }
 },
 "nbformat": 4,
 "nbformat_minor": 5
}
