{
 "cells": [
  {
   "cell_type": "code",
   "execution_count": 2,
   "id": "680f65a9",
   "metadata": {},
   "outputs": [
    {
     "name": "stdout",
     "output_type": "stream",
     "text": [
      "21362\n",
      "\n"
     ]
    }
   ],
   "source": [
    "import json\n",
    "import os\n",
    "import glob\n",
    "import pprint\n",
    "segment_title_list = []\n",
    "path = r'C:\\\\Users\\\\maganti\\\\Documents\\\\INFO 5502 Chen Sir Project UNT\\\\Web Scraping Interviews\\\\Narrators Json Files'\n",
    "for filename in glob.glob(os.path.join(path, '*.json')): #only process .JSON files in folder.     \n",
    "    #print(filename)\n",
    "    with open(filename, mode = 'rb') as currentFile:\n",
    "        #print(json.loads(currentFile.read())[\"transcript\"])\n",
    "        data = json.loads(currentFile.read())\n",
    "        #print(data['transcript'].keys())\n",
    "        \n",
    "        #a = json.loads(currentFile.read())[\"transcript\"]\n",
    "        try:\n",
    "            if data['transcript'] != {}:\n",
    "                #a = [segment_title_list.append(data[\"transcript\"][segment]['Segment Desc']) for segment in data[\"transcript\"].keys() if data[\"transcript\"][segment]['Segment Desc'] != [] else pass]\n",
    "                \n",
    "                for segment in data[\"transcript\"].keys():\n",
    "                    #print(json.loads(currentFile.read())[\"transcript\"][\"segment 1\"]['Segment Desc'])\n",
    "                    #print(json.load(currentFile)[\"transcript\"][segment])#'Segment Desc'])\n",
    "                    #print(json.loads(currentFile.read())[\"transcript\"][segment]['Segment Desc'])\n",
    "                    #print(segment)\n",
    "                    if data[\"transcript\"][segment]['Segment Desc'] != []:\n",
    "                        segment_title_list.append(data[\"transcript\"][segment]['Segment Desc'])\n",
    "                    else:\n",
    "                        pass\n",
    "                \n",
    "            else:\n",
    "                pass\n",
    "        except Exception as e:\n",
    "            pass\n",
    "        \n",
    "print(len(segment_title_list))\n",
    "print()\n",
    "#print(len([i for i in segment_title_list if i != ''])) \n",
    "\n",
    "#' '.join(i for i in segment_title_list if i != '')"
   ]
  },
  {
   "cell_type": "code",
   "execution_count": 3,
   "id": "22e0df01",
   "metadata": {},
   "outputs": [],
   "source": [
    "#doc = ' '.join(i for i in segment_title_list if i != '')\n",
    "#segment_questions_list\n",
    "\n",
    "from keybert import KeyBERT\n",
    "\n",
    "doc = ' '.join(i for i in segment_title_list if i != '')\n",
    "kw_model = KeyBERT()\n",
    "#keywords = kw_model.extract_keywords(doc)"
   ]
  },
  {
   "cell_type": "code",
   "execution_count": 4,
   "id": "929c6d03",
   "metadata": {},
   "outputs": [
    {
     "name": "stdout",
     "output_type": "stream",
     "text": [
      "Ngram - 1\n",
      "[('internment', 0.4689), ('japantown', 0.3774), ('immigrated', 0.3708), ('remarrying', 0.3666), ('japantowns', 0.3614), ('remarry', 0.3586), ('okinawa', 0.3504), ('meiji', 0.3482), ('families', 0.3478), ('interned', 0.3391), ('japanese', 0.3351), ('okinawan', 0.3346), ('intergenerational', 0.3318), ('remarriage', 0.3314), ('reunion', 0.3278), ('upbringing', 0.3209), ('custody', 0.3206), ('repatriation', 0.3196), ('honolulu', 0.3184), ('expatriation', 0.3184), ('parenting', 0.315), ('reunions', 0.3132), ('parental', 0.3123), ('intermarriage', 0.3111), ('immigration', 0.308), ('yoshimura', 0.3054), ('tokyo', 0.3036), ('takashi', 0.3026), ('estranged', 0.3001), ('resident', 0.2986), ('chinatown', 0.2979), ('parent', 0.2951), ('convictions', 0.2932), ('childhood', 0.2931), ('family', 0.293), ('remarries', 0.2927), ('memories', 0.2924), ('yoshi', 0.2909), ('repatriating', 0.2906), ('remembrance', 0.2901)]\n",
      "\n",
      "Ngram - 2\n",
      "[('japanese families', 0.5452), ('families japanese', 0.5348), ('father internment', 0.5204), ('japan parents', 0.5087), ('japan childhood', 0.5047), ('japantown relationships', 0.5046), ('japanese experience', 0.5019), ('internment at', 0.5014), ('becoming japanese', 0.501), ('internment in', 0.497), ('japantown coping', 0.4929), ('japan experiences', 0.4913), ('experiences japanese', 0.4907), ('japanese immigrant', 0.4878), ('japanese relationship', 0.4865), ('japanese family', 0.4862), ('japantown memories', 0.4857), ('japantown family', 0.485), ('department internment', 0.4831), ('parents japanese', 0.4815), ('internment on', 0.4813), ('various internment', 0.4804), ('marrying japanese', 0.4802), ('japan memories', 0.4796), ('internment affected', 0.4788), ('internment to', 0.4778), ('japan family', 0.4772), ('childhood japanese', 0.4771), ('justice internment', 0.4764), ('attending japanese', 0.4761), ('internment preparing', 0.4749), ('fe internment', 0.4745), ('internment camp', 0.474), ('japanese descent', 0.4728), ('marriage japanese', 0.4722), ('japanese wartime', 0.4713), ('internment cases', 0.4712), ('japanese involvement', 0.471), ('internment of', 0.4703), ('war internment', 0.47)]\n",
      "\n",
      "Ngram - 3\n",
      "[('meeting japanese families', 0.6094), ('japan family experiences', 0.6087), ('japanese families experiencing', 0.606), ('employing japanese families', 0.6053), ('family postwar japanese', 0.6016), ('japanese american families', 0.593), ('japan family background', 0.5834), ('japanese family background', 0.5789), ('childhood attending japanese', 0.5769), ('to japanese families', 0.5764), ('japanese families being', 0.5736), ('japanese families in', 0.5729), ('families in japan', 0.5713), ('of japanese families', 0.5697), ('japan postwar family', 0.5687), ('japan family postwar', 0.5678), ('the japanese families', 0.5674), ('japan parents wartime', 0.5643), ('family to japan', 0.5608), ('memories attending japanese', 0.5598), ('japan parents establishment', 0.559), ('japan meeting family', 0.5553), ('internment camp parents', 0.555), ('family attending japanese', 0.5547), ('japan childhood memories', 0.5546), ('experiences japanese american', 0.5541), ('japanese families on', 0.553), ('experiences in japan', 0.5525), ('family in japan', 0.5494), ('experiences in internment', 0.5487), ('japanese family attending', 0.5482), ('japanese families while', 0.547), ('japanese families description', 0.5465), ('background attending japanese', 0.5462), ('visiting japan parents', 0.5461), ('japanese families', 0.5452), ('parents in japan', 0.5431), ('family background japanese', 0.5426), ('japanese american experiences', 0.5425), ('parents japanese immigrants', 0.5417)]\n",
      "\n"
     ]
    }
   ],
   "source": [
    "#kw_model.extract_keywords(doc, keyphrase_ngram_range=(1, 3), stop_words=None)\n",
    "#doc = ' '.join(i for i in segment_questions_list if i != '')\n",
    "for i in range(1,4):\n",
    "    print(\"Ngram - {}\".format(i))\n",
    "    keywords = kw_model.extract_keywords(doc, keyphrase_ngram_range=(1, i), top_n=40, stop_words=None)\n",
    "    print(keywords)\n",
    "    print()"
   ]
  },
  {
   "cell_type": "code",
   "execution_count": null,
   "id": "32dfa52d",
   "metadata": {},
   "outputs": [],
   "source": []
  }
 ],
 "metadata": {
  "kernelspec": {
   "display_name": "Python 3 (ipykernel)",
   "language": "python",
   "name": "python3"
  },
  "language_info": {
   "codemirror_mode": {
    "name": "ipython",
    "version": 3
   },
   "file_extension": ".py",
   "mimetype": "text/x-python",
   "name": "python",
   "nbconvert_exporter": "python",
   "pygments_lexer": "ipython3",
   "version": "3.9.7"
  }
 },
 "nbformat": 4,
 "nbformat_minor": 5
}
